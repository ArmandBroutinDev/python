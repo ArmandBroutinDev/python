{
 "cells": [
  {
   "cell_type": "markdown",
   "metadata": {},
   "source": [
    "# Projet"
   ]
  },
  {
   "cell_type": "markdown",
   "metadata": {},
   "source": [
    "Dataset sur plus de 6000 recettes de plats indiens"
   ]
  },
  {
   "cell_type": "markdown",
   "metadata": {},
   "source": [
    "## problématique"
   ]
  },
  {
   "cell_type": "markdown",
   "metadata": {},
   "source": [
    "problématique temporaire : quels sont les ingrédients les plus utilisés en fonction des types de cuisines (régions) ?<br>\n",
    "ou à quels types de repas on prend le plus de temps de préparation<br>\n",
    "ou quels sont les types de dietes les plus contraignants sur les ingrédients"
   ]
  },
  {
   "cell_type": "markdown",
   "metadata": {},
   "source": [
    "## imports"
   ]
  },
  {
   "cell_type": "code",
   "execution_count": 332,
   "metadata": {},
   "outputs": [],
   "source": [
    "import numpy as np\n",
    "import matplotlib.pyplot as plt\n",
    "import pandas as pd\n",
    "import sklearn as skn\n",
    "from sklearn import tree\n",
    "from sklearn.tree import DecisionTreeRegressor\n",
    "import graphviz"
   ]
  },
  {
   "cell_type": "code",
   "execution_count": 333,
   "metadata": {},
   "outputs": [],
   "source": [
    "recipes = pd.read_csv(\"recipes/IndianFoodDatasetCSV.csv\",index_col=0)"
   ]
  },
  {
   "cell_type": "code",
   "execution_count": 334,
   "metadata": {},
   "outputs": [
    {
     "data": {
      "text/html": [
       "<div>\n",
       "<style scoped>\n",
       "    .dataframe tbody tr th:only-of-type {\n",
       "        vertical-align: middle;\n",
       "    }\n",
       "\n",
       "    .dataframe tbody tr th {\n",
       "        vertical-align: top;\n",
       "    }\n",
       "\n",
       "    .dataframe thead th {\n",
       "        text-align: right;\n",
       "    }\n",
       "</style>\n",
       "<table border=\"1\" class=\"dataframe\">\n",
       "  <thead>\n",
       "    <tr style=\"text-align: right;\">\n",
       "      <th></th>\n",
       "      <th>RecipeName</th>\n",
       "      <th>TranslatedRecipeName</th>\n",
       "      <th>Ingredients</th>\n",
       "      <th>TranslatedIngredients</th>\n",
       "      <th>PrepTimeInMins</th>\n",
       "      <th>CookTimeInMins</th>\n",
       "      <th>TotalTimeInMins</th>\n",
       "      <th>Servings</th>\n",
       "      <th>Cuisine</th>\n",
       "      <th>Course</th>\n",
       "      <th>Diet</th>\n",
       "      <th>Instructions</th>\n",
       "      <th>TranslatedInstructions</th>\n",
       "      <th>URL</th>\n",
       "    </tr>\n",
       "    <tr>\n",
       "      <th>Srno</th>\n",
       "      <th></th>\n",
       "      <th></th>\n",
       "      <th></th>\n",
       "      <th></th>\n",
       "      <th></th>\n",
       "      <th></th>\n",
       "      <th></th>\n",
       "      <th></th>\n",
       "      <th></th>\n",
       "      <th></th>\n",
       "      <th></th>\n",
       "      <th></th>\n",
       "      <th></th>\n",
       "      <th></th>\n",
       "    </tr>\n",
       "  </thead>\n",
       "  <tbody>\n",
       "    <tr>\n",
       "      <th>1</th>\n",
       "      <td>Masala Karela Recipe</td>\n",
       "      <td>Masala Karela Recipe</td>\n",
       "      <td>6 Karela (Bitter Gourd/ Pavakkai) - deseeded,S...</td>\n",
       "      <td>6 Karela (Bitter Gourd/ Pavakkai) - deseeded,S...</td>\n",
       "      <td>15</td>\n",
       "      <td>30</td>\n",
       "      <td>45</td>\n",
       "      <td>6</td>\n",
       "      <td>Indian</td>\n",
       "      <td>Side Dish</td>\n",
       "      <td>Diabetic Friendly</td>\n",
       "      <td>To begin making the Masala Karela Recipe,de-se...</td>\n",
       "      <td>To begin making the Masala Karela Recipe,de-se...</td>\n",
       "      <td>https://www.archanaskitchen.com/masala-karela-...</td>\n",
       "    </tr>\n",
       "    <tr>\n",
       "      <th>2</th>\n",
       "      <td>टमाटर पुलियोगरे रेसिपी - Spicy Tomato Rice (Re...</td>\n",
       "      <td>Spicy Tomato Rice (Recipe)</td>\n",
       "      <td>2-1/2 कप चावल - पका ले,3 टमाटर,3 छोटा चमच्च बी...</td>\n",
       "      <td>2-1 / 2 cups rice - cooked, 3 tomatoes, 3 teas...</td>\n",
       "      <td>5</td>\n",
       "      <td>10</td>\n",
       "      <td>15</td>\n",
       "      <td>3</td>\n",
       "      <td>South Indian Recipes</td>\n",
       "      <td>Main Course</td>\n",
       "      <td>Vegetarian</td>\n",
       "      <td>टमाटर पुलियोगरे बनाने के लिए सबसे पहले टमाटर क...</td>\n",
       "      <td>To make tomato puliogere, first cut the tomato...</td>\n",
       "      <td>http://www.archanaskitchen.com/spicy-tomato-ri...</td>\n",
       "    </tr>\n",
       "    <tr>\n",
       "      <th>3</th>\n",
       "      <td>Ragi Semiya Upma Recipe - Ragi Millet Vermicel...</td>\n",
       "      <td>Ragi Semiya Upma Recipe - Ragi Millet Vermicel...</td>\n",
       "      <td>1-1/2 cups Rice Vermicelli Noodles (Thin),1 On...</td>\n",
       "      <td>1-1/2 cups Rice Vermicelli Noodles (Thin),1 On...</td>\n",
       "      <td>20</td>\n",
       "      <td>30</td>\n",
       "      <td>50</td>\n",
       "      <td>4</td>\n",
       "      <td>South Indian Recipes</td>\n",
       "      <td>South Indian Breakfast</td>\n",
       "      <td>High Protein Vegetarian</td>\n",
       "      <td>To begin making the Ragi Vermicelli Recipe, fi...</td>\n",
       "      <td>To begin making the Ragi Vermicelli Recipe, fi...</td>\n",
       "      <td>http://www.archanaskitchen.com/ragi-vermicelli...</td>\n",
       "    </tr>\n",
       "    <tr>\n",
       "      <th>4</th>\n",
       "      <td>Gongura Chicken Curry Recipe - Andhra Style Go...</td>\n",
       "      <td>Gongura Chicken Curry Recipe - Andhra Style Go...</td>\n",
       "      <td>500 grams Chicken,2 Onion - chopped,1 Tomato -...</td>\n",
       "      <td>500 grams Chicken,2 Onion - chopped,1 Tomato -...</td>\n",
       "      <td>15</td>\n",
       "      <td>30</td>\n",
       "      <td>45</td>\n",
       "      <td>4</td>\n",
       "      <td>Andhra</td>\n",
       "      <td>Lunch</td>\n",
       "      <td>Non Vegeterian</td>\n",
       "      <td>To begin making Gongura Chicken Curry Recipe f...</td>\n",
       "      <td>To begin making Gongura Chicken Curry Recipe f...</td>\n",
       "      <td>http://www.archanaskitchen.com/gongura-chicken...</td>\n",
       "    </tr>\n",
       "    <tr>\n",
       "      <th>5</th>\n",
       "      <td>आंध्रा स्टाइल आलम पचड़ी रेसिपी - Adrak Chutney ...</td>\n",
       "      <td>Andhra Style Alam Pachadi Recipe - Adrak Chutn...</td>\n",
       "      <td>1 बड़ा चमच्च चना दाल,1 बड़ा चमच्च सफ़ेद उरद दाल,2...</td>\n",
       "      <td>1 tablespoon chana dal, 1 tablespoon white ura...</td>\n",
       "      <td>10</td>\n",
       "      <td>20</td>\n",
       "      <td>30</td>\n",
       "      <td>4</td>\n",
       "      <td>Andhra</td>\n",
       "      <td>South Indian Breakfast</td>\n",
       "      <td>Vegetarian</td>\n",
       "      <td>आंध्रा स्टाइल आलम पचड़ी बनाने के लिए सबसे पहले ...</td>\n",
       "      <td>To make Andhra Style Alam Pachadi, first heat ...</td>\n",
       "      <td>https://www.archanaskitchen.com/andhra-style-a...</td>\n",
       "    </tr>\n",
       "  </tbody>\n",
       "</table>\n",
       "</div>"
      ],
      "text/plain": [
       "                                             RecipeName  \\\n",
       "Srno                                                      \n",
       "1                                  Masala Karela Recipe   \n",
       "2     टमाटर पुलियोगरे रेसिपी - Spicy Tomato Rice (Re...   \n",
       "3     Ragi Semiya Upma Recipe - Ragi Millet Vermicel...   \n",
       "4     Gongura Chicken Curry Recipe - Andhra Style Go...   \n",
       "5     आंध्रा स्टाइल आलम पचड़ी रेसिपी - Adrak Chutney ...   \n",
       "\n",
       "                                   TranslatedRecipeName  \\\n",
       "Srno                                                      \n",
       "1                                  Masala Karela Recipe   \n",
       "2                            Spicy Tomato Rice (Recipe)   \n",
       "3     Ragi Semiya Upma Recipe - Ragi Millet Vermicel...   \n",
       "4     Gongura Chicken Curry Recipe - Andhra Style Go...   \n",
       "5     Andhra Style Alam Pachadi Recipe - Adrak Chutn...   \n",
       "\n",
       "                                            Ingredients  \\\n",
       "Srno                                                      \n",
       "1     6 Karela (Bitter Gourd/ Pavakkai) - deseeded,S...   \n",
       "2     2-1/2 कप चावल - पका ले,3 टमाटर,3 छोटा चमच्च बी...   \n",
       "3     1-1/2 cups Rice Vermicelli Noodles (Thin),1 On...   \n",
       "4     500 grams Chicken,2 Onion - chopped,1 Tomato -...   \n",
       "5     1 बड़ा चमच्च चना दाल,1 बड़ा चमच्च सफ़ेद उरद दाल,2...   \n",
       "\n",
       "                                  TranslatedIngredients  PrepTimeInMins  \\\n",
       "Srno                                                                      \n",
       "1     6 Karela (Bitter Gourd/ Pavakkai) - deseeded,S...              15   \n",
       "2     2-1 / 2 cups rice - cooked, 3 tomatoes, 3 teas...               5   \n",
       "3     1-1/2 cups Rice Vermicelli Noodles (Thin),1 On...              20   \n",
       "4     500 grams Chicken,2 Onion - chopped,1 Tomato -...              15   \n",
       "5     1 tablespoon chana dal, 1 tablespoon white ura...              10   \n",
       "\n",
       "      CookTimeInMins  TotalTimeInMins  Servings               Cuisine  \\\n",
       "Srno                                                                    \n",
       "1                 30               45         6                Indian   \n",
       "2                 10               15         3  South Indian Recipes   \n",
       "3                 30               50         4  South Indian Recipes   \n",
       "4                 30               45         4                Andhra   \n",
       "5                 20               30         4                Andhra   \n",
       "\n",
       "                      Course                     Diet  \\\n",
       "Srno                                                    \n",
       "1                  Side Dish        Diabetic Friendly   \n",
       "2                Main Course               Vegetarian   \n",
       "3     South Indian Breakfast  High Protein Vegetarian   \n",
       "4                      Lunch           Non Vegeterian   \n",
       "5     South Indian Breakfast               Vegetarian   \n",
       "\n",
       "                                           Instructions  \\\n",
       "Srno                                                      \n",
       "1     To begin making the Masala Karela Recipe,de-se...   \n",
       "2     टमाटर पुलियोगरे बनाने के लिए सबसे पहले टमाटर क...   \n",
       "3     To begin making the Ragi Vermicelli Recipe, fi...   \n",
       "4     To begin making Gongura Chicken Curry Recipe f...   \n",
       "5     आंध्रा स्टाइल आलम पचड़ी बनाने के लिए सबसे पहले ...   \n",
       "\n",
       "                                 TranslatedInstructions  \\\n",
       "Srno                                                      \n",
       "1     To begin making the Masala Karela Recipe,de-se...   \n",
       "2     To make tomato puliogere, first cut the tomato...   \n",
       "3     To begin making the Ragi Vermicelli Recipe, fi...   \n",
       "4     To begin making Gongura Chicken Curry Recipe f...   \n",
       "5     To make Andhra Style Alam Pachadi, first heat ...   \n",
       "\n",
       "                                                    URL  \n",
       "Srno                                                     \n",
       "1     https://www.archanaskitchen.com/masala-karela-...  \n",
       "2     http://www.archanaskitchen.com/spicy-tomato-ri...  \n",
       "3     http://www.archanaskitchen.com/ragi-vermicelli...  \n",
       "4     http://www.archanaskitchen.com/gongura-chicken...  \n",
       "5     https://www.archanaskitchen.com/andhra-style-a...  "
      ]
     },
     "execution_count": 334,
     "metadata": {},
     "output_type": "execute_result"
    }
   ],
   "source": [
    "recipes.head()"
   ]
  },
  {
   "cell_type": "markdown",
   "metadata": {},
   "source": [
    "## Partie 1 Analyse graphique des données"
   ]
  },
  {
   "cell_type": "markdown",
   "metadata": {},
   "source": [
    "### datacleaning"
   ]
  },
  {
   "cell_type": "markdown",
   "metadata": {},
   "source": [
    "il faut clean le dataset et séparer tout les ingrédients de la liste (la quantité importe peu)<br>\n",
    "(on peut mettre de coté les colonnes ingredients et recipename qui contiennent de l'indien et font doublon avec les colonnes traduites)<br>\n",
    "(pareil pour url et instructions)"
   ]
  },
  {
   "cell_type": "code",
   "execution_count": 335,
   "metadata": {
    "scrolled": false
   },
   "outputs": [
    {
     "data": {
      "text/plain": [
       "RecipeName                object\n",
       "TranslatedRecipeName      object\n",
       "Ingredients               object\n",
       "TranslatedIngredients     object\n",
       "PrepTimeInMins             int64\n",
       "CookTimeInMins             int64\n",
       "TotalTimeInMins            int64\n",
       "Servings                   int64\n",
       "Cuisine                   object\n",
       "Course                    object\n",
       "Diet                      object\n",
       "Instructions              object\n",
       "TranslatedInstructions    object\n",
       "URL                       object\n",
       "dtype: object"
      ]
     },
     "execution_count": 335,
     "metadata": {},
     "output_type": "execute_result"
    }
   ],
   "source": [
    "recipes.dtypes"
   ]
  },
  {
   "cell_type": "markdown",
   "metadata": {},
   "source": [
    "on regarde si y a des lignes vides (pour les jeter, si y en a peu vu que ça changera peu au resultat final et fait gagner du temps)"
   ]
  },
  {
   "cell_type": "code",
   "execution_count": 336,
   "metadata": {
    "scrolled": true
   },
   "outputs": [
    {
     "data": {
      "text/plain": [
       "RecipeName                0\n",
       "TranslatedRecipeName      0\n",
       "Ingredients               6\n",
       "TranslatedIngredients     6\n",
       "PrepTimeInMins            0\n",
       "CookTimeInMins            0\n",
       "TotalTimeInMins           0\n",
       "Servings                  0\n",
       "Cuisine                   0\n",
       "Course                    0\n",
       "Diet                      0\n",
       "Instructions              0\n",
       "TranslatedInstructions    0\n",
       "URL                       0\n",
       "dtype: int64"
      ]
     },
     "execution_count": 336,
     "metadata": {},
     "output_type": "execute_result"
    }
   ],
   "source": [
    "recipes.isna().sum()"
   ]
  },
  {
   "cell_type": "markdown",
   "metadata": {},
   "source": [
    "on retire les colonnes qui font doublons ou considérées inutiles"
   ]
  },
  {
   "cell_type": "code",
   "execution_count": 337,
   "metadata": {},
   "outputs": [],
   "source": [
    "clean = recipes.drop(labels=[\"RecipeName\",\"Ingredients\",\"Instructions\",\"URL\"],axis=1)"
   ]
  },
  {
   "cell_type": "code",
   "execution_count": 338,
   "metadata": {},
   "outputs": [],
   "source": [
    "clean = clean.dropna(how='any',subset=['TranslatedIngredients'])"
   ]
  },
  {
   "cell_type": "markdown",
   "metadata": {},
   "source": [
    "on renomme les colonnes pour plus de lisibilité"
   ]
  },
  {
   "cell_type": "code",
   "execution_count": 339,
   "metadata": {},
   "outputs": [],
   "source": [
    "clean = clean.rename(columns = {'TranslatedRecipeName':'Recipes','TranslatedIngredients':'Ingredients','TranslatedInstructions':'Instructions'}) "
   ]
  },
  {
   "cell_type": "markdown",
   "metadata": {},
   "source": [
    "on va faire passer les minutes qui sont en entier en datetime pour respecter la consigne"
   ]
  },
  {
   "cell_type": "code",
   "execution_count": 360,
   "metadata": {},
   "outputs": [],
   "source": [
    "clean['TotalTimeInMins'] = pd.to_datetime(clean['TotalTimeInMins'], unit='m').dt.minute\n",
    "clean['CookTimeInMins'] = pd.to_datetime(clean['CookTimeInMins'], unit='m').dt.minute\n",
    "clean['PrepTimeInMins'] = pd.to_datetime(clean['PrepTimeInMins'], unit='m').dt.minute"
   ]
  },
  {
   "cell_type": "markdown",
   "metadata": {},
   "source": [
    "pour recuperer les minutes on peut faire :"
   ]
  },
  {
   "cell_type": "code",
   "execution_count": 341,
   "metadata": {},
   "outputs": [
    {
     "data": {
      "text/plain": [
       "Srno\n",
       "1        45\n",
       "2        15\n",
       "3        50\n",
       "4        45\n",
       "5        30\n",
       "         ..\n",
       "14073     0\n",
       "14107    30\n",
       "14165    15\n",
       "14167    15\n",
       "14211    40\n",
       "Name: TotalTimeInMins, Length: 6865, dtype: int64"
      ]
     },
     "execution_count": 341,
     "metadata": {},
     "output_type": "execute_result"
    }
   ],
   "source": [
    "pd.to_datetime(clean['TotalTimeInMins'], unit='m').dt.minute"
   ]
  },
  {
   "cell_type": "code",
   "execution_count": 342,
   "metadata": {},
   "outputs": [
    {
     "data": {
      "text/plain": [
       "'6 Karela (Bitter Gourd/ Pavakkai) - deseeded,Salt - to taste,1 Onion - thinly sliced,3 tablespoon Gram flour (besan),2 teaspoons Turmeric powder (Haldi),1 tablespoon Red Chilli powder,2 teaspoons Cumin seeds (Jeera),1 tablespoon Coriander Powder (Dhania),1 tablespoon Amchur (Dry Mango Powder),Sunflower Oil - as required'"
      ]
     },
     "execution_count": 342,
     "metadata": {},
     "output_type": "execute_result"
    }
   ],
   "source": [
    "clean['Ingredients'][1]"
   ]
  },
  {
   "cell_type": "code",
   "execution_count": 343,
   "metadata": {},
   "outputs": [
    {
     "name": "stderr",
     "output_type": "stream",
     "text": [
      "<ipython-input-343-acfd74e62fab>:3: SettingWithCopyWarning: \n",
      "A value is trying to be set on a copy of a slice from a DataFrame\n",
      "\n",
      "See the caveats in the documentation: https://pandas.pydata.org/pandas-docs/stable/user_guide/indexing.html#returning-a-view-versus-a-copy\n",
      "  clean['nbrOfIngr'][val] = clean['Ingredients'][val].count(',')+1\n"
     ]
    }
   ],
   "source": [
    "clean['nbrOfIngr'] = clean['Servings']\n",
    "for val in clean.index:\n",
    "    clean['nbrOfIngr'][val] = clean['Ingredients'][val].count(',')+1"
   ]
  },
  {
   "cell_type": "code",
   "execution_count": 344,
   "metadata": {
    "scrolled": true
   },
   "outputs": [
    {
     "data": {
      "text/html": [
       "<div>\n",
       "<style scoped>\n",
       "    .dataframe tbody tr th:only-of-type {\n",
       "        vertical-align: middle;\n",
       "    }\n",
       "\n",
       "    .dataframe tbody tr th {\n",
       "        vertical-align: top;\n",
       "    }\n",
       "\n",
       "    .dataframe thead th {\n",
       "        text-align: right;\n",
       "    }\n",
       "</style>\n",
       "<table border=\"1\" class=\"dataframe\">\n",
       "  <thead>\n",
       "    <tr style=\"text-align: right;\">\n",
       "      <th></th>\n",
       "      <th>Recipes</th>\n",
       "      <th>Ingredients</th>\n",
       "      <th>PrepTimeInMins</th>\n",
       "      <th>CookTimeInMins</th>\n",
       "      <th>TotalTimeInMins</th>\n",
       "      <th>Servings</th>\n",
       "      <th>Cuisine</th>\n",
       "      <th>Course</th>\n",
       "      <th>Diet</th>\n",
       "      <th>Instructions</th>\n",
       "      <th>nbrOfIngr</th>\n",
       "    </tr>\n",
       "    <tr>\n",
       "      <th>Srno</th>\n",
       "      <th></th>\n",
       "      <th></th>\n",
       "      <th></th>\n",
       "      <th></th>\n",
       "      <th></th>\n",
       "      <th></th>\n",
       "      <th></th>\n",
       "      <th></th>\n",
       "      <th></th>\n",
       "      <th></th>\n",
       "      <th></th>\n",
       "    </tr>\n",
       "  </thead>\n",
       "  <tbody>\n",
       "    <tr>\n",
       "      <th>1</th>\n",
       "      <td>Masala Karela Recipe</td>\n",
       "      <td>6 Karela (Bitter Gourd/ Pavakkai) - deseeded,S...</td>\n",
       "      <td>1970-01-01 00:15:00</td>\n",
       "      <td>1970-01-01 00:30:00</td>\n",
       "      <td>1970-01-01 00:45:00</td>\n",
       "      <td>6</td>\n",
       "      <td>Indian</td>\n",
       "      <td>Side Dish</td>\n",
       "      <td>Diabetic Friendly</td>\n",
       "      <td>To begin making the Masala Karela Recipe,de-se...</td>\n",
       "      <td>10</td>\n",
       "    </tr>\n",
       "    <tr>\n",
       "      <th>2</th>\n",
       "      <td>Spicy Tomato Rice (Recipe)</td>\n",
       "      <td>2-1 / 2 cups rice - cooked, 3 tomatoes, 3 teas...</td>\n",
       "      <td>1970-01-01 00:05:00</td>\n",
       "      <td>1970-01-01 00:10:00</td>\n",
       "      <td>1970-01-01 00:15:00</td>\n",
       "      <td>3</td>\n",
       "      <td>South Indian Recipes</td>\n",
       "      <td>Main Course</td>\n",
       "      <td>Vegetarian</td>\n",
       "      <td>To make tomato puliogere, first cut the tomato...</td>\n",
       "      <td>12</td>\n",
       "    </tr>\n",
       "    <tr>\n",
       "      <th>3</th>\n",
       "      <td>Ragi Semiya Upma Recipe - Ragi Millet Vermicel...</td>\n",
       "      <td>1-1/2 cups Rice Vermicelli Noodles (Thin),1 On...</td>\n",
       "      <td>1970-01-01 00:20:00</td>\n",
       "      <td>1970-01-01 00:30:00</td>\n",
       "      <td>1970-01-01 00:50:00</td>\n",
       "      <td>4</td>\n",
       "      <td>South Indian Recipes</td>\n",
       "      <td>South Indian Breakfast</td>\n",
       "      <td>High Protein Vegetarian</td>\n",
       "      <td>To begin making the Ragi Vermicelli Recipe, fi...</td>\n",
       "      <td>12</td>\n",
       "    </tr>\n",
       "    <tr>\n",
       "      <th>4</th>\n",
       "      <td>Gongura Chicken Curry Recipe - Andhra Style Go...</td>\n",
       "      <td>500 grams Chicken,2 Onion - chopped,1 Tomato -...</td>\n",
       "      <td>1970-01-01 00:15:00</td>\n",
       "      <td>1970-01-01 00:30:00</td>\n",
       "      <td>1970-01-01 00:45:00</td>\n",
       "      <td>4</td>\n",
       "      <td>Andhra</td>\n",
       "      <td>Lunch</td>\n",
       "      <td>Non Vegeterian</td>\n",
       "      <td>To begin making Gongura Chicken Curry Recipe f...</td>\n",
       "      <td>18</td>\n",
       "    </tr>\n",
       "    <tr>\n",
       "      <th>5</th>\n",
       "      <td>Andhra Style Alam Pachadi Recipe - Adrak Chutn...</td>\n",
       "      <td>1 tablespoon chana dal, 1 tablespoon white ura...</td>\n",
       "      <td>1970-01-01 00:10:00</td>\n",
       "      <td>1970-01-01 00:20:00</td>\n",
       "      <td>1970-01-01 00:30:00</td>\n",
       "      <td>4</td>\n",
       "      <td>Andhra</td>\n",
       "      <td>South Indian Breakfast</td>\n",
       "      <td>Vegetarian</td>\n",
       "      <td>To make Andhra Style Alam Pachadi, first heat ...</td>\n",
       "      <td>12</td>\n",
       "    </tr>\n",
       "  </tbody>\n",
       "</table>\n",
       "</div>"
      ],
      "text/plain": [
       "                                                Recipes  \\\n",
       "Srno                                                      \n",
       "1                                  Masala Karela Recipe   \n",
       "2                            Spicy Tomato Rice (Recipe)   \n",
       "3     Ragi Semiya Upma Recipe - Ragi Millet Vermicel...   \n",
       "4     Gongura Chicken Curry Recipe - Andhra Style Go...   \n",
       "5     Andhra Style Alam Pachadi Recipe - Adrak Chutn...   \n",
       "\n",
       "                                            Ingredients      PrepTimeInMins  \\\n",
       "Srno                                                                          \n",
       "1     6 Karela (Bitter Gourd/ Pavakkai) - deseeded,S... 1970-01-01 00:15:00   \n",
       "2     2-1 / 2 cups rice - cooked, 3 tomatoes, 3 teas... 1970-01-01 00:05:00   \n",
       "3     1-1/2 cups Rice Vermicelli Noodles (Thin),1 On... 1970-01-01 00:20:00   \n",
       "4     500 grams Chicken,2 Onion - chopped,1 Tomato -... 1970-01-01 00:15:00   \n",
       "5     1 tablespoon chana dal, 1 tablespoon white ura... 1970-01-01 00:10:00   \n",
       "\n",
       "          CookTimeInMins     TotalTimeInMins  Servings               Cuisine  \\\n",
       "Srno                                                                           \n",
       "1    1970-01-01 00:30:00 1970-01-01 00:45:00         6                Indian   \n",
       "2    1970-01-01 00:10:00 1970-01-01 00:15:00         3  South Indian Recipes   \n",
       "3    1970-01-01 00:30:00 1970-01-01 00:50:00         4  South Indian Recipes   \n",
       "4    1970-01-01 00:30:00 1970-01-01 00:45:00         4                Andhra   \n",
       "5    1970-01-01 00:20:00 1970-01-01 00:30:00         4                Andhra   \n",
       "\n",
       "                      Course                     Diet  \\\n",
       "Srno                                                    \n",
       "1                  Side Dish        Diabetic Friendly   \n",
       "2                Main Course               Vegetarian   \n",
       "3     South Indian Breakfast  High Protein Vegetarian   \n",
       "4                      Lunch           Non Vegeterian   \n",
       "5     South Indian Breakfast               Vegetarian   \n",
       "\n",
       "                                           Instructions  nbrOfIngr  \n",
       "Srno                                                                \n",
       "1     To begin making the Masala Karela Recipe,de-se...         10  \n",
       "2     To make tomato puliogere, first cut the tomato...         12  \n",
       "3     To begin making the Ragi Vermicelli Recipe, fi...         12  \n",
       "4     To begin making Gongura Chicken Curry Recipe f...         18  \n",
       "5     To make Andhra Style Alam Pachadi, first heat ...         12  "
      ]
     },
     "execution_count": 344,
     "metadata": {},
     "output_type": "execute_result"
    }
   ],
   "source": [
    "clean.head()"
   ]
  },
  {
   "cell_type": "markdown",
   "metadata": {},
   "source": [
    "### regroupage des données"
   ]
  },
  {
   "cell_type": "markdown",
   "metadata": {},
   "source": [
    "on va regrouper les valeurs trop uniques dans Cuisine, Course et Diet"
   ]
  },
  {
   "cell_type": "code",
   "execution_count": 345,
   "metadata": {},
   "outputs": [
    {
     "data": {
      "text/plain": [
       "Indian                  1157\n",
       "Continental             1020\n",
       "North Indian Recipes     936\n",
       "South Indian Recipes     681\n",
       "Italian Recipes          235\n",
       "                        ... \n",
       "Burmese                    1\n",
       "Jewish                     1\n",
       "Shandong                   1\n",
       "Side Dish                  1\n",
       "Brunch                     1\n",
       "Name: Cuisine, Length: 82, dtype: int64"
      ]
     },
     "execution_count": 345,
     "metadata": {},
     "output_type": "execute_result"
    }
   ],
   "source": [
    "clean['Cuisine'].value_counts()"
   ]
  },
  {
   "cell_type": "code",
   "execution_count": 346,
   "metadata": {},
   "outputs": [
    {
     "name": "stderr",
     "output_type": "stream",
     "text": [
      "<ipython-input-346-85cc2d79788d>:4: SettingWithCopyWarning: \n",
      "A value is trying to be set on a copy of a slice from a DataFrame\n",
      "\n",
      "See the caveats in the documentation: https://pandas.pydata.org/pandas-docs/stable/user_guide/indexing.html#returning-a-view-versus-a-copy\n",
      "  clean['Cuisine'][val] = '<20 Other'\n",
      "<ipython-input-346-85cc2d79788d>:6: SettingWithCopyWarning: \n",
      "A value is trying to be set on a copy of a slice from a DataFrame\n",
      "\n",
      "See the caveats in the documentation: https://pandas.pydata.org/pandas-docs/stable/user_guide/indexing.html#returning-a-view-versus-a-copy\n",
      "  clean['Cuisine'][val] = '<50 Other'\n"
     ]
    }
   ],
   "source": [
    "for val in clean.index:\n",
    "    if clean['Cuisine'][val] != '<20 Other' or clean['Cuisine'][val] != '<50 Other':\n",
    "        if clean['Cuisine'].value_counts()[clean['Cuisine'][val]] < 20:\n",
    "            clean['Cuisine'][val] = '<20 Other'\n",
    "        elif clean['Cuisine'].value_counts()[clean['Cuisine'][val]] < 50:\n",
    "            clean['Cuisine'][val] = '<50 Other'"
   ]
  },
  {
   "cell_type": "code",
   "execution_count": 347,
   "metadata": {
    "scrolled": true
   },
   "outputs": [
    {
     "data": {
      "text/plain": [
       "Indian                   1157\n",
       "Continental              1020\n",
       "North Indian Recipes      936\n",
       "South Indian Recipes      681\n",
       "<20 Other                 583\n",
       "Italian Recipes           235\n",
       "<50 Other                 207\n",
       "Bengali Recipes           175\n",
       "Maharashtrian Recipes     173\n",
       "Kerala Recipes            163\n",
       "Tamil Nadu                156\n",
       "Karnataka                 149\n",
       "Fusion                    135\n",
       "Rajasthani                123\n",
       "Mexican                   119\n",
       "Andhra                    118\n",
       "Gujarati Recipes﻿         115\n",
       "Goan Recipes               99\n",
       "Punjabi                    84\n",
       "Chettinad                  74\n",
       "Asian                      72\n",
       "Thai                       66\n",
       "Kashmiri                   59\n",
       "Chinese                    59\n",
       "French                     54\n",
       "Middle Eastern             53\n",
       "Name: Cuisine, dtype: int64"
      ]
     },
     "execution_count": 347,
     "metadata": {},
     "output_type": "execute_result"
    }
   ],
   "source": [
    "clean['Cuisine'].value_counts()"
   ]
  },
  {
   "cell_type": "code",
   "execution_count": 348,
   "metadata": {
    "scrolled": true
   },
   "outputs": [
    {
     "data": {
      "text/plain": [
       "Lunch                           1763\n",
       "Side Dish                        992\n",
       "Snack                            876\n",
       "Dinner                           781\n",
       "Dessert                          659\n",
       "Appetizer                        637\n",
       "Main Course                      315\n",
       "World Breakfast                  260\n",
       "South Indian Breakfast           260\n",
       "North Indian Breakfast           122\n",
       "Indian Breakfast                 101\n",
       "Vegetarian                        47\n",
       "One Pot Dish                      33\n",
       "High Protein Vegetarian            7\n",
       "Brunch                             4\n",
       "Vegan                              3\n",
       "Non Vegeterian                     2\n",
       "No Onion No Garlic (Sattvic)       1\n",
       "Sugar Free Diet                    1\n",
       "Eggetarian                         1\n",
       "Name: Course, dtype: int64"
      ]
     },
     "execution_count": 348,
     "metadata": {},
     "output_type": "execute_result"
    }
   ],
   "source": [
    "clean['Course'].value_counts()"
   ]
  },
  {
   "cell_type": "code",
   "execution_count": 349,
   "metadata": {},
   "outputs": [
    {
     "name": "stderr",
     "output_type": "stream",
     "text": [
      "<ipython-input-349-864f2997a2d6>:4: SettingWithCopyWarning: \n",
      "A value is trying to be set on a copy of a slice from a DataFrame\n",
      "\n",
      "See the caveats in the documentation: https://pandas.pydata.org/pandas-docs/stable/user_guide/indexing.html#returning-a-view-versus-a-copy\n",
      "  clean['Course'][val] = 'Other'\n"
     ]
    }
   ],
   "source": [
    "for val in clean.index:\n",
    "    if clean['Course'][val] != 'Other':\n",
    "        if clean['Course'].value_counts()[clean['Course'][val]] < 50:\n",
    "            clean['Course'][val] = 'Other'"
   ]
  },
  {
   "cell_type": "code",
   "execution_count": 350,
   "metadata": {
    "scrolled": true
   },
   "outputs": [
    {
     "data": {
      "text/plain": [
       "Lunch                     1763\n",
       "Side Dish                  992\n",
       "Snack                      876\n",
       "Dinner                     781\n",
       "Dessert                    659\n",
       "Appetizer                  637\n",
       "Main Course                315\n",
       "World Breakfast            260\n",
       "South Indian Breakfast     260\n",
       "North Indian Breakfast     122\n",
       "Indian Breakfast           101\n",
       "Other                       99\n",
       "Name: Course, dtype: int64"
      ]
     },
     "execution_count": 350,
     "metadata": {},
     "output_type": "execute_result"
    }
   ],
   "source": [
    "clean['Course'].value_counts()"
   ]
  },
  {
   "cell_type": "code",
   "execution_count": 351,
   "metadata": {
    "scrolled": true
   },
   "outputs": [
    {
     "data": {
      "text/plain": [
       "Vegetarian                      4706\n",
       "High Protein Vegetarian          705\n",
       "Non Vegeterian                   427\n",
       "Eggetarian                       344\n",
       "Diabetic Friendly                260\n",
       "High Protein Non Vegetarian      225\n",
       "No Onion No Garlic (Sattvic)      73\n",
       "Vegan                             61\n",
       "Gluten Free                       50\n",
       "Sugar Free Diet                   14\n",
       "Name: Diet, dtype: int64"
      ]
     },
     "execution_count": 351,
     "metadata": {},
     "output_type": "execute_result"
    }
   ],
   "source": [
    "clean['Diet'].value_counts()"
   ]
  },
  {
   "cell_type": "code",
   "execution_count": 352,
   "metadata": {},
   "outputs": [
    {
     "name": "stderr",
     "output_type": "stream",
     "text": [
      "<ipython-input-352-e5bc430d09da>:4: SettingWithCopyWarning: \n",
      "A value is trying to be set on a copy of a slice from a DataFrame\n",
      "\n",
      "See the caveats in the documentation: https://pandas.pydata.org/pandas-docs/stable/user_guide/indexing.html#returning-a-view-versus-a-copy\n",
      "  clean['Diet'][val] = 'Other'\n"
     ]
    }
   ],
   "source": [
    "for val in clean.index:\n",
    "    if clean['Diet'][val] != 'Other':\n",
    "        if clean['Diet'].value_counts()[clean['Diet'][val]] < 75:\n",
    "            clean['Diet'][val] = 'Other'"
   ]
  },
  {
   "cell_type": "code",
   "execution_count": 353,
   "metadata": {},
   "outputs": [
    {
     "data": {
      "text/plain": [
       "Vegetarian                     4706\n",
       "High Protein Vegetarian         705\n",
       "Non Vegeterian                  427\n",
       "Eggetarian                      344\n",
       "Diabetic Friendly               260\n",
       "High Protein Non Vegetarian     225\n",
       "Other                           198\n",
       "Name: Diet, dtype: int64"
      ]
     },
     "execution_count": 353,
     "metadata": {},
     "output_type": "execute_result"
    }
   ],
   "source": [
    "clean['Diet'].value_counts()"
   ]
  },
  {
   "cell_type": "markdown",
   "metadata": {},
   "source": [
    "je viens de constater que y a des valeurs abérantes dans les portions (servings) par exemple 1000\n",
    "et qui ont des zeros en temps, il s'agit probablement de mauvais copier coller qu'on pourrait corriger mais dans notre situation ça creer du bruit qu'on peut gerer plus tard"
   ]
  },
  {
   "cell_type": "code",
   "execution_count": 391,
   "metadata": {
    "scrolled": true
   },
   "outputs": [
    {
     "data": {
      "text/plain": [
       "4       4541\n",
       "2        972\n",
       "3        417\n",
       "6        340\n",
       "5        156\n",
       "8        110\n",
       "10        88\n",
       "1         85\n",
       "12        42\n",
       "15        27\n",
       "20        21\n",
       "100        9\n",
       "200        7\n",
       "500        5\n",
       "9          5\n",
       "40         5\n",
       "16         4\n",
       "300        4\n",
       "30         4\n",
       "25         3\n",
       "14         3\n",
       "7          3\n",
       "700        2\n",
       "400        2\n",
       "18         2\n",
       "24         1\n",
       "35         1\n",
       "80         1\n",
       "240        1\n",
       "600        1\n",
       "150        1\n",
       "250        1\n",
       "1000       1\n",
       "Name: Servings, dtype: int64"
      ]
     },
     "execution_count": 391,
     "metadata": {},
     "output_type": "execute_result"
    }
   ],
   "source": [
    "clean['Servings'].value_counts()"
   ]
  },
  {
   "cell_type": "code",
   "execution_count": 389,
   "metadata": {
    "scrolled": true
   },
   "outputs": [
    {
     "data": {
      "text/html": [
       "<div>\n",
       "<style scoped>\n",
       "    .dataframe tbody tr th:only-of-type {\n",
       "        vertical-align: middle;\n",
       "    }\n",
       "\n",
       "    .dataframe tbody tr th {\n",
       "        vertical-align: top;\n",
       "    }\n",
       "\n",
       "    .dataframe thead th {\n",
       "        text-align: right;\n",
       "    }\n",
       "</style>\n",
       "<table border=\"1\" class=\"dataframe\">\n",
       "  <thead>\n",
       "    <tr style=\"text-align: right;\">\n",
       "      <th></th>\n",
       "      <th>Recipes</th>\n",
       "      <th>Ingredients</th>\n",
       "      <th>PrepTimeInMins</th>\n",
       "      <th>CookTimeInMins</th>\n",
       "      <th>TotalTimeInMins</th>\n",
       "      <th>Servings</th>\n",
       "      <th>Cuisine</th>\n",
       "      <th>Course</th>\n",
       "      <th>Diet</th>\n",
       "      <th>Instructions</th>\n",
       "      <th>nbrOfIngr</th>\n",
       "    </tr>\n",
       "    <tr>\n",
       "      <th>Srno</th>\n",
       "      <th></th>\n",
       "      <th></th>\n",
       "      <th></th>\n",
       "      <th></th>\n",
       "      <th></th>\n",
       "      <th></th>\n",
       "      <th></th>\n",
       "      <th></th>\n",
       "      <th></th>\n",
       "      <th></th>\n",
       "      <th></th>\n",
       "    </tr>\n",
       "  </thead>\n",
       "  <tbody>\n",
       "    <tr>\n",
       "      <th>1418</th>\n",
       "      <td>High Protein Soya Idli &amp; Dosa Batter Recipe</td>\n",
       "      <td>1 cup Soybeans (Whole Soya dal) - soaked overn...</td>\n",
       "      <td>0</td>\n",
       "      <td>0</td>\n",
       "      <td>0</td>\n",
       "      <td>1000</td>\n",
       "      <td>South Indian Recipes</td>\n",
       "      <td>South Indian Breakfast</td>\n",
       "      <td>High Protein Vegetarian</td>\n",
       "      <td>To begin making the High Protein Soya Idli &amp; D...</td>\n",
       "      <td>6</td>\n",
       "    </tr>\n",
       "    <tr>\n",
       "      <th>7167</th>\n",
       "      <td>Moong Dal Idli &amp; Dosa Batter Recipe</td>\n",
       "      <td>1 cup Yellow Moong Dal (Split) - soaked overni...</td>\n",
       "      <td>0</td>\n",
       "      <td>0</td>\n",
       "      <td>0</td>\n",
       "      <td>700</td>\n",
       "      <td>South Indian Recipes</td>\n",
       "      <td>South Indian Breakfast</td>\n",
       "      <td>High Protein Vegetarian</td>\n",
       "      <td>To begin making the Moong Dal Idli and Dosa Re...</td>\n",
       "      <td>4</td>\n",
       "    </tr>\n",
       "    <tr>\n",
       "      <th>6372</th>\n",
       "      <td>Moong Dal Idli &amp; Dosa Batter Recipe</td>\n",
       "      <td>1 कप पिली मूंग दाल - रात भर भिगो ले,1 छोटा चम्...</td>\n",
       "      <td>0</td>\n",
       "      <td>0</td>\n",
       "      <td>0</td>\n",
       "      <td>700</td>\n",
       "      <td>South Indian Recipes</td>\n",
       "      <td>South Indian Breakfast</td>\n",
       "      <td>High Protein Vegetarian</td>\n",
       "      <td>To make Moong Dal Idli Dosa Batter recipe, we ...</td>\n",
       "      <td>4</td>\n",
       "    </tr>\n",
       "    <tr>\n",
       "      <th>10895</th>\n",
       "      <td>Homemade Pizza Sauce Recipe</td>\n",
       "      <td>1 kg Tomatoes,80 grams Onions,60 grams Carrots...</td>\n",
       "      <td>20</td>\n",
       "      <td>40</td>\n",
       "      <td>0</td>\n",
       "      <td>600</td>\n",
       "      <td>Italian Recipes</td>\n",
       "      <td>Dinner</td>\n",
       "      <td>Vegetarian</td>\n",
       "      <td>To begin with Homemade Pizza Sauce, heat olive...</td>\n",
       "      <td>12</td>\n",
       "    </tr>\n",
       "    <tr>\n",
       "      <th>5479</th>\n",
       "      <td>Rajasthani Gunday Pickle Recipe (Bird Lime Pic...</td>\n",
       "      <td>500 grams Gunde (bird lime),1 teaspoon Asafoet...</td>\n",
       "      <td>20</td>\n",
       "      <td>25</td>\n",
       "      <td>45</td>\n",
       "      <td>500</td>\n",
       "      <td>Rajasthani</td>\n",
       "      <td>Appetizer</td>\n",
       "      <td>Vegetarian</td>\n",
       "      <td>To Prepare Rajasthani Gunde Ka Achaar, boil th...</td>\n",
       "      <td>9</td>\n",
       "    </tr>\n",
       "  </tbody>\n",
       "</table>\n",
       "</div>"
      ],
      "text/plain": [
       "                                                 Recipes  \\\n",
       "Srno                                                       \n",
       "1418         High Protein Soya Idli & Dosa Batter Recipe   \n",
       "7167                 Moong Dal Idli & Dosa Batter Recipe   \n",
       "6372                 Moong Dal Idli & Dosa Batter Recipe   \n",
       "10895                        Homemade Pizza Sauce Recipe   \n",
       "5479   Rajasthani Gunday Pickle Recipe (Bird Lime Pic...   \n",
       "\n",
       "                                             Ingredients  PrepTimeInMins  \\\n",
       "Srno                                                                       \n",
       "1418   1 cup Soybeans (Whole Soya dal) - soaked overn...               0   \n",
       "7167   1 cup Yellow Moong Dal (Split) - soaked overni...               0   \n",
       "6372   1 कप पिली मूंग दाल - रात भर भिगो ले,1 छोटा चम्...               0   \n",
       "10895  1 kg Tomatoes,80 grams Onions,60 grams Carrots...              20   \n",
       "5479   500 grams Gunde (bird lime),1 teaspoon Asafoet...              20   \n",
       "\n",
       "       CookTimeInMins  TotalTimeInMins  Servings               Cuisine  \\\n",
       "Srno                                                                     \n",
       "1418                0                0      1000  South Indian Recipes   \n",
       "7167                0                0       700  South Indian Recipes   \n",
       "6372                0                0       700  South Indian Recipes   \n",
       "10895              40                0       600       Italian Recipes   \n",
       "5479               25               45       500            Rajasthani   \n",
       "\n",
       "                       Course                     Diet  \\\n",
       "Srno                                                     \n",
       "1418   South Indian Breakfast  High Protein Vegetarian   \n",
       "7167   South Indian Breakfast  High Protein Vegetarian   \n",
       "6372   South Indian Breakfast  High Protein Vegetarian   \n",
       "10895                  Dinner               Vegetarian   \n",
       "5479                Appetizer               Vegetarian   \n",
       "\n",
       "                                            Instructions  nbrOfIngr  \n",
       "Srno                                                                 \n",
       "1418   To begin making the High Protein Soya Idli & D...          6  \n",
       "7167   To begin making the Moong Dal Idli and Dosa Re...          4  \n",
       "6372   To make Moong Dal Idli Dosa Batter recipe, we ...          4  \n",
       "10895  To begin with Homemade Pizza Sauce, heat olive...         12  \n",
       "5479   To Prepare Rajasthani Gunde Ka Achaar, boil th...          9  "
      ]
     },
     "execution_count": 389,
     "metadata": {},
     "output_type": "execute_result"
    }
   ],
   "source": [
    "clean.sort_values('Servings',ascending=False).head()"
   ]
  },
  {
   "cell_type": "code",
   "execution_count": 392,
   "metadata": {
    "scrolled": true
   },
   "outputs": [
    {
     "data": {
      "text/plain": [
       "40    1090\n",
       "30    1004\n",
       "50     720\n",
       "35     596\n",
       "45     568\n",
       "25     503\n",
       "0      476\n",
       "20     459\n",
       "55     404\n",
       "15     397\n",
       "10     338\n",
       "5      201\n",
       "12      13\n",
       "7        9\n",
       "18       9\n",
       "22       8\n",
       "51       7\n",
       "17       6\n",
       "11       6\n",
       "13       4\n",
       "54       4\n",
       "48       4\n",
       "29       4\n",
       "42       3\n",
       "27       3\n",
       "46       3\n",
       "28       2\n",
       "24       2\n",
       "16       2\n",
       "4        2\n",
       "2        2\n",
       "3        2\n",
       "9        1\n",
       "37       1\n",
       "52       1\n",
       "53       1\n",
       "44       1\n",
       "34       1\n",
       "32       1\n",
       "38       1\n",
       "58       1\n",
       "19       1\n",
       "31       1\n",
       "8        1\n",
       "47       1\n",
       "59       1\n",
       "Name: TotalTimeInMins, dtype: int64"
      ]
     },
     "execution_count": 392,
     "metadata": {},
     "output_type": "execute_result"
    }
   ],
   "source": [
    "clean['TotalTimeInMins'].value_counts()"
   ]
  },
  {
   "cell_type": "code",
   "execution_count": 374,
   "metadata": {
    "scrolled": true
   },
   "outputs": [
    {
     "data": {
      "text/plain": [
       "Recipes            object\n",
       "Ingredients        object\n",
       "PrepTimeInMins      int64\n",
       "CookTimeInMins      int64\n",
       "TotalTimeInMins     int64\n",
       "Servings            int64\n",
       "Cuisine            object\n",
       "Course             object\n",
       "Diet               object\n",
       "Instructions       object\n",
       "nbrOfIngr           int64\n",
       "dtype: object"
      ]
     },
     "execution_count": 374,
     "metadata": {},
     "output_type": "execute_result"
    }
   ],
   "source": [
    "clean.dtypes"
   ]
  },
  {
   "cell_type": "markdown",
   "metadata": {},
   "source": [
    "### boites a moustaches"
   ]
  },
  {
   "cell_type": "code",
   "execution_count": 410,
   "metadata": {},
   "outputs": [
    {
     "data": {
      "image/png": "[encoded data removed]",
      "text/plain": [
       "<Figure size 1080x720 with 3 Axes>"
      ]
     },
     "metadata": {
      "needs_background": "light"
     },
     "output_type": "display_data"
    }
   ],
   "source": [
    "plt.figure(figsize=(15,10))\n",
    "for i, col in enumerate(['Servings','nbrOfIngr','TotalTimeInMins'], start=1):\n",
    "    plt.subplot(2,2,i)\n",
    "    clean.boxplot(col)"
   ]
  },
  {
   "cell_type": "code",
   "execution_count": null,
   "metadata": {},
   "outputs": [],
   "source": []
  },
  {
   "cell_type": "markdown",
   "metadata": {},
   "source": [
    "x[0] c'est la position de la colonne d'ou on part\n",
    "samples c'est le nombre de points pris en compte (et sera coupé en 2 a chaque choix)\n",
    "mse c'est min square error c'est mettre la droite entre tout les points pour avoir une difference entre en haut et en bas qui s'annule et mse c'est cette somme de distance\n",
    "au niveau des feuilles 1 value c'est une ligne et pour les noeuds c'est la moyenne des values par rapports aux samples\n"
   ]
  }
 ],
 "metadata": {
  "kernelspec": {
   "display_name": "Python 3",
   "language": "python",
   "name": "python3"
  },
  "language_info": {
   "codemirror_mode": {
    "name": "ipython",
    "version": 3
   },
   "file_extension": ".py",
   "mimetype": "text/x-python",
   "name": "python",
   "nbconvert_exporter": "python",
   "pygments_lexer": "ipython3",
   "version": "3.8.5"
  },
  "toc": {
   "base_numbering": 1,
   "nav_menu": {},
   "number_sections": true,
   "sideBar": true,
   "skip_h1_title": false,
   "title_cell": "Table of Contents",
   "title_sidebar": "Contents",
   "toc_cell": false,
   "toc_position": {},
   "toc_section_display": true,
   "toc_window_display": true
  },
  "varInspector": {
   "cols": {
    "lenName": 16,
    "lenType": 16,
    "lenVar": 40
   },
   "kernels_config": {
    "python": {
     "delete_cmd_postfix": "",
     "delete_cmd_prefix": "del ",
     "library": "var_list.py",
     "varRefreshCmd": "print(var_dic_list())"
    },
    "r": {
     "delete_cmd_postfix": ") ",
     "delete_cmd_prefix": "rm(",
     "library": "var_list.r",
     "varRefreshCmd": "cat(var_dic_list()) "
    }
   },
   "types_to_exclude": [
    "module",
    "function",
    "builtin_function_or_method",
    "instance",
    "_Feature"
   ],
   "window_display": false
  }
 },
 "nbformat": 4,
 "nbformat_minor": 4
}
