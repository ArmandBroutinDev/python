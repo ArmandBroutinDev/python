{
 "cells": [
  {
   "cell_type": "markdown",
   "metadata": {},
   "source": [
    "# cours sur UML"
   ]
  },
  {
   "cell_type": "code",
   "execution_count": 8,
   "metadata": {},
   "outputs": [
    {
     "name": "stdout",
     "output_type": "stream",
     "text": [
      "coucou\n"
     ]
    }
   ],
   "source": [
    "class MaClasse :\n",
    "    def maMethode(self):\n",
    "        print(\"coucou\")\n",
    "ex = MaClasse()\n",
    "ex.maMethode()"
   ]
  },
  {
   "cell_type": "code",
   "execution_count": 11,
   "metadata": {},
   "outputs": [],
   "source": [
    "class AutreClasse :\n",
    "    def __init__(self):\n",
    "        print(\"objet créé\")\n",
    "        print(\"sera appelé automatiquement a la declaration\")\n",
    "ex = MaClasse()"
   ]
  },
  {
   "cell_type": "code",
   "execution_count": 225,
   "metadata": {},
   "outputs": [],
   "source": [
    "import datetime as dt\n",
    "class Personne :\n",
    "    \"\"\"\"\"\n",
    "    Implementation d'une classe personne\n",
    "    : param nom : string , prenom : string , dateNaissance : date\n",
    "    \"\"\"\"\"\n",
    "    def __init__ (self,nom,prenom,dateNaissance):\n",
    "        self.nom = nom\n",
    "        self.prenom = prenom\n",
    "        self.dateNaissance = dateNaissance\n",
    "    def affichage(self):\n",
    "        print(\"nom {}, prenom {}, dateNaissance {}\".format(self.nom,self.prenom,self.dateNaissance))\n",
    "    def calculerAge(self) -> int :\n",
    "        return(dt.datetime.now().year - self.dateNaissance.year)"
   ]
  },
  {
   "cell_type": "code",
   "execution_count": 226,
   "metadata": {},
   "outputs": [
    {
     "name": "stdout",
     "output_type": "stream",
     "text": [
      "nom moulin, prenom jean, dateNaissance 2013-12-04 00:00:00\n"
     ]
    },
    {
     "data": {
      "text/plain": [
       "7"
      ]
     },
     "execution_count": 226,
     "metadata": {},
     "output_type": "execute_result"
    }
   ],
   "source": [
    "ex = Personne(\"moulin\",\"jean\",dt.datetime(2013,12,4))\n",
    "ex.affichage()\n",
    "ex.calculerAge()"
   ]
  },
  {
   "cell_type": "markdown",
   "metadata": {},
   "source": [
    "property"
   ]
  },
  {
   "cell_type": "code",
   "execution_count": 47,
   "metadata": {},
   "outputs": [],
   "source": [
    "class Voiture:\n",
    "    def __init__(self):\n",
    "        self._roues = 4\n",
    "    def _get_roues(self):\n",
    "        print(\"recup nbr roues\")\n",
    "        return self._roues\n",
    "    def _set_roues(self,v):\n",
    "        self._roues = v\n",
    "        print(\"changement du nombre de roues\")\n",
    "    _roues = property(_get_roues,_set_roues)"
   ]
  },
  {
   "cell_type": "markdown",
   "metadata": {},
   "source": [
    "decorateur"
   ]
  },
  {
   "cell_type": "code",
   "execution_count": 49,
   "metadata": {},
   "outputs": [],
   "source": [
    "class Voiture:\n",
    "    def __init__(self):\n",
    "        self._roues = 4\n",
    "    @property\n",
    "    def _roues(self):\n",
    "        print(\"recup nbr roues\")\n",
    "        return self._roues\n",
    "    @_roues.setter\n",
    "    def _roues(self,v):\n",
    "        self._roues = v\n",
    "        print(\"changement du nombre de roues\")"
   ]
  },
  {
   "cell_type": "markdown",
   "metadata": {},
   "source": [
    "heritage"
   ]
  },
  {
   "cell_type": "code",
   "execution_count": 57,
   "metadata": {},
   "outputs": [],
   "source": [
    "class Voiture:\n",
    "    def __init__(self):\n",
    "        self.roues = 4\n",
    "    def allumer(self):\n",
    "        print(\"la voiture demarre\")\n",
    "\n",
    "class VoitureSport(Voiture):\n",
    "    def __init__(self):\n",
    "        Voiture()\n",
    "        self.nom = \"ferrari\"\n",
    "    def allumer(self):\n",
    "        Voiture.allumer(self)\n",
    "        print(\"la voiture de sport demarre\")"
   ]
  },
  {
   "cell_type": "code",
   "execution_count": 58,
   "metadata": {},
   "outputs": [
    {
     "name": "stdout",
     "output_type": "stream",
     "text": [
      "la voiture demarre\n",
      "la voiture de sport demarre\n"
     ]
    }
   ],
   "source": [
    "vv = VoitureSport()\n",
    "vv.allumer()"
   ]
  },
  {
   "cell_type": "code",
   "execution_count": 96,
   "metadata": {},
   "outputs": [],
   "source": [
    "class Vecteur :\n",
    "    def __init__(self,x,y):\n",
    "        self.x = x\n",
    "        self.y = y\n",
    "    def __add__(self,other):\n",
    "    # def __add__(self,other:Vecteur) -> Vecteur:\n",
    "        return Vecteur(self.x+other.x,self.y+other.y)\n",
    "    def __repr__(self):\n",
    "        return\"Vecteur [{},{}]\".format(self.x,self.y)"
   ]
  },
  {
   "cell_type": "code",
   "execution_count": 97,
   "metadata": {},
   "outputs": [
    {
     "data": {
      "text/plain": [
       "Vecteur [4,6]"
      ]
     },
     "execution_count": 97,
     "metadata": {},
     "output_type": "execute_result"
    }
   ],
   "source": [
    "v1 = Vecteur(1,2)\n",
    "v2 = Vecteur(3,4)\n",
    "v1 + v2"
   ]
  },
  {
   "cell_type": "markdown",
   "metadata": {},
   "source": [
    "# EXO"
   ]
  },
  {
   "cell_type": "markdown",
   "metadata": {},
   "source": [
    "## compte bancaire"
   ]
  },
  {
   "cell_type": "code",
   "execution_count": 123,
   "metadata": {},
   "outputs": [],
   "source": [
    "class CompteBancaire :\n",
    "    def __init__(self,nom = \"Dupont\",solde = 1000):\n",
    "        self.nom = nom\n",
    "        self.solde = solde\n",
    "    def affiche(self):\n",
    "        return (\"Le solde du compte bancaire de {} est de {} euros\".format(self.nom,self.solde))\n",
    "    def depot(self,somme):\n",
    "        self.solde += somme\n",
    "    def retrait(self,somme):\n",
    "        self.solde -= somme\n",
    "        "
   ]
  },
  {
   "cell_type": "code",
   "execution_count": 206,
   "metadata": {},
   "outputs": [
    {
     "data": {
      "text/plain": [
       "'Le solde du compte bancaire de Duchmol est de 950 euros'"
      ]
     },
     "execution_count": 206,
     "metadata": {},
     "output_type": "execute_result"
    }
   ],
   "source": [
    "compte1 = CompteBancaire(\"Duchmol\", 800)\n",
    "compte1.depot(350)\n",
    "compte1.retrait(200)\n",
    "compte1.affiche()"
   ]
  },
  {
   "cell_type": "code",
   "execution_count": 205,
   "metadata": {},
   "outputs": [
    {
     "data": {
      "text/plain": [
       "'Le solde du compte bancaire de Dupont est de 1025 euros'"
      ]
     },
     "execution_count": 205,
     "metadata": {},
     "output_type": "execute_result"
    }
   ],
   "source": [
    "compte2 = CompteBancaire()\n",
    "compte2.depot(25)\n",
    "compte2.affiche()"
   ]
  },
  {
   "cell_type": "markdown",
   "metadata": {},
   "source": [
    "## surcharge operateur"
   ]
  },
  {
   "cell_type": "code",
   "execution_count": 203,
   "metadata": {},
   "outputs": [],
   "source": [
    "class Point :\n",
    "    def __init__(self,x,y,z=None):\n",
    "        self.x = x\n",
    "        self.y = y\n",
    "        self.z = z\n",
    "    def toString(self):\n",
    "        if(self.z == None):\n",
    "            return (\"P ({:.2f},{:.2f})\".format(self.x,self.y))\n",
    "        else:\n",
    "            return (\"P ({:.2f},{:.2f},{:.2f})\".format(self.x,self.y,self.z))"
   ]
  },
  {
   "cell_type": "code",
   "execution_count": 209,
   "metadata": {},
   "outputs": [
    {
     "data": {
      "text/plain": [
       "'P (2.00,3.00)'"
      ]
     },
     "execution_count": 209,
     "metadata": {},
     "output_type": "execute_result"
    }
   ],
   "source": [
    "p1 = Point(2,3)\n",
    "p1.toString()"
   ]
  },
  {
   "cell_type": "code",
   "execution_count": 210,
   "metadata": {},
   "outputs": [
    {
     "data": {
      "text/plain": [
       "'P (1.00,-5.00,6.00)'"
      ]
     },
     "execution_count": 210,
     "metadata": {},
     "output_type": "execute_result"
    }
   ],
   "source": [
    "P2=Point(1,-5,6)\n",
    "P2.toString()"
   ]
  },
  {
   "cell_type": "markdown",
   "metadata": {},
   "source": [
    "##  heritage simple"
   ]
  },
  {
   "cell_type": "code",
   "execution_count": 306,
   "metadata": {},
   "outputs": [],
   "source": [
    "import datetime as dt\n",
    "class DateNaissance :\n",
    "    def __init__ (self,jour,mois,annee):\n",
    "        self.jour = jour\n",
    "        self.mois = mois\n",
    "        self.annee = annee\n",
    "    def __repr__(self):\n",
    "        return\"{:02d} / {:02d} / {:04d}\".format(self.jour,self.mois,self.annee)"
   ]
  },
  {
   "cell_type": "code",
   "execution_count": 314,
   "metadata": {},
   "outputs": [],
   "source": [
    "class Personne :\n",
    "    def __init__ (self,nom,prenom,dateNaissance):\n",
    "        self.nom = nom\n",
    "        self.prenom = prenom\n",
    "        self.dateNaissance = dateNaissance\n",
    "    def affichage(self):\n",
    "        print(\"Nom: {}\\nPrénom: {}\\nDate de naissance: {}\".format(self.nom,self.prenom,self.dateNaissance))"
   ]
  },
  {
   "cell_type": "code",
   "execution_count": 343,
   "metadata": {},
   "outputs": [],
   "source": [
    "class Employé(Personne) :\n",
    "    def __init__ (self,nom,prenom,dateNaissance:DateNaissance,salaire):\n",
    "        self.personne = Personne(nom,prenom,dateNaissance)\n",
    "        self.salaire = salaire\n",
    "    def affichage(self):\n",
    "        self.personne.affichage()\n",
    "        print(\"Salaire: {:.2f}\".format(self.salaire))"
   ]
  },
  {
   "cell_type": "code",
   "execution_count": 344,
   "metadata": {},
   "outputs": [],
   "source": [
    "class Chef(Employé) :\n",
    "    def __init__ (self,nom,prenom,dateNaissance:DateNaissance,salaire,service):\n",
    "        self.employé = Employé(nom,prenom,dateNaissance,salaire)\n",
    "        self.service = service\n",
    "    def affichage(self):\n",
    "        self.employé.affichage()\n",
    "        print(\"Service: {}\".format(self.service))"
   ]
  },
  {
   "cell_type": "code",
   "execution_count": 345,
   "metadata": {},
   "outputs": [
    {
     "name": "stdout",
     "output_type": "stream",
     "text": [
      "Nom: Ilyass\n",
      "Prénom: Math\n",
      "Date de naissance: 01 / 07 / 1982\n"
     ]
    }
   ],
   "source": [
    "p=Personne(\"Ilyass\",\"Math\",DateNaissance(1,7,1982))\n",
    "p.affichage()"
   ]
  },
  {
   "cell_type": "code",
   "execution_count": 346,
   "metadata": {},
   "outputs": [
    {
     "name": "stdout",
     "output_type": "stream",
     "text": [
      "Nom: Ilyass\n",
      "Prénom: Math\n",
      "Date de naissance: 01 / 07 / 1985\n",
      "Salaire: 7865.55\n"
     ]
    }
   ],
   "source": [
    "e=Employé(\"Ilyass\",\"Math\",DateNaissance(1,7,1985),7865.548)\n",
    "e.affichage()"
   ]
  },
  {
   "cell_type": "code",
   "execution_count": 347,
   "metadata": {},
   "outputs": [
    {
     "name": "stdout",
     "output_type": "stream",
     "text": [
      "Nom: Ilyass\n",
      "Prénom: Math\n",
      "Date de naissance: 01 / 07 / 1988\n",
      "Salaire: 7865.55\n",
      "Service: Ressource humaine\n"
     ]
    }
   ],
   "source": [
    "ch=Chef(\"Ilyass\",\"Math\",DateNaissance(1,7,1988),7865.548,\"Ressource humaine\")\n",
    "ch.affichage()"
   ]
  },
  {
   "cell_type": "markdown",
   "metadata": {},
   "source": [
    "## polymorphisme"
   ]
  },
  {
   "cell_type": "code",
   "execution_count": 404,
   "metadata": {},
   "outputs": [],
   "source": [
    "class BoiteAuxLettres():\n",
    "    def poster(courrier):\n",
    "        print(\"courrier posté:\")\n",
    "        courrier.toString()\n",
    "\n",
    "class Courrier():\n",
    "    def __init__ (self,adresseDest,adresseExp,poids:float,modeExpedition):\n",
    "        self.adresseDest = adresseDest\n",
    "        self.adresseExp = adresseExp\n",
    "        self.poids = poids\n",
    "        if(modeExpedition==\"normal\" or modeExpedition==\"express\"):\n",
    "            self.modeExpedition = modeExpedition\n",
    "        else :\n",
    "            self.modeExpedition = \"express\"\n",
    "    def toString(self):\n",
    "        print(\"Adresse destination: {}\\nAdresse expedition: {}\\nPoids: {:.2f} grammes\\nMode: {}\".format(self.adresseDest,self.adresseExp,self.poids,self.modeExpedition)) \n",
    "\n",
    "class Lettre(Courrier):\n",
    "    def __init__(self,adresseDest,adresseExp,poids,modeExpedition,formatt):\n",
    "        self.courrier = Courrier(adresseDest,adresseExp,poids,modeExpedition)\n",
    "        if(formatt==\"A4\" or formatt==\"A3\"):\n",
    "            print(\"z\")\n",
    "            self.format = formatt\n",
    "        else :\n",
    "            self.format = \"A3\"\n",
    "    def calculTimbre(self):\n",
    "        if(self.format == \"A4\"):\n",
    "            tarif = 2.5\n",
    "        else:\n",
    "            tarif = 3.5\n",
    "        if(self.courrier.modeExpedition == \"normal\"):\n",
    "            return(tarif+self.courrier.poids/1000)\n",
    "        else:\n",
    "            return((tarif+self.courrier.poids/1000)*2)           \n",
    "    def toString(self):\n",
    "        print(\"Lettre:\")\n",
    "        self.courrier.toString()\n",
    "        print(\"Format:{}\\nPrix du timbre: {:.2f}\".format(self.format,self.calculTimbre()))\n",
    "\n",
    "class Colis(Courrier):\n",
    "    def __init__(self,adresseDest,adresseExp,poids,modeExpedition,volume):\n",
    "        self.courrier = Courrier(adresseDest,adresseExp,poids,modeExpedition)\n",
    "        self.volume = volume\n",
    "    def calculTimbre(self):\n",
    "        if(self.courrier.modeExpedition == \"normal\"):\n",
    "            return(self.volume*.25 + self.courrier.poids/1000)\n",
    "        else:\n",
    "            return((self.volume*.25 + self.courrier.poids/1000)*2)\n",
    "    def toString(self):\n",
    "        print(\"Colis:\")\n",
    "        self.courrier.toString()\n",
    "        print(\"Volume:{} litres\\nPrix du timbre: {:.2f}\".format(self.volume,self.calculTimbre()))"
   ]
  },
  {
   "cell_type": "code",
   "execution_count": 405,
   "metadata": {},
   "outputs": [
    {
     "name": "stdout",
     "output_type": "stream",
     "text": [
      "z\n",
      "Lettre:\n",
      "Adresse destination: Lille\n",
      "Adresse expedition: Paris\n",
      "Poids: 80.00 grammes\n",
      "Mode: normal\n",
      "Format:A4\n",
      "Prix du timbre: 2.58\n"
     ]
    }
   ],
   "source": [
    "l1=Lettre(\"Lille\",\"Paris\",80,\"normal\",\"A4\")\n",
    "l1.toString()"
   ]
  },
  {
   "cell_type": "code",
   "execution_count": 406,
   "metadata": {},
   "outputs": [
    {
     "name": "stdout",
     "output_type": "stream",
     "text": [
      "Colis:\n",
      "Adresse destination: Marrakeche\n",
      "Adresse expedition: Barcelone\n",
      "Poids: 3500.00 grammes\n",
      "Mode: express\n",
      "Volume:2.25 litres\n",
      "Prix du timbre: 8.12\n"
     ]
    }
   ],
   "source": [
    "c1=Colis(\"Marrakeche\",\"Barcelone\",3500,\"express\",2.25)\n",
    "c1.toString()"
   ]
  },
  {
   "cell_type": "code",
   "execution_count": 407,
   "metadata": {},
   "outputs": [
    {
     "name": "stdout",
     "output_type": "stream",
     "text": [
      "courrier posté:\n",
      "Colis:\n",
      "Adresse destination: Marrakeche\n",
      "Adresse expedition: Barcelone\n",
      "Poids: 3500.00 grammes\n",
      "Mode: express\n",
      "Volume:2.25 litres\n",
      "Prix du timbre: 8.12\n"
     ]
    }
   ],
   "source": [
    "BoiteAuxLettres.poster(c1)"
   ]
  },
  {
   "cell_type": "code",
   "execution_count": 408,
   "metadata": {},
   "outputs": [
    {
     "name": "stdout",
     "output_type": "stream",
     "text": [
      "courrier posté:\n",
      "Lettre:\n",
      "Adresse destination: Lille\n",
      "Adresse expedition: Paris\n",
      "Poids: 80.00 grammes\n",
      "Mode: normal\n",
      "Format:A4\n",
      "Prix du timbre: 2.58\n"
     ]
    }
   ],
   "source": [
    "BoiteAuxLettres.poster(l1)"
   ]
  },
  {
   "cell_type": "code",
   "execution_count": null,
   "metadata": {},
   "outputs": [],
   "source": []
  }
 ],
 "metadata": {
  "kernelspec": {
   "display_name": "Python 3",
   "language": "python",
   "name": "python3"
  },
  "language_info": {
   "codemirror_mode": {
    "name": "ipython",
    "version": 3
   },
   "file_extension": ".py",
   "mimetype": "text/x-python",
   "name": "python",
   "nbconvert_exporter": "python",
   "pygments_lexer": "ipython3",
   "version": "3.8.2"
  },
  "toc": {
   "base_numbering": 1,
   "nav_menu": {},
   "number_sections": true,
   "sideBar": true,
   "skip_h1_title": false,
   "title_cell": "Table of Contents",
   "title_sidebar": "Contents",
   "toc_cell": false,
   "toc_position": {},
   "toc_section_display": true,
   "toc_window_display": false
  },
  "varInspector": {
   "cols": {
    "lenName": 16,
    "lenType": 16,
    "lenVar": 40
   },
   "kernels_config": {
    "python": {
     "delete_cmd_postfix": "",
     "delete_cmd_prefix": "del ",
     "library": "var_list.py",
     "varRefreshCmd": "print(var_dic_list())"
    },
    "r": {
     "delete_cmd_postfix": ") ",
     "delete_cmd_prefix": "rm(",
     "library": "var_list.r",
     "varRefreshCmd": "cat(var_dic_list()) "
    }
   },
   "types_to_exclude": [
    "module",
    "function",
    "builtin_function_or_method",
    "instance",
    "_Feature"
   ],
   "window_display": false
  }
 },
 "nbformat": 4,
 "nbformat_minor": 4
}
