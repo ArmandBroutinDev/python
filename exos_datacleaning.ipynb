{
 "cells": [
  {
   "cell_type": "markdown",
   "metadata": {},
   "source": [
    "# Data cleaning\n",
    "importer pandas et le dataset"
   ]
  },
  {
   "cell_type": "code",
   "execution_count": 16,
   "metadata": {},
   "outputs": [],
   "source": [
    "import pandas as pd"
   ]
  },
  {
   "cell_type": "code",
   "execution_count": 17,
   "metadata": {},
   "outputs": [],
   "source": [
    "chemin = \"Https://bit.ly/world-cities-clean\"\n",
    "data = pd.read_csv(chemin)"
   ]
  },
  {
   "cell_type": "code",
   "execution_count": 18,
   "metadata": {
    "scrolled": true
   },
   "outputs": [
    {
     "data": {
      "text/html": [
       "<div>\n",
       "<style scoped>\n",
       "    .dataframe tbody tr th:only-of-type {\n",
       "        vertical-align: middle;\n",
       "    }\n",
       "\n",
       "    .dataframe tbody tr th {\n",
       "        vertical-align: top;\n",
       "    }\n",
       "\n",
       "    .dataframe thead th {\n",
       "        text-align: right;\n",
       "    }\n",
       "</style>\n",
       "<table border=\"1\" class=\"dataframe\">\n",
       "  <thead>\n",
       "    <tr style=\"text-align: right;\">\n",
       "      <th></th>\n",
       "      <th>name</th>\n",
       "      <th>country</th>\n",
       "      <th>subcountry</th>\n",
       "      <th>geonameid</th>\n",
       "    </tr>\n",
       "  </thead>\n",
       "  <tbody>\n",
       "    <tr>\n",
       "      <th>0</th>\n",
       "      <td>les Escaldes</td>\n",
       "      <td>Andorra</td>\n",
       "      <td>Escaldes-Engordany</td>\n",
       "      <td>3040051</td>\n",
       "    </tr>\n",
       "    <tr>\n",
       "      <th>1</th>\n",
       "      <td>Andorra la Vella</td>\n",
       "      <td>Andorra</td>\n",
       "      <td>Andorra la Vella</td>\n",
       "      <td>3041563</td>\n",
       "    </tr>\n",
       "    <tr>\n",
       "      <th>2</th>\n",
       "      <td>Umm al Qaywayn</td>\n",
       "      <td>United Arab Emirates</td>\n",
       "      <td>Umm al Qaywayn</td>\n",
       "      <td>290594</td>\n",
       "    </tr>\n",
       "    <tr>\n",
       "      <th>3</th>\n",
       "      <td>Ras al-Khaimah</td>\n",
       "      <td>United Arab Emirates</td>\n",
       "      <td>Raʼs al Khaymah</td>\n",
       "      <td>291074</td>\n",
       "    </tr>\n",
       "    <tr>\n",
       "      <th>4</th>\n",
       "      <td>Khawr Fakkān</td>\n",
       "      <td>United Arab Emirates</td>\n",
       "      <td>Ash Shāriqah</td>\n",
       "      <td>291696</td>\n",
       "    </tr>\n",
       "  </tbody>\n",
       "</table>\n",
       "</div>"
      ],
      "text/plain": [
       "               name               country          subcountry  geonameid\n",
       "0      les Escaldes               Andorra  Escaldes-Engordany    3040051\n",
       "1  Andorra la Vella               Andorra    Andorra la Vella    3041563\n",
       "2    Umm al Qaywayn  United Arab Emirates      Umm al Qaywayn     290594\n",
       "3    Ras al-Khaimah  United Arab Emirates     Raʼs al Khaymah     291074\n",
       "4      Khawr Fakkān  United Arab Emirates        Ash Shāriqah     291696"
      ]
     },
     "execution_count": 18,
     "metadata": {},
     "output_type": "execute_result"
    }
   ],
   "source": [
    "data.head()"
   ]
  },
  {
   "cell_type": "markdown",
   "metadata": {},
   "source": [
    "les raccourcis clavier\n",
    "sur les cellules :\n",
    "m pour transformer en markdown\n",
    "y pour du code\n",
    "r pour du raw (code non executable)\n",
    "a creer une cellule au dessus\n",
    "b creer une cellule en dessous\n",
    "dd supprimer la cellule"
   ]
  },
  {
   "cell_type": "markdown",
   "metadata": {},
   "source": [
    "## exo 1 les lectures de csv qui n'existent pas"
   ]
  },
  {
   "cell_type": "code",
   "execution_count": 19,
   "metadata": {},
   "outputs": [
    {
     "ename": "FileNotFoundError",
     "evalue": "[Errno 2] No such file or directory: './oui'",
     "output_type": "error",
     "traceback": [
      "\u001b[0;31m---------------------------------------------------------------------------\u001b[0m",
      "\u001b[0;31mFileNotFoundError\u001b[0m                         Traceback (most recent call last)",
      "\u001b[0;32m<ipython-input-19-553636f63e10>\u001b[0m in \u001b[0;36m<module>\u001b[0;34m\u001b[0m\n\u001b[1;32m      1\u001b[0m \u001b[0mchemin1\u001b[0m \u001b[0;34m=\u001b[0m \u001b[0;34m\"./oui\"\u001b[0m\u001b[0;34m\u001b[0m\u001b[0;34m\u001b[0m\u001b[0m\n\u001b[0;32m----> 2\u001b[0;31m \u001b[0mdata1\u001b[0m \u001b[0;34m=\u001b[0m \u001b[0mpd\u001b[0m\u001b[0;34m.\u001b[0m\u001b[0mread_csv\u001b[0m\u001b[0;34m(\u001b[0m\u001b[0mchemin1\u001b[0m\u001b[0;34m)\u001b[0m\u001b[0;34m\u001b[0m\u001b[0;34m\u001b[0m\u001b[0m\n\u001b[0m",
      "\u001b[0;32m~/.local/lib/python3.8/site-packages/pandas/io/parsers.py\u001b[0m in \u001b[0;36mread_csv\u001b[0;34m(filepath_or_buffer, sep, delimiter, header, names, index_col, usecols, squeeze, prefix, mangle_dupe_cols, dtype, engine, converters, true_values, false_values, skipinitialspace, skiprows, skipfooter, nrows, na_values, keep_default_na, na_filter, verbose, skip_blank_lines, parse_dates, infer_datetime_format, keep_date_col, date_parser, dayfirst, cache_dates, iterator, chunksize, compression, thousands, decimal, lineterminator, quotechar, quoting, doublequote, escapechar, comment, encoding, dialect, error_bad_lines, warn_bad_lines, delim_whitespace, low_memory, memory_map, float_precision)\u001b[0m\n\u001b[1;32m    684\u001b[0m     )\n\u001b[1;32m    685\u001b[0m \u001b[0;34m\u001b[0m\u001b[0m\n\u001b[0;32m--> 686\u001b[0;31m     \u001b[0;32mreturn\u001b[0m \u001b[0m_read\u001b[0m\u001b[0;34m(\u001b[0m\u001b[0mfilepath_or_buffer\u001b[0m\u001b[0;34m,\u001b[0m \u001b[0mkwds\u001b[0m\u001b[0;34m)\u001b[0m\u001b[0;34m\u001b[0m\u001b[0;34m\u001b[0m\u001b[0m\n\u001b[0m\u001b[1;32m    687\u001b[0m \u001b[0;34m\u001b[0m\u001b[0m\n\u001b[1;32m    688\u001b[0m \u001b[0;34m\u001b[0m\u001b[0m\n",
      "\u001b[0;32m~/.local/lib/python3.8/site-packages/pandas/io/parsers.py\u001b[0m in \u001b[0;36m_read\u001b[0;34m(filepath_or_buffer, kwds)\u001b[0m\n\u001b[1;32m    450\u001b[0m \u001b[0;34m\u001b[0m\u001b[0m\n\u001b[1;32m    451\u001b[0m     \u001b[0;31m# Create the parser.\u001b[0m\u001b[0;34m\u001b[0m\u001b[0;34m\u001b[0m\u001b[0;34m\u001b[0m\u001b[0m\n\u001b[0;32m--> 452\u001b[0;31m     \u001b[0mparser\u001b[0m \u001b[0;34m=\u001b[0m \u001b[0mTextFileReader\u001b[0m\u001b[0;34m(\u001b[0m\u001b[0mfp_or_buf\u001b[0m\u001b[0;34m,\u001b[0m \u001b[0;34m**\u001b[0m\u001b[0mkwds\u001b[0m\u001b[0;34m)\u001b[0m\u001b[0;34m\u001b[0m\u001b[0;34m\u001b[0m\u001b[0m\n\u001b[0m\u001b[1;32m    453\u001b[0m \u001b[0;34m\u001b[0m\u001b[0m\n\u001b[1;32m    454\u001b[0m     \u001b[0;32mif\u001b[0m \u001b[0mchunksize\u001b[0m \u001b[0;32mor\u001b[0m \u001b[0miterator\u001b[0m\u001b[0;34m:\u001b[0m\u001b[0;34m\u001b[0m\u001b[0;34m\u001b[0m\u001b[0m\n",
      "\u001b[0;32m~/.local/lib/python3.8/site-packages/pandas/io/parsers.py\u001b[0m in \u001b[0;36m__init__\u001b[0;34m(self, f, engine, **kwds)\u001b[0m\n\u001b[1;32m    934\u001b[0m             \u001b[0mself\u001b[0m\u001b[0;34m.\u001b[0m\u001b[0moptions\u001b[0m\u001b[0;34m[\u001b[0m\u001b[0;34m\"has_index_names\"\u001b[0m\u001b[0;34m]\u001b[0m \u001b[0;34m=\u001b[0m \u001b[0mkwds\u001b[0m\u001b[0;34m[\u001b[0m\u001b[0;34m\"has_index_names\"\u001b[0m\u001b[0;34m]\u001b[0m\u001b[0;34m\u001b[0m\u001b[0;34m\u001b[0m\u001b[0m\n\u001b[1;32m    935\u001b[0m \u001b[0;34m\u001b[0m\u001b[0m\n\u001b[0;32m--> 936\u001b[0;31m         \u001b[0mself\u001b[0m\u001b[0;34m.\u001b[0m\u001b[0m_make_engine\u001b[0m\u001b[0;34m(\u001b[0m\u001b[0mself\u001b[0m\u001b[0;34m.\u001b[0m\u001b[0mengine\u001b[0m\u001b[0;34m)\u001b[0m\u001b[0;34m\u001b[0m\u001b[0;34m\u001b[0m\u001b[0m\n\u001b[0m\u001b[1;32m    937\u001b[0m \u001b[0;34m\u001b[0m\u001b[0m\n\u001b[1;32m    938\u001b[0m     \u001b[0;32mdef\u001b[0m \u001b[0mclose\u001b[0m\u001b[0;34m(\u001b[0m\u001b[0mself\u001b[0m\u001b[0;34m)\u001b[0m\u001b[0;34m:\u001b[0m\u001b[0;34m\u001b[0m\u001b[0;34m\u001b[0m\u001b[0m\n",
      "\u001b[0;32m~/.local/lib/python3.8/site-packages/pandas/io/parsers.py\u001b[0m in \u001b[0;36m_make_engine\u001b[0;34m(self, engine)\u001b[0m\n\u001b[1;32m   1166\u001b[0m     \u001b[0;32mdef\u001b[0m \u001b[0m_make_engine\u001b[0m\u001b[0;34m(\u001b[0m\u001b[0mself\u001b[0m\u001b[0;34m,\u001b[0m \u001b[0mengine\u001b[0m\u001b[0;34m=\u001b[0m\u001b[0;34m\"c\"\u001b[0m\u001b[0;34m)\u001b[0m\u001b[0;34m:\u001b[0m\u001b[0;34m\u001b[0m\u001b[0;34m\u001b[0m\u001b[0m\n\u001b[1;32m   1167\u001b[0m         \u001b[0;32mif\u001b[0m \u001b[0mengine\u001b[0m \u001b[0;34m==\u001b[0m \u001b[0;34m\"c\"\u001b[0m\u001b[0;34m:\u001b[0m\u001b[0;34m\u001b[0m\u001b[0;34m\u001b[0m\u001b[0m\n\u001b[0;32m-> 1168\u001b[0;31m             \u001b[0mself\u001b[0m\u001b[0;34m.\u001b[0m\u001b[0m_engine\u001b[0m \u001b[0;34m=\u001b[0m \u001b[0mCParserWrapper\u001b[0m\u001b[0;34m(\u001b[0m\u001b[0mself\u001b[0m\u001b[0;34m.\u001b[0m\u001b[0mf\u001b[0m\u001b[0;34m,\u001b[0m \u001b[0;34m**\u001b[0m\u001b[0mself\u001b[0m\u001b[0;34m.\u001b[0m\u001b[0moptions\u001b[0m\u001b[0;34m)\u001b[0m\u001b[0;34m\u001b[0m\u001b[0;34m\u001b[0m\u001b[0m\n\u001b[0m\u001b[1;32m   1169\u001b[0m         \u001b[0;32melse\u001b[0m\u001b[0;34m:\u001b[0m\u001b[0;34m\u001b[0m\u001b[0;34m\u001b[0m\u001b[0m\n\u001b[1;32m   1170\u001b[0m             \u001b[0;32mif\u001b[0m \u001b[0mengine\u001b[0m \u001b[0;34m==\u001b[0m \u001b[0;34m\"python\"\u001b[0m\u001b[0;34m:\u001b[0m\u001b[0;34m\u001b[0m\u001b[0;34m\u001b[0m\u001b[0m\n",
      "\u001b[0;32m~/.local/lib/python3.8/site-packages/pandas/io/parsers.py\u001b[0m in \u001b[0;36m__init__\u001b[0;34m(self, src, **kwds)\u001b[0m\n\u001b[1;32m   1996\u001b[0m         \u001b[0mkwds\u001b[0m\u001b[0;34m[\u001b[0m\u001b[0;34m\"usecols\"\u001b[0m\u001b[0;34m]\u001b[0m \u001b[0;34m=\u001b[0m \u001b[0mself\u001b[0m\u001b[0;34m.\u001b[0m\u001b[0musecols\u001b[0m\u001b[0;34m\u001b[0m\u001b[0;34m\u001b[0m\u001b[0m\n\u001b[1;32m   1997\u001b[0m \u001b[0;34m\u001b[0m\u001b[0m\n\u001b[0;32m-> 1998\u001b[0;31m         \u001b[0mself\u001b[0m\u001b[0;34m.\u001b[0m\u001b[0m_reader\u001b[0m \u001b[0;34m=\u001b[0m \u001b[0mparsers\u001b[0m\u001b[0;34m.\u001b[0m\u001b[0mTextReader\u001b[0m\u001b[0;34m(\u001b[0m\u001b[0msrc\u001b[0m\u001b[0;34m,\u001b[0m \u001b[0;34m**\u001b[0m\u001b[0mkwds\u001b[0m\u001b[0;34m)\u001b[0m\u001b[0;34m\u001b[0m\u001b[0;34m\u001b[0m\u001b[0m\n\u001b[0m\u001b[1;32m   1999\u001b[0m         \u001b[0mself\u001b[0m\u001b[0;34m.\u001b[0m\u001b[0munnamed_cols\u001b[0m \u001b[0;34m=\u001b[0m \u001b[0mself\u001b[0m\u001b[0;34m.\u001b[0m\u001b[0m_reader\u001b[0m\u001b[0;34m.\u001b[0m\u001b[0munnamed_cols\u001b[0m\u001b[0;34m\u001b[0m\u001b[0;34m\u001b[0m\u001b[0m\n\u001b[1;32m   2000\u001b[0m \u001b[0;34m\u001b[0m\u001b[0m\n",
      "\u001b[0;32mpandas/_libs/parsers.pyx\u001b[0m in \u001b[0;36mpandas._libs.parsers.TextReader.__cinit__\u001b[0;34m()\u001b[0m\n",
      "\u001b[0;32mpandas/_libs/parsers.pyx\u001b[0m in \u001b[0;36mpandas._libs.parsers.TextReader._setup_parser_source\u001b[0;34m()\u001b[0m\n",
      "\u001b[0;31mFileNotFoundError\u001b[0m: [Errno 2] No such file or directory: './oui'"
     ]
    }
   ],
   "source": [
    "chemin1 = \"./oui\"\n",
    "data1 = pd.read_csv(chemin1)"
   ]
  },
  {
   "cell_type": "markdown",
   "metadata": {},
   "source": [
    "FileNotFoundError: [Errno 2] No such file or directory: '.\\\\oui'"
   ]
  },
  {
   "cell_type": "markdown",
   "metadata": {},
   "source": [
    "le dossier ou fichier n'a pas ete trouve"
   ]
  },
  {
   "cell_type": "markdown",
   "metadata": {},
   "source": [
    "il faut mettre un chemin valide qui mene a un fichier existant"
   ]
  },
  {
   "cell_type": "markdown",
   "metadata": {},
   "source": [
    "## exo2 on a perdu la tete"
   ]
  },
  {
   "cell_type": "code",
   "execution_count": 21,
   "metadata": {},
   "outputs": [],
   "source": [
    "chemin2 = \"Https://bit.ly/world-cities-dirty-v1\"\n",
    "data2 = pd.read_csv(chemin2)"
   ]
  },
  {
   "cell_type": "code",
   "execution_count": 22,
   "metadata": {
    "scrolled": true
   },
   "outputs": [
    {
     "data": {
      "text/html": [
       "<div>\n",
       "<style scoped>\n",
       "    .dataframe tbody tr th:only-of-type {\n",
       "        vertical-align: middle;\n",
       "    }\n",
       "\n",
       "    .dataframe tbody tr th {\n",
       "        vertical-align: top;\n",
       "    }\n",
       "\n",
       "    .dataframe thead th {\n",
       "        text-align: right;\n",
       "    }\n",
       "</style>\n",
       "<table border=\"1\" class=\"dataframe\">\n",
       "  <thead>\n",
       "    <tr style=\"text-align: right;\">\n",
       "      <th></th>\n",
       "      <th>les Escaldes</th>\n",
       "      <th>Andorra</th>\n",
       "      <th>Escaldes-Engordany</th>\n",
       "      <th>3040051</th>\n",
       "    </tr>\n",
       "  </thead>\n",
       "  <tbody>\n",
       "    <tr>\n",
       "      <th>0</th>\n",
       "      <td>Andorra la Vella</td>\n",
       "      <td>Andorra</td>\n",
       "      <td>Andorra la Vella</td>\n",
       "      <td>3041563</td>\n",
       "    </tr>\n",
       "    <tr>\n",
       "      <th>1</th>\n",
       "      <td>Umm al Qaywayn</td>\n",
       "      <td>United Arab Emirates</td>\n",
       "      <td>Umm al Qaywayn</td>\n",
       "      <td>290594</td>\n",
       "    </tr>\n",
       "    <tr>\n",
       "      <th>2</th>\n",
       "      <td>Ras al-Khaimah</td>\n",
       "      <td>United Arab Emirates</td>\n",
       "      <td>Raʼs al Khaymah</td>\n",
       "      <td>291074</td>\n",
       "    </tr>\n",
       "    <tr>\n",
       "      <th>3</th>\n",
       "      <td>Khawr Fakkān</td>\n",
       "      <td>United Arab Emirates</td>\n",
       "      <td>Ash Shāriqah</td>\n",
       "      <td>291696</td>\n",
       "    </tr>\n",
       "    <tr>\n",
       "      <th>4</th>\n",
       "      <td>Dubai</td>\n",
       "      <td>United Arab Emirates</td>\n",
       "      <td>Dubai</td>\n",
       "      <td>292223</td>\n",
       "    </tr>\n",
       "  </tbody>\n",
       "</table>\n",
       "</div>"
      ],
      "text/plain": [
       "       les Escaldes               Andorra Escaldes-Engordany  3040051\n",
       "0  Andorra la Vella               Andorra   Andorra la Vella  3041563\n",
       "1    Umm al Qaywayn  United Arab Emirates     Umm al Qaywayn   290594\n",
       "2    Ras al-Khaimah  United Arab Emirates    Raʼs al Khaymah   291074\n",
       "3      Khawr Fakkān  United Arab Emirates       Ash Shāriqah   291696\n",
       "4             Dubai  United Arab Emirates              Dubai   292223"
      ]
     },
     "execution_count": 22,
     "metadata": {},
     "output_type": "execute_result"
    }
   ],
   "source": [
    "data2.head()"
   ]
  },
  {
   "cell_type": "markdown",
   "metadata": {},
   "source": [
    "le nom des colonne est incorrect mais il n'y a pas de message d'erreur"
   ]
  },
  {
   "cell_type": "code",
   "execution_count": 23,
   "metadata": {},
   "outputs": [],
   "source": [
    "data2 = pd.read_csv(chemin2,names=['name','country','subcountry','geonameid'])"
   ]
  },
  {
   "cell_type": "code",
   "execution_count": 24,
   "metadata": {},
   "outputs": [
    {
     "data": {
      "text/html": [
       "<div>\n",
       "<style scoped>\n",
       "    .dataframe tbody tr th:only-of-type {\n",
       "        vertical-align: middle;\n",
       "    }\n",
       "\n",
       "    .dataframe tbody tr th {\n",
       "        vertical-align: top;\n",
       "    }\n",
       "\n",
       "    .dataframe thead th {\n",
       "        text-align: right;\n",
       "    }\n",
       "</style>\n",
       "<table border=\"1\" class=\"dataframe\">\n",
       "  <thead>\n",
       "    <tr style=\"text-align: right;\">\n",
       "      <th></th>\n",
       "      <th>name</th>\n",
       "      <th>country</th>\n",
       "      <th>subcountry</th>\n",
       "      <th>geonameid</th>\n",
       "    </tr>\n",
       "  </thead>\n",
       "  <tbody>\n",
       "    <tr>\n",
       "      <th>0</th>\n",
       "      <td>les Escaldes</td>\n",
       "      <td>Andorra</td>\n",
       "      <td>Escaldes-Engordany</td>\n",
       "      <td>3040051</td>\n",
       "    </tr>\n",
       "    <tr>\n",
       "      <th>1</th>\n",
       "      <td>Andorra la Vella</td>\n",
       "      <td>Andorra</td>\n",
       "      <td>Andorra la Vella</td>\n",
       "      <td>3041563</td>\n",
       "    </tr>\n",
       "    <tr>\n",
       "      <th>2</th>\n",
       "      <td>Umm al Qaywayn</td>\n",
       "      <td>United Arab Emirates</td>\n",
       "      <td>Umm al Qaywayn</td>\n",
       "      <td>290594</td>\n",
       "    </tr>\n",
       "    <tr>\n",
       "      <th>3</th>\n",
       "      <td>Ras al-Khaimah</td>\n",
       "      <td>United Arab Emirates</td>\n",
       "      <td>Raʼs al Khaymah</td>\n",
       "      <td>291074</td>\n",
       "    </tr>\n",
       "    <tr>\n",
       "      <th>4</th>\n",
       "      <td>Khawr Fakkān</td>\n",
       "      <td>United Arab Emirates</td>\n",
       "      <td>Ash Shāriqah</td>\n",
       "      <td>291696</td>\n",
       "    </tr>\n",
       "  </tbody>\n",
       "</table>\n",
       "</div>"
      ],
      "text/plain": [
       "               name               country          subcountry  geonameid\n",
       "0      les Escaldes               Andorra  Escaldes-Engordany    3040051\n",
       "1  Andorra la Vella               Andorra    Andorra la Vella    3041563\n",
       "2    Umm al Qaywayn  United Arab Emirates      Umm al Qaywayn     290594\n",
       "3    Ras al-Khaimah  United Arab Emirates     Raʼs al Khaymah     291074\n",
       "4      Khawr Fakkān  United Arab Emirates        Ash Shāriqah     291696"
      ]
     },
     "execution_count": 24,
     "metadata": {},
     "output_type": "execute_result"
    }
   ],
   "source": [
    "data2.head()"
   ]
  },
  {
   "cell_type": "markdown",
   "metadata": {},
   "source": [
    "## exo 3 lorem ipsum (ad lib)"
   ]
  },
  {
   "cell_type": "code",
   "execution_count": 25,
   "metadata": {},
   "outputs": [
    {
     "data": {
      "text/html": [
       "<div>\n",
       "<style scoped>\n",
       "    .dataframe tbody tr th:only-of-type {\n",
       "        vertical-align: middle;\n",
       "    }\n",
       "\n",
       "    .dataframe tbody tr th {\n",
       "        vertical-align: top;\n",
       "    }\n",
       "\n",
       "    .dataframe thead th {\n",
       "        text-align: right;\n",
       "    }\n",
       "</style>\n",
       "<table border=\"1\" class=\"dataframe\">\n",
       "  <thead>\n",
       "    <tr style=\"text-align: right;\">\n",
       "      <th></th>\n",
       "      <th></th>\n",
       "      <th></th>\n",
       "      <th></th>\n",
       "      <th></th>\n",
       "      <th></th>\n",
       "      <th>Lorem ipsum dolor sit amet</th>\n",
       "      <th>consectetur adipiscing elit</th>\n",
       "      <th>sed do eiusmod tempor incididunt ut labore et dolore magna aliqua. Ut enim ad minim veniam</th>\n",
       "      <th>quis nostrud exercitation ullamco laboris nisi ut aliquip ex ea commodo consequat. Duis aute irure dolor in reprehenderit in voluptate velit esse cillum dolore eu fugiat nulla pariatur. Excepteur sint occaecat cupidatat non proident</th>\n",
       "      <th>sunt in culpa qui officia deserunt mollit anim id est laborum.</th>\n",
       "    </tr>\n",
       "  </thead>\n",
       "  <tbody>\n",
       "    <tr>\n",
       "      <th>Sed ut perspiciatis unde omnis iste natus error sit voluptatem accusantium doloremque laudantium</th>\n",
       "      <th>totam rem aperiam</th>\n",
       "      <th>eaque ipsa quae ab illo inventore veritatis et quasi architecto beatae vitae dicta sunt explicabo. Nemo enim ipsam voluptatem quia voluptas sit aspernatur aut odit aut fugit</th>\n",
       "      <th>sed quia consequuntur magni dolores eos qui ratione voluptatem sequi nesciunt. Neque porro quisquam est</th>\n",
       "      <th>qui dolorem ipsum quia dolor sit amet</th>\n",
       "      <th>consectetur</th>\n",
       "      <td>adipisci velit</td>\n",
       "      <td>sed quia non numquam eius modi tempora incidu...</td>\n",
       "      <td>quis nostrum exercitationem ullam corporis su...</td>\n",
       "      <td>nisi ut aliquid ex ea commodi consequatur? Qu...</td>\n",
       "      <td>vel illum qui dolorem eum fugiat quo voluptas...</td>\n",
       "    </tr>\n",
       "    <tr>\n",
       "      <th>name</th>\n",
       "      <th>country</th>\n",
       "      <th>subcountry</th>\n",
       "      <th>geonameid</th>\n",
       "      <th>NaN</th>\n",
       "      <th>NaN</th>\n",
       "      <td>NaN</td>\n",
       "      <td>NaN</td>\n",
       "      <td>NaN</td>\n",
       "      <td>NaN</td>\n",
       "      <td>NaN</td>\n",
       "    </tr>\n",
       "    <tr>\n",
       "      <th>les Escaldes</th>\n",
       "      <th>Andorra</th>\n",
       "      <th>Escaldes-Engordany</th>\n",
       "      <th>3040051</th>\n",
       "      <th>NaN</th>\n",
       "      <th>NaN</th>\n",
       "      <td>NaN</td>\n",
       "      <td>NaN</td>\n",
       "      <td>NaN</td>\n",
       "      <td>NaN</td>\n",
       "      <td>NaN</td>\n",
       "    </tr>\n",
       "    <tr>\n",
       "      <th>Andorra la Vella</th>\n",
       "      <th>Andorra</th>\n",
       "      <th>Andorra la Vella</th>\n",
       "      <th>3041563</th>\n",
       "      <th>NaN</th>\n",
       "      <th>NaN</th>\n",
       "      <td>NaN</td>\n",
       "      <td>NaN</td>\n",
       "      <td>NaN</td>\n",
       "      <td>NaN</td>\n",
       "      <td>NaN</td>\n",
       "    </tr>\n",
       "    <tr>\n",
       "      <th>Umm al Qaywayn</th>\n",
       "      <th>United Arab Emirates</th>\n",
       "      <th>Umm al Qaywayn</th>\n",
       "      <th>290594</th>\n",
       "      <th>NaN</th>\n",
       "      <th>NaN</th>\n",
       "      <td>NaN</td>\n",
       "      <td>NaN</td>\n",
       "      <td>NaN</td>\n",
       "      <td>NaN</td>\n",
       "      <td>NaN</td>\n",
       "    </tr>\n",
       "    <tr>\n",
       "      <th>...</th>\n",
       "      <th>...</th>\n",
       "      <th>...</th>\n",
       "      <th>...</th>\n",
       "      <th>...</th>\n",
       "      <th>...</th>\n",
       "      <td>...</td>\n",
       "      <td>...</td>\n",
       "      <td>...</td>\n",
       "      <td>...</td>\n",
       "      <td>...</td>\n",
       "    </tr>\n",
       "    <tr>\n",
       "      <th>Bindura</th>\n",
       "      <th>Zimbabwe</th>\n",
       "      <th>Mashonaland Central</th>\n",
       "      <th>895061</th>\n",
       "      <th>NaN</th>\n",
       "      <th>NaN</th>\n",
       "      <td>NaN</td>\n",
       "      <td>NaN</td>\n",
       "      <td>NaN</td>\n",
       "      <td>NaN</td>\n",
       "      <td>NaN</td>\n",
       "    </tr>\n",
       "    <tr>\n",
       "      <th>Beitbridge</th>\n",
       "      <th>Zimbabwe</th>\n",
       "      <th>Matabeleland South</th>\n",
       "      <th>895269</th>\n",
       "      <th>NaN</th>\n",
       "      <th>NaN</th>\n",
       "      <td>NaN</td>\n",
       "      <td>NaN</td>\n",
       "      <td>NaN</td>\n",
       "      <td>NaN</td>\n",
       "      <td>NaN</td>\n",
       "    </tr>\n",
       "    <tr>\n",
       "      <th>Epworth</th>\n",
       "      <th>Zimbabwe</th>\n",
       "      <th>Harare</th>\n",
       "      <th>1085510</th>\n",
       "      <th>NaN</th>\n",
       "      <th>NaN</th>\n",
       "      <td>NaN</td>\n",
       "      <td>NaN</td>\n",
       "      <td>NaN</td>\n",
       "      <td>NaN</td>\n",
       "      <td>NaN</td>\n",
       "    </tr>\n",
       "    <tr>\n",
       "      <th>Chitungwiza</th>\n",
       "      <th>Zimbabwe</th>\n",
       "      <th>Harare</th>\n",
       "      <th>1106542</th>\n",
       "      <th>NaN</th>\n",
       "      <th>NaN</th>\n",
       "      <td>NaN</td>\n",
       "      <td>NaN</td>\n",
       "      <td>NaN</td>\n",
       "      <td>NaN</td>\n",
       "      <td>NaN</td>\n",
       "    </tr>\n",
       "    <tr>\n",
       "      <th>At vero eos et accusamus et iusto odio dignissimos ducimus qui blanditiis praesentium voluptatum deleniti atque corrupti quos dolores et quas molestias excepturi sint occaecati cupiditate non provident</th>\n",
       "      <th>similique sunt in culpa qui officia deserunt mollitia animi</th>\n",
       "      <th>id est laborum et dolorum fuga. Et harum quidem rerum facilis est et expedita distinctio. Nam libero tempore</th>\n",
       "      <th>cum soluta nobis est eligendi optio cumque nihil impedit quo minus id quod maxime placeat facere possimus</th>\n",
       "      <th>omnis voluptas assumenda est</th>\n",
       "      <th>omnis dolor repellendus. Temporibus autem quibusdam et aut officiis debitis aut rerum necessitatibus saepe eveniet ut et voluptates repudiandae sint et molestiae non recusandae. Itaque earum rerum hic tenetur a sapiente delectus</th>\n",
       "      <td>ut aut reiciendis voluptatibus maiores alias ...</td>\n",
       "      <td>NaN</td>\n",
       "      <td>NaN</td>\n",
       "      <td>NaN</td>\n",
       "      <td>NaN</td>\n",
       "    </tr>\n",
       "  </tbody>\n",
       "</table>\n",
       "<p>23021 rows × 5 columns</p>\n",
       "</div>"
      ],
      "text/plain": [
       "                                                                                                                                                                                                                                                                                                                              Lorem ipsum dolor sit amet  \\\n",
       "Sed ut perspiciatis unde omnis iste natus error...  totam rem aperiam                                  eaque ipsa quae ab illo inventore veritatis et...  sed quia consequuntur magni dolores eos qui ra...  qui dolorem ipsum quia dolor sit amet  consectetur                                                                           adipisci velit   \n",
       "name                                               country                                            subcountry                                         geonameid                                          NaN                                    NaN                                                                                               NaN   \n",
       "les Escaldes                                       Andorra                                            Escaldes-Engordany                                 3040051                                            NaN                                    NaN                                                                                               NaN   \n",
       "Andorra la Vella                                   Andorra                                            Andorra la Vella                                   3041563                                            NaN                                    NaN                                                                                               NaN   \n",
       "Umm al Qaywayn                                     United Arab Emirates                               Umm al Qaywayn                                     290594                                             NaN                                    NaN                                                                                               NaN   \n",
       "...                                                                                                                                                                                                                                                                                                                                                  ...   \n",
       "Bindura                                            Zimbabwe                                           Mashonaland Central                                895061                                             NaN                                    NaN                                                                                               NaN   \n",
       "Beitbridge                                         Zimbabwe                                           Matabeleland South                                 895269                                             NaN                                    NaN                                                                                               NaN   \n",
       "Epworth                                            Zimbabwe                                           Harare                                             1085510                                            NaN                                    NaN                                                                                               NaN   \n",
       "Chitungwiza                                        Zimbabwe                                           Harare                                             1106542                                            NaN                                    NaN                                                                                               NaN   \n",
       "At vero eos et accusamus et iusto odio dignissi...  similique sunt in culpa qui officia deserunt m...  id est laborum et dolorum fuga. Et harum quide...  cum soluta nobis est eligendi optio cumque nih...  omnis voluptas assumenda est           omnis dolor repellendus. Temporibus autem quib...   ut aut reiciendis voluptatibus maiores alias ...   \n",
       "\n",
       "                                                                                                                                                                                                                                                                                                                             consectetur adipiscing elit  \\\n",
       "Sed ut perspiciatis unde omnis iste natus error...  totam rem aperiam                                  eaque ipsa quae ab illo inventore veritatis et...  sed quia consequuntur magni dolores eos qui ra...  qui dolorem ipsum quia dolor sit amet  consectetur                                         sed quia non numquam eius modi tempora incidu...   \n",
       "name                                               country                                            subcountry                                         geonameid                                          NaN                                    NaN                                                                                               NaN   \n",
       "les Escaldes                                       Andorra                                            Escaldes-Engordany                                 3040051                                            NaN                                    NaN                                                                                               NaN   \n",
       "Andorra la Vella                                   Andorra                                            Andorra la Vella                                   3041563                                            NaN                                    NaN                                                                                               NaN   \n",
       "Umm al Qaywayn                                     United Arab Emirates                               Umm al Qaywayn                                     290594                                             NaN                                    NaN                                                                                               NaN   \n",
       "...                                                                                                                                                                                                                                                                                                                                                  ...   \n",
       "Bindura                                            Zimbabwe                                           Mashonaland Central                                895061                                             NaN                                    NaN                                                                                               NaN   \n",
       "Beitbridge                                         Zimbabwe                                           Matabeleland South                                 895269                                             NaN                                    NaN                                                                                               NaN   \n",
       "Epworth                                            Zimbabwe                                           Harare                                             1085510                                            NaN                                    NaN                                                                                               NaN   \n",
       "Chitungwiza                                        Zimbabwe                                           Harare                                             1106542                                            NaN                                    NaN                                                                                               NaN   \n",
       "At vero eos et accusamus et iusto odio dignissi...  similique sunt in culpa qui officia deserunt m...  id est laborum et dolorum fuga. Et harum quide...  cum soluta nobis est eligendi optio cumque nih...  omnis voluptas assumenda est           omnis dolor repellendus. Temporibus autem quib...                                                NaN   \n",
       "\n",
       "                                                                                                                                                                                                                                                                                                       sed do eiusmod tempor incididunt ut labore et dolore magna aliqua. Ut enim ad minim veniam  \\\n",
       "Sed ut perspiciatis unde omnis iste natus error...  totam rem aperiam                                  eaque ipsa quae ab illo inventore veritatis et...  sed quia consequuntur magni dolores eos qui ra...  qui dolorem ipsum quia dolor sit amet  consectetur                                         quis nostrum exercitationem ullam corporis su...                                            \n",
       "name                                               country                                            subcountry                                         geonameid                                          NaN                                    NaN                                                                                               NaN                                            \n",
       "les Escaldes                                       Andorra                                            Escaldes-Engordany                                 3040051                                            NaN                                    NaN                                                                                               NaN                                            \n",
       "Andorra la Vella                                   Andorra                                            Andorra la Vella                                   3041563                                            NaN                                    NaN                                                                                               NaN                                            \n",
       "Umm al Qaywayn                                     United Arab Emirates                               Umm al Qaywayn                                     290594                                             NaN                                    NaN                                                                                               NaN                                            \n",
       "...                                                                                                                                                                                                                                                                                                                                                  ...                                            \n",
       "Bindura                                            Zimbabwe                                           Mashonaland Central                                895061                                             NaN                                    NaN                                                                                               NaN                                            \n",
       "Beitbridge                                         Zimbabwe                                           Matabeleland South                                 895269                                             NaN                                    NaN                                                                                               NaN                                            \n",
       "Epworth                                            Zimbabwe                                           Harare                                             1085510                                            NaN                                    NaN                                                                                               NaN                                            \n",
       "Chitungwiza                                        Zimbabwe                                           Harare                                             1106542                                            NaN                                    NaN                                                                                               NaN                                            \n",
       "At vero eos et accusamus et iusto odio dignissi...  similique sunt in culpa qui officia deserunt m...  id est laborum et dolorum fuga. Et harum quide...  cum soluta nobis est eligendi optio cumque nih...  omnis voluptas assumenda est           omnis dolor repellendus. Temporibus autem quib...                                                NaN                                            \n",
       "\n",
       "                                                                                                                                                                                                                                                                                                       quis nostrud exercitation ullamco laboris nisi ut aliquip ex ea commodo consequat. Duis aute irure dolor in reprehenderit in voluptate velit esse cillum dolore eu fugiat nulla pariatur. Excepteur sint occaecat cupidatat non proident  \\\n",
       "Sed ut perspiciatis unde omnis iste natus error...  totam rem aperiam                                  eaque ipsa quae ab illo inventore veritatis et...  sed quia consequuntur magni dolores eos qui ra...  qui dolorem ipsum quia dolor sit amet  consectetur                                         nisi ut aliquid ex ea commodi consequatur? Qu...                                                                                                                                                                                          \n",
       "name                                               country                                            subcountry                                         geonameid                                          NaN                                    NaN                                                                                               NaN                                                                                                                                                                                          \n",
       "les Escaldes                                       Andorra                                            Escaldes-Engordany                                 3040051                                            NaN                                    NaN                                                                                               NaN                                                                                                                                                                                          \n",
       "Andorra la Vella                                   Andorra                                            Andorra la Vella                                   3041563                                            NaN                                    NaN                                                                                               NaN                                                                                                                                                                                          \n",
       "Umm al Qaywayn                                     United Arab Emirates                               Umm al Qaywayn                                     290594                                             NaN                                    NaN                                                                                               NaN                                                                                                                                                                                          \n",
       "...                                                                                                                                                                                                                                                                                                                                                  ...                                                                                                                                                                                          \n",
       "Bindura                                            Zimbabwe                                           Mashonaland Central                                895061                                             NaN                                    NaN                                                                                               NaN                                                                                                                                                                                          \n",
       "Beitbridge                                         Zimbabwe                                           Matabeleland South                                 895269                                             NaN                                    NaN                                                                                               NaN                                                                                                                                                                                          \n",
       "Epworth                                            Zimbabwe                                           Harare                                             1085510                                            NaN                                    NaN                                                                                               NaN                                                                                                                                                                                          \n",
       "Chitungwiza                                        Zimbabwe                                           Harare                                             1106542                                            NaN                                    NaN                                                                                               NaN                                                                                                                                                                                          \n",
       "At vero eos et accusamus et iusto odio dignissi...  similique sunt in culpa qui officia deserunt m...  id est laborum et dolorum fuga. Et harum quide...  cum soluta nobis est eligendi optio cumque nih...  omnis voluptas assumenda est           omnis dolor repellendus. Temporibus autem quib...                                                NaN                                                                                                                                                                                          \n",
       "\n",
       "                                                                                                                                                                                                                                                                                                       sunt in culpa qui officia deserunt mollit anim id est laborum.  \n",
       "Sed ut perspiciatis unde omnis iste natus error...  totam rem aperiam                                  eaque ipsa quae ab illo inventore veritatis et...  sed quia consequuntur magni dolores eos qui ra...  qui dolorem ipsum quia dolor sit amet  consectetur                                         vel illum qui dolorem eum fugiat quo voluptas...               \n",
       "name                                               country                                            subcountry                                         geonameid                                          NaN                                    NaN                                                                                               NaN               \n",
       "les Escaldes                                       Andorra                                            Escaldes-Engordany                                 3040051                                            NaN                                    NaN                                                                                               NaN               \n",
       "Andorra la Vella                                   Andorra                                            Andorra la Vella                                   3041563                                            NaN                                    NaN                                                                                               NaN               \n",
       "Umm al Qaywayn                                     United Arab Emirates                               Umm al Qaywayn                                     290594                                             NaN                                    NaN                                                                                               NaN               \n",
       "...                                                                                                                                                                                                                                                                                                                                                  ...               \n",
       "Bindura                                            Zimbabwe                                           Mashonaland Central                                895061                                             NaN                                    NaN                                                                                               NaN               \n",
       "Beitbridge                                         Zimbabwe                                           Matabeleland South                                 895269                                             NaN                                    NaN                                                                                               NaN               \n",
       "Epworth                                            Zimbabwe                                           Harare                                             1085510                                            NaN                                    NaN                                                                                               NaN               \n",
       "Chitungwiza                                        Zimbabwe                                           Harare                                             1106542                                            NaN                                    NaN                                                                                               NaN               \n",
       "At vero eos et accusamus et iusto odio dignissi...  similique sunt in culpa qui officia deserunt m...  id est laborum et dolorum fuga. Et harum quide...  cum soluta nobis est eligendi optio cumque nih...  omnis voluptas assumenda est           omnis dolor repellendus. Temporibus autem quib...                                                NaN               \n",
       "\n",
       "[23021 rows x 5 columns]"
      ]
     },
     "execution_count": 25,
     "metadata": {},
     "output_type": "execute_result"
    }
   ],
   "source": [
    "chemin3 = \"Https://bit.ly/world-cities-dirty-v2\"\n",
    "data3 = pd.read_csv(chemin3)\n",
    "data3"
   ]
  },
  {
   "cell_type": "markdown",
   "metadata": {},
   "source": [
    "on a un lorem ipsum en nom de colonnes et en premiere et derniere ligne"
   ]
  },
  {
   "cell_type": "code",
   "execution_count": 26,
   "metadata": {},
   "outputs": [
    {
     "name": "stderr",
     "output_type": "stream",
     "text": [
      "<ipython-input-26-d838235c124e>:2: ParserWarning: Falling back to the 'python' engine because the 'c' engine does not support skipfooter; you can avoid this warning by specifying engine='python'.\n",
      "  data3 = pd.read_csv(chemin3,skiprows=2,skipfooter=1)\n"
     ]
    },
    {
     "data": {
      "text/html": [
       "<div>\n",
       "<style scoped>\n",
       "    .dataframe tbody tr th:only-of-type {\n",
       "        vertical-align: middle;\n",
       "    }\n",
       "\n",
       "    .dataframe tbody tr th {\n",
       "        vertical-align: top;\n",
       "    }\n",
       "\n",
       "    .dataframe thead th {\n",
       "        text-align: right;\n",
       "    }\n",
       "</style>\n",
       "<table border=\"1\" class=\"dataframe\">\n",
       "  <thead>\n",
       "    <tr style=\"text-align: right;\">\n",
       "      <th></th>\n",
       "      <th>name</th>\n",
       "      <th>country</th>\n",
       "      <th>subcountry</th>\n",
       "      <th>geonameid</th>\n",
       "    </tr>\n",
       "  </thead>\n",
       "  <tbody>\n",
       "    <tr>\n",
       "      <th>0</th>\n",
       "      <td>les Escaldes</td>\n",
       "      <td>Andorra</td>\n",
       "      <td>Escaldes-Engordany</td>\n",
       "      <td>3040051</td>\n",
       "    </tr>\n",
       "    <tr>\n",
       "      <th>1</th>\n",
       "      <td>Andorra la Vella</td>\n",
       "      <td>Andorra</td>\n",
       "      <td>Andorra la Vella</td>\n",
       "      <td>3041563</td>\n",
       "    </tr>\n",
       "    <tr>\n",
       "      <th>2</th>\n",
       "      <td>Umm al Qaywayn</td>\n",
       "      <td>United Arab Emirates</td>\n",
       "      <td>Umm al Qaywayn</td>\n",
       "      <td>290594</td>\n",
       "    </tr>\n",
       "    <tr>\n",
       "      <th>3</th>\n",
       "      <td>Ras al-Khaimah</td>\n",
       "      <td>United Arab Emirates</td>\n",
       "      <td>Raʼs al Khaymah</td>\n",
       "      <td>291074</td>\n",
       "    </tr>\n",
       "    <tr>\n",
       "      <th>4</th>\n",
       "      <td>Khawr Fakkān</td>\n",
       "      <td>United Arab Emirates</td>\n",
       "      <td>Ash Shāriqah</td>\n",
       "      <td>291696</td>\n",
       "    </tr>\n",
       "    <tr>\n",
       "      <th>...</th>\n",
       "      <td>...</td>\n",
       "      <td>...</td>\n",
       "      <td>...</td>\n",
       "      <td>...</td>\n",
       "    </tr>\n",
       "    <tr>\n",
       "      <th>23013</th>\n",
       "      <td>Bulawayo</td>\n",
       "      <td>Zimbabwe</td>\n",
       "      <td>Bulawayo</td>\n",
       "      <td>894701</td>\n",
       "    </tr>\n",
       "    <tr>\n",
       "      <th>23014</th>\n",
       "      <td>Bindura</td>\n",
       "      <td>Zimbabwe</td>\n",
       "      <td>Mashonaland Central</td>\n",
       "      <td>895061</td>\n",
       "    </tr>\n",
       "    <tr>\n",
       "      <th>23015</th>\n",
       "      <td>Beitbridge</td>\n",
       "      <td>Zimbabwe</td>\n",
       "      <td>Matabeleland South</td>\n",
       "      <td>895269</td>\n",
       "    </tr>\n",
       "    <tr>\n",
       "      <th>23016</th>\n",
       "      <td>Epworth</td>\n",
       "      <td>Zimbabwe</td>\n",
       "      <td>Harare</td>\n",
       "      <td>1085510</td>\n",
       "    </tr>\n",
       "    <tr>\n",
       "      <th>23017</th>\n",
       "      <td>Chitungwiza</td>\n",
       "      <td>Zimbabwe</td>\n",
       "      <td>Harare</td>\n",
       "      <td>1106542</td>\n",
       "    </tr>\n",
       "  </tbody>\n",
       "</table>\n",
       "<p>23018 rows × 4 columns</p>\n",
       "</div>"
      ],
      "text/plain": [
       "                   name               country           subcountry  geonameid\n",
       "0          les Escaldes               Andorra   Escaldes-Engordany    3040051\n",
       "1      Andorra la Vella               Andorra     Andorra la Vella    3041563\n",
       "2        Umm al Qaywayn  United Arab Emirates       Umm al Qaywayn     290594\n",
       "3        Ras al-Khaimah  United Arab Emirates      Raʼs al Khaymah     291074\n",
       "4          Khawr Fakkān  United Arab Emirates         Ash Shāriqah     291696\n",
       "...                 ...                   ...                  ...        ...\n",
       "23013          Bulawayo              Zimbabwe             Bulawayo     894701\n",
       "23014           Bindura              Zimbabwe  Mashonaland Central     895061\n",
       "23015        Beitbridge              Zimbabwe   Matabeleland South     895269\n",
       "23016           Epworth              Zimbabwe               Harare    1085510\n",
       "23017       Chitungwiza              Zimbabwe               Harare    1106542\n",
       "\n",
       "[23018 rows x 4 columns]"
      ]
     },
     "execution_count": 26,
     "metadata": {},
     "output_type": "execute_result"
    }
   ],
   "source": [
    "chemin3 = \"Https://bit.ly/world-cities-dirty-v2\"\n",
    "data3 = pd.read_csv(chemin3,skiprows=2,skipfooter=1)\n",
    "data3"
   ]
  },
  {
   "cell_type": "markdown",
   "metadata": {},
   "source": [
    "si on a un probleme d'encodage il faut rajouter ,encode='utf-8' au read csv"
   ]
  },
  {
   "cell_type": "markdown",
   "metadata": {},
   "source": [
    "## exo 4 separation difficile"
   ]
  },
  {
   "cell_type": "code",
   "execution_count": 27,
   "metadata": {
    "scrolled": true
   },
   "outputs": [
    {
     "data": {
      "text/html": [
       "<div>\n",
       "<style scoped>\n",
       "    .dataframe tbody tr th:only-of-type {\n",
       "        vertical-align: middle;\n",
       "    }\n",
       "\n",
       "    .dataframe tbody tr th {\n",
       "        vertical-align: top;\n",
       "    }\n",
       "\n",
       "    .dataframe thead th {\n",
       "        text-align: right;\n",
       "    }\n",
       "</style>\n",
       "<table border=\"1\" class=\"dataframe\">\n",
       "  <thead>\n",
       "    <tr style=\"text-align: right;\">\n",
       "      <th></th>\n",
       "      <th>les Escaldes|Andorra|Escaldes-Engordany|3040051</th>\n",
       "    </tr>\n",
       "  </thead>\n",
       "  <tbody>\n",
       "    <tr>\n",
       "      <th>0</th>\n",
       "      <td>Andorra la Vella|Andorra|Andorra la Vella|3041563</td>\n",
       "    </tr>\n",
       "    <tr>\n",
       "      <th>1</th>\n",
       "      <td>Umm al Qaywayn|United Arab Emirates|Umm al Qay...</td>\n",
       "    </tr>\n",
       "    <tr>\n",
       "      <th>2</th>\n",
       "      <td>Ras al-Khaimah|United Arab Emirates|Raʼs al Kh...</td>\n",
       "    </tr>\n",
       "    <tr>\n",
       "      <th>3</th>\n",
       "      <td>Khawr Fakkān|United Arab Emirates|Ash Shāriqah...</td>\n",
       "    </tr>\n",
       "    <tr>\n",
       "      <th>4</th>\n",
       "      <td>Dubai|United Arab Emirates|Dubai|292223</td>\n",
       "    </tr>\n",
       "  </tbody>\n",
       "</table>\n",
       "</div>"
      ],
      "text/plain": [
       "     les Escaldes|Andorra|Escaldes-Engordany|3040051\n",
       "0  Andorra la Vella|Andorra|Andorra la Vella|3041563\n",
       "1  Umm al Qaywayn|United Arab Emirates|Umm al Qay...\n",
       "2  Ras al-Khaimah|United Arab Emirates|Raʼs al Kh...\n",
       "3  Khawr Fakkān|United Arab Emirates|Ash Shāriqah...\n",
       "4            Dubai|United Arab Emirates|Dubai|292223"
      ]
     },
     "execution_count": 27,
     "metadata": {},
     "output_type": "execute_result"
    }
   ],
   "source": [
    "chemin4 = \"Https://bit.ly/world-cities-dirty-v3\"\n",
    "data4 = pd.read_csv(chemin4)\n",
    "data4.head()"
   ]
  },
  {
   "cell_type": "code",
   "execution_count": 28,
   "metadata": {},
   "outputs": [
    {
     "data": {
      "text/html": [
       "<div>\n",
       "<style scoped>\n",
       "    .dataframe tbody tr th:only-of-type {\n",
       "        vertical-align: middle;\n",
       "    }\n",
       "\n",
       "    .dataframe tbody tr th {\n",
       "        vertical-align: top;\n",
       "    }\n",
       "\n",
       "    .dataframe thead th {\n",
       "        text-align: right;\n",
       "    }\n",
       "</style>\n",
       "<table border=\"1\" class=\"dataframe\">\n",
       "  <thead>\n",
       "    <tr style=\"text-align: right;\">\n",
       "      <th></th>\n",
       "      <th>les Escaldes|Andorra|Escaldes-Engordany|3040051</th>\n",
       "    </tr>\n",
       "  </thead>\n",
       "  <tbody>\n",
       "    <tr>\n",
       "      <th>23012</th>\n",
       "      <td>Bulawayo|Zimbabwe|Bulawayo|894701</td>\n",
       "    </tr>\n",
       "    <tr>\n",
       "      <th>23013</th>\n",
       "      <td>Bindura|Zimbabwe|Mashonaland Central|895061</td>\n",
       "    </tr>\n",
       "    <tr>\n",
       "      <th>23014</th>\n",
       "      <td>Beitbridge|Zimbabwe|Matabeleland South|895269</td>\n",
       "    </tr>\n",
       "    <tr>\n",
       "      <th>23015</th>\n",
       "      <td>Epworth|Zimbabwe|Harare|1085510</td>\n",
       "    </tr>\n",
       "    <tr>\n",
       "      <th>23016</th>\n",
       "      <td>Chitungwiza|Zimbabwe|Harare|1106542</td>\n",
       "    </tr>\n",
       "  </tbody>\n",
       "</table>\n",
       "</div>"
      ],
      "text/plain": [
       "      les Escaldes|Andorra|Escaldes-Engordany|3040051\n",
       "23012               Bulawayo|Zimbabwe|Bulawayo|894701\n",
       "23013     Bindura|Zimbabwe|Mashonaland Central|895061\n",
       "23014   Beitbridge|Zimbabwe|Matabeleland South|895269\n",
       "23015                 Epworth|Zimbabwe|Harare|1085510\n",
       "23016             Chitungwiza|Zimbabwe|Harare|1106542"
      ]
     },
     "execution_count": 28,
     "metadata": {},
     "output_type": "execute_result"
    }
   ],
   "source": [
    "data4.tail()"
   ]
  },
  {
   "cell_type": "markdown",
   "metadata": {},
   "source": [
    "ici on a un probleme ou au lieu d'avoir des , pour delimiter on a des | et y a pas de nom de colonnes"
   ]
  },
  {
   "cell_type": "code",
   "execution_count": 29,
   "metadata": {
    "scrolled": true
   },
   "outputs": [
    {
     "data": {
      "text/html": [
       "<div>\n",
       "<style scoped>\n",
       "    .dataframe tbody tr th:only-of-type {\n",
       "        vertical-align: middle;\n",
       "    }\n",
       "\n",
       "    .dataframe tbody tr th {\n",
       "        vertical-align: top;\n",
       "    }\n",
       "\n",
       "    .dataframe thead th {\n",
       "        text-align: right;\n",
       "    }\n",
       "</style>\n",
       "<table border=\"1\" class=\"dataframe\">\n",
       "  <thead>\n",
       "    <tr style=\"text-align: right;\">\n",
       "      <th></th>\n",
       "      <th>name</th>\n",
       "      <th>country</th>\n",
       "      <th>subcountry</th>\n",
       "      <th>geonameid</th>\n",
       "    </tr>\n",
       "  </thead>\n",
       "  <tbody>\n",
       "    <tr>\n",
       "      <th>0</th>\n",
       "      <td>les Escaldes</td>\n",
       "      <td>Andorra</td>\n",
       "      <td>Escaldes-Engordany</td>\n",
       "      <td>3040051</td>\n",
       "    </tr>\n",
       "    <tr>\n",
       "      <th>1</th>\n",
       "      <td>Andorra la Vella</td>\n",
       "      <td>Andorra</td>\n",
       "      <td>Andorra la Vella</td>\n",
       "      <td>3041563</td>\n",
       "    </tr>\n",
       "    <tr>\n",
       "      <th>2</th>\n",
       "      <td>Umm al Qaywayn</td>\n",
       "      <td>United Arab Emirates</td>\n",
       "      <td>Umm al Qaywayn</td>\n",
       "      <td>290594</td>\n",
       "    </tr>\n",
       "    <tr>\n",
       "      <th>3</th>\n",
       "      <td>Ras al-Khaimah</td>\n",
       "      <td>United Arab Emirates</td>\n",
       "      <td>Raʼs al Khaymah</td>\n",
       "      <td>291074</td>\n",
       "    </tr>\n",
       "    <tr>\n",
       "      <th>4</th>\n",
       "      <td>Khawr Fakkān</td>\n",
       "      <td>United Arab Emirates</td>\n",
       "      <td>Ash Shāriqah</td>\n",
       "      <td>291696</td>\n",
       "    </tr>\n",
       "  </tbody>\n",
       "</table>\n",
       "</div>"
      ],
      "text/plain": [
       "               name               country          subcountry  geonameid\n",
       "0      les Escaldes               Andorra  Escaldes-Engordany    3040051\n",
       "1  Andorra la Vella               Andorra    Andorra la Vella    3041563\n",
       "2    Umm al Qaywayn  United Arab Emirates      Umm al Qaywayn     290594\n",
       "3    Ras al-Khaimah  United Arab Emirates     Raʼs al Khaymah     291074\n",
       "4      Khawr Fakkān  United Arab Emirates        Ash Shāriqah     291696"
      ]
     },
     "execution_count": 29,
     "metadata": {},
     "output_type": "execute_result"
    }
   ],
   "source": [
    "chemin4 = \"Https://bit.ly/world-cities-dirty-v3\"\n",
    "data4 = pd.read_csv(chemin4, delimiter='|',names=['name','country','subcountry','geonameid'])\n",
    "data4.head()"
   ]
  },
  {
   "cell_type": "code",
   "execution_count": 30,
   "metadata": {},
   "outputs": [
    {
     "data": {
      "text/html": [
       "<div>\n",
       "<style scoped>\n",
       "    .dataframe tbody tr th:only-of-type {\n",
       "        vertical-align: middle;\n",
       "    }\n",
       "\n",
       "    .dataframe tbody tr th {\n",
       "        vertical-align: top;\n",
       "    }\n",
       "\n",
       "    .dataframe thead th {\n",
       "        text-align: right;\n",
       "    }\n",
       "</style>\n",
       "<table border=\"1\" class=\"dataframe\">\n",
       "  <thead>\n",
       "    <tr style=\"text-align: right;\">\n",
       "      <th></th>\n",
       "      <th>name</th>\n",
       "      <th>country</th>\n",
       "      <th>subcountry</th>\n",
       "      <th>geonameid</th>\n",
       "    </tr>\n",
       "  </thead>\n",
       "  <tbody>\n",
       "    <tr>\n",
       "      <th>23013</th>\n",
       "      <td>Bulawayo</td>\n",
       "      <td>Zimbabwe</td>\n",
       "      <td>Bulawayo</td>\n",
       "      <td>894701</td>\n",
       "    </tr>\n",
       "    <tr>\n",
       "      <th>23014</th>\n",
       "      <td>Bindura</td>\n",
       "      <td>Zimbabwe</td>\n",
       "      <td>Mashonaland Central</td>\n",
       "      <td>895061</td>\n",
       "    </tr>\n",
       "    <tr>\n",
       "      <th>23015</th>\n",
       "      <td>Beitbridge</td>\n",
       "      <td>Zimbabwe</td>\n",
       "      <td>Matabeleland South</td>\n",
       "      <td>895269</td>\n",
       "    </tr>\n",
       "    <tr>\n",
       "      <th>23016</th>\n",
       "      <td>Epworth</td>\n",
       "      <td>Zimbabwe</td>\n",
       "      <td>Harare</td>\n",
       "      <td>1085510</td>\n",
       "    </tr>\n",
       "    <tr>\n",
       "      <th>23017</th>\n",
       "      <td>Chitungwiza</td>\n",
       "      <td>Zimbabwe</td>\n",
       "      <td>Harare</td>\n",
       "      <td>1106542</td>\n",
       "    </tr>\n",
       "  </tbody>\n",
       "</table>\n",
       "</div>"
      ],
      "text/plain": [
       "              name   country           subcountry  geonameid\n",
       "23013     Bulawayo  Zimbabwe             Bulawayo     894701\n",
       "23014      Bindura  Zimbabwe  Mashonaland Central     895061\n",
       "23015   Beitbridge  Zimbabwe   Matabeleland South     895269\n",
       "23016      Epworth  Zimbabwe               Harare    1085510\n",
       "23017  Chitungwiza  Zimbabwe               Harare    1106542"
      ]
     },
     "execution_count": 30,
     "metadata": {},
     "output_type": "execute_result"
    }
   ],
   "source": [
    "data4.tail()"
   ]
  },
  {
   "cell_type": "markdown",
   "metadata": {},
   "source": [
    "on a demande a modifier quel est le delimiteur plutot que de le remplacer pour des raisons pratiques, sinon il faudrait remodifier le fichier a chaque mise a jour de ce dernier. et on a rajoute l'en tete"
   ]
  },
  {
   "cell_type": "markdown",
   "metadata": {},
   "source": [
    "## les bons conseils du professeur"
   ]
  },
  {
   "cell_type": "markdown",
   "metadata": {},
   "source": [
    "apres avoir importe et stocke un csv :<br/><br/>\n",
    "<strong>df.shape</strong> pour regarder le nombres de ligne et de colonnes<br/>\n",
    "<strong>df.dtypes</strong> pour regarder le nom des colonnes et leur type d'un seul coup (j'en profite pour repérer d'éventuel conversion de types qu'il faudra effectuer)<br/>\n",
    "<strong>df.head()</strong> pour regarder à quoi ressemble les premières lignes du dataset.<br/>\n",
    "<strong>df.tail()</strong> pour regarder les dernières lignes du dataset. J'en profite pour comparer le résultat de head avec celui de tail, y-a-t'il une quelconque différence? Parfois les anomalies sont rangées à la fin du dataset.<br/>\n",
    "<strong>df.isna().sum()</strong> pour vérifier la présence de valeurs manquantes par colonnes.<br/>"
   ]
  },
  {
   "cell_type": "code",
   "execution_count": 31,
   "metadata": {},
   "outputs": [],
   "source": [
    "cheminex=\"https://bit.ly/bitcoin-data\"\n",
    "dataex=pd.read_csv(cheminex)"
   ]
  },
  {
   "cell_type": "code",
   "execution_count": 32,
   "metadata": {},
   "outputs": [
    {
     "data": {
      "text/plain": [
       "(33, 7)"
      ]
     },
     "execution_count": 32,
     "metadata": {},
     "output_type": "execute_result"
    }
   ],
   "source": [
    "dataex.shape"
   ]
  },
  {
   "cell_type": "code",
   "execution_count": 33,
   "metadata": {},
   "outputs": [
    {
     "data": {
      "text/plain": [
       "Date           object\n",
       "Open*         float64\n",
       "High          float64\n",
       "Low           float64\n",
       "Close**       float64\n",
       "Volume        float64\n",
       "Market Cap    float64\n",
       "dtype: object"
      ]
     },
     "execution_count": 33,
     "metadata": {},
     "output_type": "execute_result"
    }
   ],
   "source": [
    "dataex.dtypes"
   ]
  },
  {
   "cell_type": "code",
   "execution_count": 34,
   "metadata": {},
   "outputs": [
    {
     "data": {
      "text/html": [
       "<div>\n",
       "<style scoped>\n",
       "    .dataframe tbody tr th:only-of-type {\n",
       "        vertical-align: middle;\n",
       "    }\n",
       "\n",
       "    .dataframe tbody tr th {\n",
       "        vertical-align: top;\n",
       "    }\n",
       "\n",
       "    .dataframe thead th {\n",
       "        text-align: right;\n",
       "    }\n",
       "</style>\n",
       "<table border=\"1\" class=\"dataframe\">\n",
       "  <thead>\n",
       "    <tr style=\"text-align: right;\">\n",
       "      <th></th>\n",
       "      <th>Date</th>\n",
       "      <th>Open*</th>\n",
       "      <th>High</th>\n",
       "      <th>Low</th>\n",
       "      <th>Close**</th>\n",
       "      <th>Volume</th>\n",
       "      <th>Market Cap</th>\n",
       "    </tr>\n",
       "  </thead>\n",
       "  <tbody>\n",
       "    <tr>\n",
       "      <th>0</th>\n",
       "      <td>Jan 14 2020</td>\n",
       "      <td>8140.93</td>\n",
       "      <td>8879.51</td>\n",
       "      <td>8140.93</td>\n",
       "      <td>8827.76</td>\n",
       "      <td>4.484178e+10</td>\n",
       "      <td>1.603195e+11</td>\n",
       "    </tr>\n",
       "    <tr>\n",
       "      <th>1</th>\n",
       "      <td>Jan 13 2020</td>\n",
       "      <td>8189.77</td>\n",
       "      <td>8197.79</td>\n",
       "      <td>8079.70</td>\n",
       "      <td>8144.19</td>\n",
       "      <td>2.248291e+10</td>\n",
       "      <td>1.478905e+11</td>\n",
       "    </tr>\n",
       "    <tr>\n",
       "      <th>2</th>\n",
       "      <td>Jan 12 2020</td>\n",
       "      <td>8033.26</td>\n",
       "      <td>8200.06</td>\n",
       "      <td>8009.06</td>\n",
       "      <td>8192.49</td>\n",
       "      <td>2.290344e+10</td>\n",
       "      <td>1.487530e+11</td>\n",
       "    </tr>\n",
       "    <tr>\n",
       "      <th>3</th>\n",
       "      <td>Jan 11 2020</td>\n",
       "      <td>8162.19</td>\n",
       "      <td>8218.36</td>\n",
       "      <td>8029.64</td>\n",
       "      <td>8037.54</td>\n",
       "      <td>2.552117e+10</td>\n",
       "      <td>1.459242e+11</td>\n",
       "    </tr>\n",
       "    <tr>\n",
       "      <th>4</th>\n",
       "      <td>Jan 10 2020</td>\n",
       "      <td>7878.31</td>\n",
       "      <td>8166.55</td>\n",
       "      <td>7726.77</td>\n",
       "      <td>8166.55</td>\n",
       "      <td>2.871458e+10</td>\n",
       "      <td>1.482499e+11</td>\n",
       "    </tr>\n",
       "  </tbody>\n",
       "</table>\n",
       "</div>"
      ],
      "text/plain": [
       "          Date    Open*     High      Low  Close**        Volume    Market Cap\n",
       "0  Jan 14 2020  8140.93  8879.51  8140.93  8827.76  4.484178e+10  1.603195e+11\n",
       "1  Jan 13 2020  8189.77  8197.79  8079.70  8144.19  2.248291e+10  1.478905e+11\n",
       "2  Jan 12 2020  8033.26  8200.06  8009.06  8192.49  2.290344e+10  1.487530e+11\n",
       "3  Jan 11 2020  8162.19  8218.36  8029.64  8037.54  2.552117e+10  1.459242e+11\n",
       "4  Jan 10 2020  7878.31  8166.55  7726.77  8166.55  2.871458e+10  1.482499e+11"
      ]
     },
     "execution_count": 34,
     "metadata": {},
     "output_type": "execute_result"
    }
   ],
   "source": [
    "dataex.head()"
   ]
  },
  {
   "cell_type": "code",
   "execution_count": 35,
   "metadata": {},
   "outputs": [
    {
     "data": {
      "text/html": [
       "<div>\n",
       "<style scoped>\n",
       "    .dataframe tbody tr th:only-of-type {\n",
       "        vertical-align: middle;\n",
       "    }\n",
       "\n",
       "    .dataframe tbody tr th {\n",
       "        vertical-align: top;\n",
       "    }\n",
       "\n",
       "    .dataframe thead th {\n",
       "        text-align: right;\n",
       "    }\n",
       "</style>\n",
       "<table border=\"1\" class=\"dataframe\">\n",
       "  <thead>\n",
       "    <tr style=\"text-align: right;\">\n",
       "      <th></th>\n",
       "      <th>Date</th>\n",
       "      <th>Open*</th>\n",
       "      <th>High</th>\n",
       "      <th>Low</th>\n",
       "      <th>Close**</th>\n",
       "      <th>Volume</th>\n",
       "      <th>Market Cap</th>\n",
       "    </tr>\n",
       "  </thead>\n",
       "  <tbody>\n",
       "    <tr>\n",
       "      <th>28</th>\n",
       "      <td>Dec 17 2019</td>\n",
       "      <td>6931.32</td>\n",
       "      <td>6964.07</td>\n",
       "      <td>6587.97</td>\n",
       "      <td>6640.52</td>\n",
       "      <td>2.236380e+10</td>\n",
       "      <td>1.202342e+11</td>\n",
       "    </tr>\n",
       "    <tr>\n",
       "      <th>29</th>\n",
       "      <td>Dec 16 2019</td>\n",
       "      <td>7153.66</td>\n",
       "      <td>7171.17</td>\n",
       "      <td>6903.68</td>\n",
       "      <td>6932.48</td>\n",
       "      <td>2.021327e+10</td>\n",
       "      <td>1.255156e+11</td>\n",
       "    </tr>\n",
       "    <tr>\n",
       "      <th>30</th>\n",
       "      <td>Dec 15 2019</td>\n",
       "      <td>7124.24</td>\n",
       "      <td>7181.08</td>\n",
       "      <td>6924.38</td>\n",
       "      <td>7152.30</td>\n",
       "      <td>1.688113e+10</td>\n",
       "      <td>1.294814e+11</td>\n",
       "    </tr>\n",
       "    <tr>\n",
       "      <th>31</th>\n",
       "      <td>* Earliest data in range (UTC time)</td>\n",
       "      <td>NaN</td>\n",
       "      <td>NaN</td>\n",
       "      <td>NaN</td>\n",
       "      <td>NaN</td>\n",
       "      <td>NaN</td>\n",
       "      <td>NaN</td>\n",
       "    </tr>\n",
       "    <tr>\n",
       "      <th>32</th>\n",
       "      <td>** Latest data in range (UTC time)</td>\n",
       "      <td>NaN</td>\n",
       "      <td>NaN</td>\n",
       "      <td>NaN</td>\n",
       "      <td>NaN</td>\n",
       "      <td>NaN</td>\n",
       "      <td>NaN</td>\n",
       "    </tr>\n",
       "  </tbody>\n",
       "</table>\n",
       "</div>"
      ],
      "text/plain": [
       "                                   Date    Open*     High      Low  Close**  \\\n",
       "28                          Dec 17 2019  6931.32  6964.07  6587.97  6640.52   \n",
       "29                          Dec 16 2019  7153.66  7171.17  6903.68  6932.48   \n",
       "30                          Dec 15 2019  7124.24  7181.08  6924.38  7152.30   \n",
       "31  * Earliest data in range (UTC time)      NaN      NaN      NaN      NaN   \n",
       "32   ** Latest data in range (UTC time)      NaN      NaN      NaN      NaN   \n",
       "\n",
       "          Volume    Market Cap  \n",
       "28  2.236380e+10  1.202342e+11  \n",
       "29  2.021327e+10  1.255156e+11  \n",
       "30  1.688113e+10  1.294814e+11  \n",
       "31           NaN           NaN  \n",
       "32           NaN           NaN  "
      ]
     },
     "execution_count": 35,
     "metadata": {},
     "output_type": "execute_result"
    }
   ],
   "source": [
    "dataex.tail()"
   ]
  },
  {
   "cell_type": "code",
   "execution_count": 36,
   "metadata": {},
   "outputs": [
    {
     "data": {
      "text/plain": [
       "Date          0\n",
       "Open*         2\n",
       "High          2\n",
       "Low           2\n",
       "Close**       2\n",
       "Volume        2\n",
       "Market Cap    2\n",
       "dtype: int64"
      ]
     },
     "execution_count": 36,
     "metadata": {},
     "output_type": "execute_result"
    }
   ],
   "source": [
    "dataex.isna().sum()"
   ]
  },
  {
   "cell_type": "markdown",
   "metadata": {},
   "source": [
    "on constate qu'il y a un probleme qu'on doit regler"
   ]
  },
  {
   "cell_type": "code",
   "execution_count": 37,
   "metadata": {},
   "outputs": [
    {
     "name": "stderr",
     "output_type": "stream",
     "text": [
      "<ipython-input-37-9a974c9a3621>:1: ParserWarning: Falling back to the 'python' engine because the 'c' engine does not support skipfooter; you can avoid this warning by specifying engine='python'.\n",
      "  dataex=pd.read_csv(cheminex,skipfooter=2)\n"
     ]
    }
   ],
   "source": [
    "dataex=pd.read_csv(cheminex,skipfooter=2)"
   ]
  },
  {
   "cell_type": "markdown",
   "metadata": {},
   "source": [
    "la les tests donneront des resultats plus pertinents car probleme corrige"
   ]
  },
  {
   "cell_type": "code",
   "execution_count": 38,
   "metadata": {},
   "outputs": [
    {
     "data": {
      "text/plain": [
       "(31, 7)"
      ]
     },
     "execution_count": 38,
     "metadata": {},
     "output_type": "execute_result"
    }
   ],
   "source": [
    "dataex.shape"
   ]
  },
  {
   "cell_type": "code",
   "execution_count": 39,
   "metadata": {
    "scrolled": true
   },
   "outputs": [
    {
     "data": {
      "text/plain": [
       "Date           object\n",
       "Open*         float64\n",
       "High          float64\n",
       "Low           float64\n",
       "Close**       float64\n",
       "Volume          int64\n",
       "Market Cap      int64\n",
       "dtype: object"
      ]
     },
     "execution_count": 39,
     "metadata": {},
     "output_type": "execute_result"
    }
   ],
   "source": [
    "dataex.dtypes"
   ]
  },
  {
   "cell_type": "code",
   "execution_count": 40,
   "metadata": {},
   "outputs": [
    {
     "data": {
      "text/html": [
       "<div>\n",
       "<style scoped>\n",
       "    .dataframe tbody tr th:only-of-type {\n",
       "        vertical-align: middle;\n",
       "    }\n",
       "\n",
       "    .dataframe tbody tr th {\n",
       "        vertical-align: top;\n",
       "    }\n",
       "\n",
       "    .dataframe thead th {\n",
       "        text-align: right;\n",
       "    }\n",
       "</style>\n",
       "<table border=\"1\" class=\"dataframe\">\n",
       "  <thead>\n",
       "    <tr style=\"text-align: right;\">\n",
       "      <th></th>\n",
       "      <th>Date</th>\n",
       "      <th>Open*</th>\n",
       "      <th>High</th>\n",
       "      <th>Low</th>\n",
       "      <th>Close**</th>\n",
       "      <th>Volume</th>\n",
       "      <th>Market Cap</th>\n",
       "    </tr>\n",
       "  </thead>\n",
       "  <tbody>\n",
       "    <tr>\n",
       "      <th>0</th>\n",
       "      <td>Jan 14 2020</td>\n",
       "      <td>8140.93</td>\n",
       "      <td>8879.51</td>\n",
       "      <td>8140.93</td>\n",
       "      <td>8827.76</td>\n",
       "      <td>44841784107</td>\n",
       "      <td>160319484883</td>\n",
       "    </tr>\n",
       "    <tr>\n",
       "      <th>1</th>\n",
       "      <td>Jan 13 2020</td>\n",
       "      <td>8189.77</td>\n",
       "      <td>8197.79</td>\n",
       "      <td>8079.70</td>\n",
       "      <td>8144.19</td>\n",
       "      <td>22482910688</td>\n",
       "      <td>147890525973</td>\n",
       "    </tr>\n",
       "    <tr>\n",
       "      <th>2</th>\n",
       "      <td>Jan 12 2020</td>\n",
       "      <td>8033.26</td>\n",
       "      <td>8200.06</td>\n",
       "      <td>8009.06</td>\n",
       "      <td>8192.49</td>\n",
       "      <td>22903438381</td>\n",
       "      <td>148752956966</td>\n",
       "    </tr>\n",
       "    <tr>\n",
       "      <th>3</th>\n",
       "      <td>Jan 11 2020</td>\n",
       "      <td>8162.19</td>\n",
       "      <td>8218.36</td>\n",
       "      <td>8029.64</td>\n",
       "      <td>8037.54</td>\n",
       "      <td>25521165085</td>\n",
       "      <td>145924199942</td>\n",
       "    </tr>\n",
       "    <tr>\n",
       "      <th>4</th>\n",
       "      <td>Jan 10 2020</td>\n",
       "      <td>7878.31</td>\n",
       "      <td>8166.55</td>\n",
       "      <td>7726.77</td>\n",
       "      <td>8166.55</td>\n",
       "      <td>28714583844</td>\n",
       "      <td>148249907277</td>\n",
       "    </tr>\n",
       "  </tbody>\n",
       "</table>\n",
       "</div>"
      ],
      "text/plain": [
       "          Date    Open*     High      Low  Close**       Volume    Market Cap\n",
       "0  Jan 14 2020  8140.93  8879.51  8140.93  8827.76  44841784107  160319484883\n",
       "1  Jan 13 2020  8189.77  8197.79  8079.70  8144.19  22482910688  147890525973\n",
       "2  Jan 12 2020  8033.26  8200.06  8009.06  8192.49  22903438381  148752956966\n",
       "3  Jan 11 2020  8162.19  8218.36  8029.64  8037.54  25521165085  145924199942\n",
       "4  Jan 10 2020  7878.31  8166.55  7726.77  8166.55  28714583844  148249907277"
      ]
     },
     "execution_count": 40,
     "metadata": {},
     "output_type": "execute_result"
    }
   ],
   "source": [
    "dataex.head()"
   ]
  },
  {
   "cell_type": "code",
   "execution_count": 41,
   "metadata": {},
   "outputs": [
    {
     "data": {
      "text/html": [
       "<div>\n",
       "<style scoped>\n",
       "    .dataframe tbody tr th:only-of-type {\n",
       "        vertical-align: middle;\n",
       "    }\n",
       "\n",
       "    .dataframe tbody tr th {\n",
       "        vertical-align: top;\n",
       "    }\n",
       "\n",
       "    .dataframe thead th {\n",
       "        text-align: right;\n",
       "    }\n",
       "</style>\n",
       "<table border=\"1\" class=\"dataframe\">\n",
       "  <thead>\n",
       "    <tr style=\"text-align: right;\">\n",
       "      <th></th>\n",
       "      <th>Date</th>\n",
       "      <th>Open*</th>\n",
       "      <th>High</th>\n",
       "      <th>Low</th>\n",
       "      <th>Close**</th>\n",
       "      <th>Volume</th>\n",
       "      <th>Market Cap</th>\n",
       "    </tr>\n",
       "  </thead>\n",
       "  <tbody>\n",
       "    <tr>\n",
       "      <th>26</th>\n",
       "      <td>Dec 19 2019</td>\n",
       "      <td>7277.59</td>\n",
       "      <td>7346.60</td>\n",
       "      <td>7041.38</td>\n",
       "      <td>7202.84</td>\n",
       "      <td>25904604416</td>\n",
       "      <td>130445758713</td>\n",
       "    </tr>\n",
       "    <tr>\n",
       "      <th>27</th>\n",
       "      <td>Dec 18 2019</td>\n",
       "      <td>6647.70</td>\n",
       "      <td>7324.98</td>\n",
       "      <td>6540.05</td>\n",
       "      <td>7276.80</td>\n",
       "      <td>31836522778</td>\n",
       "      <td>131754969804</td>\n",
       "    </tr>\n",
       "    <tr>\n",
       "      <th>28</th>\n",
       "      <td>Dec 17 2019</td>\n",
       "      <td>6931.32</td>\n",
       "      <td>6964.07</td>\n",
       "      <td>6587.97</td>\n",
       "      <td>6640.52</td>\n",
       "      <td>22363804217</td>\n",
       "      <td>120234244809</td>\n",
       "    </tr>\n",
       "    <tr>\n",
       "      <th>29</th>\n",
       "      <td>Dec 16 2019</td>\n",
       "      <td>7153.66</td>\n",
       "      <td>7171.17</td>\n",
       "      <td>6903.68</td>\n",
       "      <td>6932.48</td>\n",
       "      <td>20213265950</td>\n",
       "      <td>125515586952</td>\n",
       "    </tr>\n",
       "    <tr>\n",
       "      <th>30</th>\n",
       "      <td>Dec 15 2019</td>\n",
       "      <td>7124.24</td>\n",
       "      <td>7181.08</td>\n",
       "      <td>6924.38</td>\n",
       "      <td>7152.30</td>\n",
       "      <td>16881129804</td>\n",
       "      <td>129481424648</td>\n",
       "    </tr>\n",
       "  </tbody>\n",
       "</table>\n",
       "</div>"
      ],
      "text/plain": [
       "           Date    Open*     High      Low  Close**       Volume    Market Cap\n",
       "26  Dec 19 2019  7277.59  7346.60  7041.38  7202.84  25904604416  130445758713\n",
       "27  Dec 18 2019  6647.70  7324.98  6540.05  7276.80  31836522778  131754969804\n",
       "28  Dec 17 2019  6931.32  6964.07  6587.97  6640.52  22363804217  120234244809\n",
       "29  Dec 16 2019  7153.66  7171.17  6903.68  6932.48  20213265950  125515586952\n",
       "30  Dec 15 2019  7124.24  7181.08  6924.38  7152.30  16881129804  129481424648"
      ]
     },
     "execution_count": 41,
     "metadata": {},
     "output_type": "execute_result"
    }
   ],
   "source": [
    "dataex.tail()"
   ]
  },
  {
   "cell_type": "code",
   "execution_count": 42,
   "metadata": {},
   "outputs": [
    {
     "data": {
      "text/plain": [
       "Date          0\n",
       "Open*         0\n",
       "High          0\n",
       "Low           0\n",
       "Close**       0\n",
       "Volume        0\n",
       "Market Cap    0\n",
       "dtype: int64"
      ]
     },
     "execution_count": 42,
     "metadata": {},
     "output_type": "execute_result"
    }
   ],
   "source": [
    "dataex.isna().sum()"
   ]
  },
  {
   "cell_type": "markdown",
   "metadata": {},
   "source": [
    "la on part sur du csv propre sur lequel on peut travailler"
   ]
  },
  {
   "cell_type": "markdown",
   "metadata": {},
   "source": [
    "# alteration des tables"
   ]
  },
  {
   "cell_type": "markdown",
   "metadata": {},
   "source": [
    "les vues : l'utilisation d'inplace<br/>\n",
    "True on altere l'original<br/>\n",
    "False on renvoie une vue/copie<br/>"
   ]
  },
  {
   "cell_type": "code",
   "execution_count": 43,
   "metadata": {},
   "outputs": [],
   "source": [
    "dataex.rename(columns={\"Open*\":\"Open\"},inplace=True)"
   ]
  },
  {
   "cell_type": "markdown",
   "metadata": {},
   "source": [
    "modifie l'original"
   ]
  },
  {
   "cell_type": "raw",
   "metadata": {},
   "source": [
    "dataex = dataex.rename(columns={\"Open*\":\"Open\"})"
   ]
  },
  {
   "cell_type": "markdown",
   "metadata": {},
   "source": [
    "fait de meme"
   ]
  },
  {
   "cell_type": "raw",
   "metadata": {},
   "source": [
    "dataex[\"Open*\"].rename(\"Open\")"
   ]
  },
  {
   "cell_type": "markdown",
   "metadata": {},
   "source": [
    "ne modifie pas l'original"
   ]
  },
  {
   "cell_type": "code",
   "execution_count": 44,
   "metadata": {},
   "outputs": [
    {
     "data": {
      "text/html": [
       "<div>\n",
       "<style scoped>\n",
       "    .dataframe tbody tr th:only-of-type {\n",
       "        vertical-align: middle;\n",
       "    }\n",
       "\n",
       "    .dataframe tbody tr th {\n",
       "        vertical-align: top;\n",
       "    }\n",
       "\n",
       "    .dataframe thead th {\n",
       "        text-align: right;\n",
       "    }\n",
       "</style>\n",
       "<table border=\"1\" class=\"dataframe\">\n",
       "  <thead>\n",
       "    <tr style=\"text-align: right;\">\n",
       "      <th></th>\n",
       "      <th>Date</th>\n",
       "      <th>Open</th>\n",
       "      <th>High</th>\n",
       "      <th>Low</th>\n",
       "      <th>Close**</th>\n",
       "      <th>Volume</th>\n",
       "      <th>Market Cap</th>\n",
       "    </tr>\n",
       "  </thead>\n",
       "  <tbody>\n",
       "    <tr>\n",
       "      <th>0</th>\n",
       "      <td>Jan 14 2020</td>\n",
       "      <td>8140.93</td>\n",
       "      <td>8879.51</td>\n",
       "      <td>8140.93</td>\n",
       "      <td>8827.76</td>\n",
       "      <td>44841784107</td>\n",
       "      <td>160319484883</td>\n",
       "    </tr>\n",
       "    <tr>\n",
       "      <th>1</th>\n",
       "      <td>Jan 13 2020</td>\n",
       "      <td>8189.77</td>\n",
       "      <td>8197.79</td>\n",
       "      <td>8079.70</td>\n",
       "      <td>8144.19</td>\n",
       "      <td>22482910688</td>\n",
       "      <td>147890525973</td>\n",
       "    </tr>\n",
       "    <tr>\n",
       "      <th>2</th>\n",
       "      <td>Jan 12 2020</td>\n",
       "      <td>8033.26</td>\n",
       "      <td>8200.06</td>\n",
       "      <td>8009.06</td>\n",
       "      <td>8192.49</td>\n",
       "      <td>22903438381</td>\n",
       "      <td>148752956966</td>\n",
       "    </tr>\n",
       "    <tr>\n",
       "      <th>3</th>\n",
       "      <td>Jan 11 2020</td>\n",
       "      <td>8162.19</td>\n",
       "      <td>8218.36</td>\n",
       "      <td>8029.64</td>\n",
       "      <td>8037.54</td>\n",
       "      <td>25521165085</td>\n",
       "      <td>145924199942</td>\n",
       "    </tr>\n",
       "    <tr>\n",
       "      <th>4</th>\n",
       "      <td>Jan 10 2020</td>\n",
       "      <td>7878.31</td>\n",
       "      <td>8166.55</td>\n",
       "      <td>7726.77</td>\n",
       "      <td>8166.55</td>\n",
       "      <td>28714583844</td>\n",
       "      <td>148249907277</td>\n",
       "    </tr>\n",
       "  </tbody>\n",
       "</table>\n",
       "</div>"
      ],
      "text/plain": [
       "          Date     Open     High      Low  Close**       Volume    Market Cap\n",
       "0  Jan 14 2020  8140.93  8879.51  8140.93  8827.76  44841784107  160319484883\n",
       "1  Jan 13 2020  8189.77  8197.79  8079.70  8144.19  22482910688  147890525973\n",
       "2  Jan 12 2020  8033.26  8200.06  8009.06  8192.49  22903438381  148752956966\n",
       "3  Jan 11 2020  8162.19  8218.36  8029.64  8037.54  25521165085  145924199942\n",
       "4  Jan 10 2020  7878.31  8166.55  7726.77  8166.55  28714583844  148249907277"
      ]
     },
     "execution_count": 44,
     "metadata": {},
     "output_type": "execute_result"
    }
   ],
   "source": [
    "dataex.head()"
   ]
  },
  {
   "cell_type": "code",
   "execution_count": 45,
   "metadata": {},
   "outputs": [],
   "source": [
    "dataex.drop(\"Open\",axis='columns', inplace=True)"
   ]
  },
  {
   "cell_type": "markdown",
   "metadata": {},
   "source": [
    "ici on a definitvement detruit Open et rappeler la fonction renvoierai une erreur"
   ]
  },
  {
   "cell_type": "code",
   "execution_count": 46,
   "metadata": {
    "scrolled": true
   },
   "outputs": [
    {
     "data": {
      "text/html": [
       "<div>\n",
       "<style scoped>\n",
       "    .dataframe tbody tr th:only-of-type {\n",
       "        vertical-align: middle;\n",
       "    }\n",
       "\n",
       "    .dataframe tbody tr th {\n",
       "        vertical-align: top;\n",
       "    }\n",
       "\n",
       "    .dataframe thead th {\n",
       "        text-align: right;\n",
       "    }\n",
       "</style>\n",
       "<table border=\"1\" class=\"dataframe\">\n",
       "  <thead>\n",
       "    <tr style=\"text-align: right;\">\n",
       "      <th></th>\n",
       "      <th>Date</th>\n",
       "      <th>High</th>\n",
       "      <th>Low</th>\n",
       "      <th>Close**</th>\n",
       "      <th>Volume</th>\n",
       "      <th>Market Cap</th>\n",
       "    </tr>\n",
       "  </thead>\n",
       "  <tbody>\n",
       "    <tr>\n",
       "      <th>0</th>\n",
       "      <td>Jan 14 2020</td>\n",
       "      <td>8879.51</td>\n",
       "      <td>8140.93</td>\n",
       "      <td>8827.76</td>\n",
       "      <td>44841784107</td>\n",
       "      <td>160319484883</td>\n",
       "    </tr>\n",
       "    <tr>\n",
       "      <th>1</th>\n",
       "      <td>Jan 13 2020</td>\n",
       "      <td>8197.79</td>\n",
       "      <td>8079.70</td>\n",
       "      <td>8144.19</td>\n",
       "      <td>22482910688</td>\n",
       "      <td>147890525973</td>\n",
       "    </tr>\n",
       "    <tr>\n",
       "      <th>2</th>\n",
       "      <td>Jan 12 2020</td>\n",
       "      <td>8200.06</td>\n",
       "      <td>8009.06</td>\n",
       "      <td>8192.49</td>\n",
       "      <td>22903438381</td>\n",
       "      <td>148752956966</td>\n",
       "    </tr>\n",
       "    <tr>\n",
       "      <th>3</th>\n",
       "      <td>Jan 11 2020</td>\n",
       "      <td>8218.36</td>\n",
       "      <td>8029.64</td>\n",
       "      <td>8037.54</td>\n",
       "      <td>25521165085</td>\n",
       "      <td>145924199942</td>\n",
       "    </tr>\n",
       "    <tr>\n",
       "      <th>4</th>\n",
       "      <td>Jan 10 2020</td>\n",
       "      <td>8166.55</td>\n",
       "      <td>7726.77</td>\n",
       "      <td>8166.55</td>\n",
       "      <td>28714583844</td>\n",
       "      <td>148249907277</td>\n",
       "    </tr>\n",
       "  </tbody>\n",
       "</table>\n",
       "</div>"
      ],
      "text/plain": [
       "          Date     High      Low  Close**       Volume    Market Cap\n",
       "0  Jan 14 2020  8879.51  8140.93  8827.76  44841784107  160319484883\n",
       "1  Jan 13 2020  8197.79  8079.70  8144.19  22482910688  147890525973\n",
       "2  Jan 12 2020  8200.06  8009.06  8192.49  22903438381  148752956966\n",
       "3  Jan 11 2020  8218.36  8029.64  8037.54  25521165085  145924199942\n",
       "4  Jan 10 2020  8166.55  7726.77  8166.55  28714583844  148249907277"
      ]
     },
     "execution_count": 46,
     "metadata": {},
     "output_type": "execute_result"
    }
   ],
   "source": [
    "dataex.head()"
   ]
  },
  {
   "cell_type": "code",
   "execution_count": 47,
   "metadata": {},
   "outputs": [
    {
     "data": {
      "text/html": [
       "<div>\n",
       "<style scoped>\n",
       "    .dataframe tbody tr th:only-of-type {\n",
       "        vertical-align: middle;\n",
       "    }\n",
       "\n",
       "    .dataframe tbody tr th {\n",
       "        vertical-align: top;\n",
       "    }\n",
       "\n",
       "    .dataframe thead th {\n",
       "        text-align: right;\n",
       "    }\n",
       "</style>\n",
       "<table border=\"1\" class=\"dataframe\">\n",
       "  <thead>\n",
       "    <tr style=\"text-align: right;\">\n",
       "      <th></th>\n",
       "      <th>date</th>\n",
       "      <th>high</th>\n",
       "      <th>low</th>\n",
       "      <th>close**</th>\n",
       "      <th>volume</th>\n",
       "      <th>market cap</th>\n",
       "    </tr>\n",
       "  </thead>\n",
       "  <tbody>\n",
       "    <tr>\n",
       "      <th>0</th>\n",
       "      <td>Jan 14 2020</td>\n",
       "      <td>8879.51</td>\n",
       "      <td>8140.93</td>\n",
       "      <td>8827.76</td>\n",
       "      <td>44841784107</td>\n",
       "      <td>160319484883</td>\n",
       "    </tr>\n",
       "    <tr>\n",
       "      <th>1</th>\n",
       "      <td>Jan 13 2020</td>\n",
       "      <td>8197.79</td>\n",
       "      <td>8079.70</td>\n",
       "      <td>8144.19</td>\n",
       "      <td>22482910688</td>\n",
       "      <td>147890525973</td>\n",
       "    </tr>\n",
       "    <tr>\n",
       "      <th>2</th>\n",
       "      <td>Jan 12 2020</td>\n",
       "      <td>8200.06</td>\n",
       "      <td>8009.06</td>\n",
       "      <td>8192.49</td>\n",
       "      <td>22903438381</td>\n",
       "      <td>148752956966</td>\n",
       "    </tr>\n",
       "    <tr>\n",
       "      <th>3</th>\n",
       "      <td>Jan 11 2020</td>\n",
       "      <td>8218.36</td>\n",
       "      <td>8029.64</td>\n",
       "      <td>8037.54</td>\n",
       "      <td>25521165085</td>\n",
       "      <td>145924199942</td>\n",
       "    </tr>\n",
       "    <tr>\n",
       "      <th>4</th>\n",
       "      <td>Jan 10 2020</td>\n",
       "      <td>8166.55</td>\n",
       "      <td>7726.77</td>\n",
       "      <td>8166.55</td>\n",
       "      <td>28714583844</td>\n",
       "      <td>148249907277</td>\n",
       "    </tr>\n",
       "  </tbody>\n",
       "</table>\n",
       "</div>"
      ],
      "text/plain": [
       "          date     high      low  close**       volume    market cap\n",
       "0  Jan 14 2020  8879.51  8140.93  8827.76  44841784107  160319484883\n",
       "1  Jan 13 2020  8197.79  8079.70  8144.19  22482910688  147890525973\n",
       "2  Jan 12 2020  8200.06  8009.06  8192.49  22903438381  148752956966\n",
       "3  Jan 11 2020  8218.36  8029.64  8037.54  25521165085  145924199942\n",
       "4  Jan 10 2020  8166.55  7726.77  8166.55  28714583844  148249907277"
      ]
     },
     "execution_count": 47,
     "metadata": {},
     "output_type": "execute_result"
    }
   ],
   "source": [
    "dataex.rename(str.lower, axis='columns').head()"
   ]
  },
  {
   "cell_type": "code",
   "execution_count": 48,
   "metadata": {},
   "outputs": [
    {
     "ename": "SyntaxError",
     "evalue": "invalid syntax (<ipython-input-48-6bc450f30f08>, line 1)",
     "output_type": "error",
     "traceback": [
      "\u001b[0;36m  File \u001b[0;32m\"<ipython-input-48-6bc450f30f08>\"\u001b[0;36m, line \u001b[0;32m1\u001b[0m\n\u001b[0;31m    methode 1 pour remplacer les noms de colonnes problematiques\u001b[0m\n\u001b[0m            ^\u001b[0m\n\u001b[0;31mSyntaxError\u001b[0m\u001b[0;31m:\u001b[0m invalid syntax\n"
     ]
    }
   ],
   "source": [
    "methode 1 pour remplacer les noms de colonnes problematiques"
   ]
  },
  {
   "cell_type": "code",
   "execution_count": null,
   "metadata": {},
   "outputs": [],
   "source": [
    "def modif(s):\n",
    "    s = s.replace('*','')\n",
    "    s = s.replace(' ','_')\n",
    "    return s"
   ]
  },
  {
   "cell_type": "code",
   "execution_count": null,
   "metadata": {},
   "outputs": [],
   "source": [
    "dataex.rename(modif, axis='columns').head()"
   ]
  },
  {
   "cell_type": "code",
   "execution_count": null,
   "metadata": {},
   "outputs": [],
   "source": [
    "dataex.columns.str.replace('*','')"
   ]
  },
  {
   "cell_type": "code",
   "execution_count": null,
   "metadata": {},
   "outputs": [],
   "source": [
    "dataex.columns.str.replace(' ','_')"
   ]
  },
  {
   "cell_type": "markdown",
   "metadata": {},
   "source": [
    "## mise en pratique"
   ]
  },
  {
   "cell_type": "code",
   "execution_count": null,
   "metadata": {},
   "outputs": [],
   "source": [
    "d = {'col1': [1, 2], 'col2': [3, 4]}\n",
    "\n",
    "df = pd.DataFrame(data=d)"
   ]
  },
  {
   "cell_type": "markdown",
   "metadata": {},
   "source": [
    "methode 2 : utilisation du module str"
   ]
  },
  {
   "cell_type": "code",
   "execution_count": 49,
   "metadata": {},
   "outputs": [
    {
     "ename": "NameError",
     "evalue": "name 'df' is not defined",
     "output_type": "error",
     "traceback": [
      "\u001b[0;31m---------------------------------------------------------------------------\u001b[0m",
      "\u001b[0;31mNameError\u001b[0m                                 Traceback (most recent call last)",
      "\u001b[0;32m<ipython-input-49-863ad8d51196>\u001b[0m in \u001b[0;36m<module>\u001b[0;34m\u001b[0m\n\u001b[0;32m----> 1\u001b[0;31m \u001b[0mdf\u001b[0m\u001b[0;34m.\u001b[0m\u001b[0mcolumns\u001b[0m \u001b[0;34m=\u001b[0m \u001b[0mdf\u001b[0m\u001b[0;34m.\u001b[0m\u001b[0mcolumns\u001b[0m\u001b[0;34m.\u001b[0m\u001b[0mstr\u001b[0m\u001b[0;34m.\u001b[0m\u001b[0mreplace\u001b[0m\u001b[0;34m(\u001b[0m\u001b[0;34m'col'\u001b[0m\u001b[0;34m,\u001b[0m\u001b[0;34m'in*t '\u001b[0m\u001b[0;34m)\u001b[0m\u001b[0;34m\u001b[0m\u001b[0;34m\u001b[0m\u001b[0m\n\u001b[0m",
      "\u001b[0;31mNameError\u001b[0m: name 'df' is not defined"
     ]
    }
   ],
   "source": [
    "df.columns = df.columns.str.replace('col','in*t ')"
   ]
  },
  {
   "cell_type": "code",
   "execution_count": 50,
   "metadata": {},
   "outputs": [
    {
     "ename": "NameError",
     "evalue": "name 'df' is not defined",
     "output_type": "error",
     "traceback": [
      "\u001b[0;31m---------------------------------------------------------------------------\u001b[0m",
      "\u001b[0;31mNameError\u001b[0m                                 Traceback (most recent call last)",
      "\u001b[0;32m<ipython-input-50-00cf07b74dcd>\u001b[0m in \u001b[0;36m<module>\u001b[0;34m\u001b[0m\n\u001b[0;32m----> 1\u001b[0;31m \u001b[0mdf\u001b[0m\u001b[0;34m\u001b[0m\u001b[0;34m\u001b[0m\u001b[0m\n\u001b[0m",
      "\u001b[0;31mNameError\u001b[0m: name 'df' is not defined"
     ]
    }
   ],
   "source": [
    "df"
   ]
  },
  {
   "cell_type": "markdown",
   "metadata": {},
   "source": [
    "methode 1 : rename + mapper"
   ]
  },
  {
   "cell_type": "code",
   "execution_count": 51,
   "metadata": {},
   "outputs": [
    {
     "ename": "NameError",
     "evalue": "name 'df' is not defined",
     "output_type": "error",
     "traceback": [
      "\u001b[0;31m---------------------------------------------------------------------------\u001b[0m",
      "\u001b[0;31mNameError\u001b[0m                                 Traceback (most recent call last)",
      "\u001b[0;32m<ipython-input-51-3a199ddc5dd7>\u001b[0m in \u001b[0;36m<module>\u001b[0;34m\u001b[0m\n\u001b[0;32m----> 1\u001b[0;31m \u001b[0mdf\u001b[0m\u001b[0;34m.\u001b[0m\u001b[0mrename\u001b[0m\u001b[0;34m(\u001b[0m\u001b[0mmodif\u001b[0m\u001b[0;34m,\u001b[0m \u001b[0maxis\u001b[0m\u001b[0;34m=\u001b[0m\u001b[0;34m'columns'\u001b[0m\u001b[0;34m)\u001b[0m\u001b[0;34m.\u001b[0m\u001b[0mhead\u001b[0m\u001b[0;34m(\u001b[0m\u001b[0;34m)\u001b[0m\u001b[0;34m\u001b[0m\u001b[0;34m\u001b[0m\u001b[0m\n\u001b[0m",
      "\u001b[0;31mNameError\u001b[0m: name 'df' is not defined"
     ]
    }
   ],
   "source": [
    "df.rename(modif, axis='columns').head()"
   ]
  },
  {
   "cell_type": "markdown",
   "metadata": {},
   "source": [
    "# transformation des donnees"
   ]
  },
  {
   "cell_type": "markdown",
   "metadata": {},
   "source": [
    "## extraction des 'str' vers des numeriques"
   ]
  },
  {
   "cell_type": "code",
   "execution_count": 52,
   "metadata": {},
   "outputs": [],
   "source": [
    "chb=\"https://bit.ly/bitcoin-purchases2\"\n",
    "dfb=pd.read_csv(chb)"
   ]
  },
  {
   "cell_type": "code",
   "execution_count": 53,
   "metadata": {},
   "outputs": [
    {
     "data": {
      "text/plain": [
       "(1000, 3)"
      ]
     },
     "execution_count": 53,
     "metadata": {},
     "output_type": "execute_result"
    }
   ],
   "source": [
    "dfb.shape"
   ]
  },
  {
   "cell_type": "code",
   "execution_count": 54,
   "metadata": {},
   "outputs": [
    {
     "data": {
      "text/plain": [
       "bitcoin address    object\n",
       "wire amount        object\n",
       "credit card         int64\n",
       "dtype: object"
      ]
     },
     "execution_count": 54,
     "metadata": {},
     "output_type": "execute_result"
    }
   ],
   "source": [
    "dfb.dtypes"
   ]
  },
  {
   "cell_type": "code",
   "execution_count": 55,
   "metadata": {},
   "outputs": [
    {
     "data": {
      "text/html": [
       "<div>\n",
       "<style scoped>\n",
       "    .dataframe tbody tr th:only-of-type {\n",
       "        vertical-align: middle;\n",
       "    }\n",
       "\n",
       "    .dataframe tbody tr th {\n",
       "        vertical-align: top;\n",
       "    }\n",
       "\n",
       "    .dataframe thead th {\n",
       "        text-align: right;\n",
       "    }\n",
       "</style>\n",
       "<table border=\"1\" class=\"dataframe\">\n",
       "  <thead>\n",
       "    <tr style=\"text-align: right;\">\n",
       "      <th></th>\n",
       "      <th>bitcoin address</th>\n",
       "      <th>wire amount</th>\n",
       "      <th>credit card</th>\n",
       "    </tr>\n",
       "  </thead>\n",
       "  <tbody>\n",
       "    <tr>\n",
       "      <th>0</th>\n",
       "      <td>1J9DVMtgvnPv4KGHL2XSzoTSt5cBBL1DXe</td>\n",
       "      <td>£8356.92</td>\n",
       "      <td>3543456448666398</td>\n",
       "    </tr>\n",
       "    <tr>\n",
       "      <th>1</th>\n",
       "      <td>1HaiVQbzCTs7t1K1fckYEUi9t8ERBFRR7Q</td>\n",
       "      <td>€311,06</td>\n",
       "      <td>3584615208479876</td>\n",
       "    </tr>\n",
       "    <tr>\n",
       "      <th>2</th>\n",
       "      <td>1NGPjXfDScEUSZYajAzCkxaVApTbBHC7jP</td>\n",
       "      <td>€2032,44</td>\n",
       "      <td>6370577480710876</td>\n",
       "    </tr>\n",
       "    <tr>\n",
       "      <th>3</th>\n",
       "      <td>15cSYRTbcrxYinxNxk7VbkPLZG8nypdjy6</td>\n",
       "      <td>¥8155.74</td>\n",
       "      <td>4508652385157398</td>\n",
       "    </tr>\n",
       "    <tr>\n",
       "      <th>4</th>\n",
       "      <td>18j2qG1DH9YduJiBiccAq8Ak897G3E4JyZ</td>\n",
       "      <td>£3265.44</td>\n",
       "      <td>374622922103592</td>\n",
       "    </tr>\n",
       "  </tbody>\n",
       "</table>\n",
       "</div>"
      ],
      "text/plain": [
       "                      bitcoin address wire amount       credit card\n",
       "0  1J9DVMtgvnPv4KGHL2XSzoTSt5cBBL1DXe    £8356.92  3543456448666398\n",
       "1  1HaiVQbzCTs7t1K1fckYEUi9t8ERBFRR7Q     €311,06  3584615208479876\n",
       "2  1NGPjXfDScEUSZYajAzCkxaVApTbBHC7jP    €2032,44  6370577480710876\n",
       "3  15cSYRTbcrxYinxNxk7VbkPLZG8nypdjy6    ¥8155.74  4508652385157398\n",
       "4  18j2qG1DH9YduJiBiccAq8Ak897G3E4JyZ    £3265.44   374622922103592"
      ]
     },
     "execution_count": 55,
     "metadata": {},
     "output_type": "execute_result"
    }
   ],
   "source": [
    "dfb.head()"
   ]
  },
  {
   "cell_type": "code",
   "execution_count": 56,
   "metadata": {},
   "outputs": [
    {
     "data": {
      "text/html": [
       "<div>\n",
       "<style scoped>\n",
       "    .dataframe tbody tr th:only-of-type {\n",
       "        vertical-align: middle;\n",
       "    }\n",
       "\n",
       "    .dataframe tbody tr th {\n",
       "        vertical-align: top;\n",
       "    }\n",
       "\n",
       "    .dataframe thead th {\n",
       "        text-align: right;\n",
       "    }\n",
       "</style>\n",
       "<table border=\"1\" class=\"dataframe\">\n",
       "  <thead>\n",
       "    <tr style=\"text-align: right;\">\n",
       "      <th></th>\n",
       "      <th>bitcoin address</th>\n",
       "      <th>wire amount</th>\n",
       "      <th>credit card</th>\n",
       "    </tr>\n",
       "  </thead>\n",
       "  <tbody>\n",
       "    <tr>\n",
       "      <th>995</th>\n",
       "      <td>1Jmz4FMQENDkrtkivVdXM8SiC6ZCJVTDhp</td>\n",
       "      <td>¥844.68</td>\n",
       "      <td>5541649583285688</td>\n",
       "    </tr>\n",
       "    <tr>\n",
       "      <th>996</th>\n",
       "      <td>1GCZKgPV9277czn1RsTYoubCwhbndUvPZU</td>\n",
       "      <td>€1433,63</td>\n",
       "      <td>6304232254235660027</td>\n",
       "    </tr>\n",
       "    <tr>\n",
       "      <th>997</th>\n",
       "      <td>1LK2DsWBUmSAsqg7n46sdgg4v2SNrqEPM</td>\n",
       "      <td>€3814,11</td>\n",
       "      <td>3546750658508135</td>\n",
       "    </tr>\n",
       "    <tr>\n",
       "      <th>998</th>\n",
       "      <td>1PD6oNfFEnxMsR1PvUvkjHQdHYLCewLJhq</td>\n",
       "      <td>$2900.85</td>\n",
       "      <td>6333272716093574938</td>\n",
       "    </tr>\n",
       "    <tr>\n",
       "      <th>999</th>\n",
       "      <td>1B2vk6p7usuV4dfrBMLo8Rzpb5NatTmE8R</td>\n",
       "      <td>$1587.16</td>\n",
       "      <td>4913614335644981</td>\n",
       "    </tr>\n",
       "  </tbody>\n",
       "</table>\n",
       "</div>"
      ],
      "text/plain": [
       "                        bitcoin address wire amount          credit card\n",
       "995  1Jmz4FMQENDkrtkivVdXM8SiC6ZCJVTDhp     ¥844.68     5541649583285688\n",
       "996  1GCZKgPV9277czn1RsTYoubCwhbndUvPZU    €1433,63  6304232254235660027\n",
       "997   1LK2DsWBUmSAsqg7n46sdgg4v2SNrqEPM    €3814,11     3546750658508135\n",
       "998  1PD6oNfFEnxMsR1PvUvkjHQdHYLCewLJhq    $2900.85  6333272716093574938\n",
       "999  1B2vk6p7usuV4dfrBMLo8Rzpb5NatTmE8R    $1587.16     4913614335644981"
      ]
     },
     "execution_count": 56,
     "metadata": {},
     "output_type": "execute_result"
    }
   ],
   "source": [
    "dfb.tail()"
   ]
  },
  {
   "cell_type": "code",
   "execution_count": 57,
   "metadata": {},
   "outputs": [
    {
     "data": {
      "text/plain": [
       "bitcoin address    0\n",
       "wire amount        0\n",
       "credit card        0\n",
       "dtype: int64"
      ]
     },
     "execution_count": 57,
     "metadata": {},
     "output_type": "execute_result"
    }
   ],
   "source": [
    "dfb.isna().sum()"
   ]
  },
  {
   "cell_type": "code",
   "execution_count": 58,
   "metadata": {},
   "outputs": [],
   "source": [
    "dfb[\"wire amount\"] = dfb[\"wire amount\"].str.replace(',','.')"
   ]
  },
  {
   "cell_type": "code",
   "execution_count": 59,
   "metadata": {},
   "outputs": [
    {
     "data": {
      "text/html": [
       "<div>\n",
       "<style scoped>\n",
       "    .dataframe tbody tr th:only-of-type {\n",
       "        vertical-align: middle;\n",
       "    }\n",
       "\n",
       "    .dataframe tbody tr th {\n",
       "        vertical-align: top;\n",
       "    }\n",
       "\n",
       "    .dataframe thead th {\n",
       "        text-align: right;\n",
       "    }\n",
       "</style>\n",
       "<table border=\"1\" class=\"dataframe\">\n",
       "  <thead>\n",
       "    <tr style=\"text-align: right;\">\n",
       "      <th></th>\n",
       "      <th>bitcoin address</th>\n",
       "      <th>wire amount</th>\n",
       "      <th>credit card</th>\n",
       "    </tr>\n",
       "  </thead>\n",
       "  <tbody>\n",
       "    <tr>\n",
       "      <th>0</th>\n",
       "      <td>1J9DVMtgvnPv4KGHL2XSzoTSt5cBBL1DXe</td>\n",
       "      <td>£8356.92</td>\n",
       "      <td>3543456448666398</td>\n",
       "    </tr>\n",
       "    <tr>\n",
       "      <th>1</th>\n",
       "      <td>1HaiVQbzCTs7t1K1fckYEUi9t8ERBFRR7Q</td>\n",
       "      <td>€311.06</td>\n",
       "      <td>3584615208479876</td>\n",
       "    </tr>\n",
       "    <tr>\n",
       "      <th>2</th>\n",
       "      <td>1NGPjXfDScEUSZYajAzCkxaVApTbBHC7jP</td>\n",
       "      <td>€2032.44</td>\n",
       "      <td>6370577480710876</td>\n",
       "    </tr>\n",
       "    <tr>\n",
       "      <th>3</th>\n",
       "      <td>15cSYRTbcrxYinxNxk7VbkPLZG8nypdjy6</td>\n",
       "      <td>¥8155.74</td>\n",
       "      <td>4508652385157398</td>\n",
       "    </tr>\n",
       "    <tr>\n",
       "      <th>4</th>\n",
       "      <td>18j2qG1DH9YduJiBiccAq8Ak897G3E4JyZ</td>\n",
       "      <td>£3265.44</td>\n",
       "      <td>374622922103592</td>\n",
       "    </tr>\n",
       "  </tbody>\n",
       "</table>\n",
       "</div>"
      ],
      "text/plain": [
       "                      bitcoin address wire amount       credit card\n",
       "0  1J9DVMtgvnPv4KGHL2XSzoTSt5cBBL1DXe    £8356.92  3543456448666398\n",
       "1  1HaiVQbzCTs7t1K1fckYEUi9t8ERBFRR7Q     €311.06  3584615208479876\n",
       "2  1NGPjXfDScEUSZYajAzCkxaVApTbBHC7jP    €2032.44  6370577480710876\n",
       "3  15cSYRTbcrxYinxNxk7VbkPLZG8nypdjy6    ¥8155.74  4508652385157398\n",
       "4  18j2qG1DH9YduJiBiccAq8Ak897G3E4JyZ    £3265.44   374622922103592"
      ]
     },
     "execution_count": 59,
     "metadata": {},
     "output_type": "execute_result"
    }
   ],
   "source": [
    "dfb.head()"
   ]
  },
  {
   "cell_type": "markdown",
   "metadata": {},
   "source": [
    "### extraire les devises"
   ]
  },
  {
   "cell_type": "raw",
   "metadata": {},
   "source": [
    "dfb['devise'] = dfb[\"wire amount\"].str.get(0)"
   ]
  },
  {
   "cell_type": "raw",
   "metadata": {},
   "source": [
    "dfb['devise'] = dfb[\"wire amount\"].str[0]"
   ]
  },
  {
   "cell_type": "code",
   "execution_count": 60,
   "metadata": {},
   "outputs": [],
   "source": [
    "dfb['wire amount'] = dfb[\"wire amount\"].str.slice(1,None).astype('float')"
   ]
  },
  {
   "cell_type": "code",
   "execution_count": 61,
   "metadata": {},
   "outputs": [
    {
     "data": {
      "text/plain": [
       "bitcoin address     object\n",
       "wire amount        float64\n",
       "credit card          int64\n",
       "dtype: object"
      ]
     },
     "execution_count": 61,
     "metadata": {},
     "output_type": "execute_result"
    }
   ],
   "source": [
    "dfb.dtypes"
   ]
  },
  {
   "cell_type": "code",
   "execution_count": 62,
   "metadata": {},
   "outputs": [
    {
     "data": {
      "text/html": [
       "<div>\n",
       "<style scoped>\n",
       "    .dataframe tbody tr th:only-of-type {\n",
       "        vertical-align: middle;\n",
       "    }\n",
       "\n",
       "    .dataframe tbody tr th {\n",
       "        vertical-align: top;\n",
       "    }\n",
       "\n",
       "    .dataframe thead th {\n",
       "        text-align: right;\n",
       "    }\n",
       "</style>\n",
       "<table border=\"1\" class=\"dataframe\">\n",
       "  <thead>\n",
       "    <tr style=\"text-align: right;\">\n",
       "      <th></th>\n",
       "      <th>bitcoin address</th>\n",
       "      <th>wire amount</th>\n",
       "      <th>credit card</th>\n",
       "    </tr>\n",
       "  </thead>\n",
       "  <tbody>\n",
       "    <tr>\n",
       "      <th>0</th>\n",
       "      <td>1J9DVMtgvnPv4KGHL2XSzoTSt5cBBL1DXe</td>\n",
       "      <td>8356.92</td>\n",
       "      <td>3543456448666398</td>\n",
       "    </tr>\n",
       "    <tr>\n",
       "      <th>1</th>\n",
       "      <td>1HaiVQbzCTs7t1K1fckYEUi9t8ERBFRR7Q</td>\n",
       "      <td>311.06</td>\n",
       "      <td>3584615208479876</td>\n",
       "    </tr>\n",
       "    <tr>\n",
       "      <th>2</th>\n",
       "      <td>1NGPjXfDScEUSZYajAzCkxaVApTbBHC7jP</td>\n",
       "      <td>2032.44</td>\n",
       "      <td>6370577480710876</td>\n",
       "    </tr>\n",
       "    <tr>\n",
       "      <th>3</th>\n",
       "      <td>15cSYRTbcrxYinxNxk7VbkPLZG8nypdjy6</td>\n",
       "      <td>8155.74</td>\n",
       "      <td>4508652385157398</td>\n",
       "    </tr>\n",
       "    <tr>\n",
       "      <th>4</th>\n",
       "      <td>18j2qG1DH9YduJiBiccAq8Ak897G3E4JyZ</td>\n",
       "      <td>3265.44</td>\n",
       "      <td>374622922103592</td>\n",
       "    </tr>\n",
       "  </tbody>\n",
       "</table>\n",
       "</div>"
      ],
      "text/plain": [
       "                      bitcoin address  wire amount       credit card\n",
       "0  1J9DVMtgvnPv4KGHL2XSzoTSt5cBBL1DXe      8356.92  3543456448666398\n",
       "1  1HaiVQbzCTs7t1K1fckYEUi9t8ERBFRR7Q       311.06  3584615208479876\n",
       "2  1NGPjXfDScEUSZYajAzCkxaVApTbBHC7jP      2032.44  6370577480710876\n",
       "3  15cSYRTbcrxYinxNxk7VbkPLZG8nypdjy6      8155.74  4508652385157398\n",
       "4  18j2qG1DH9YduJiBiccAq8Ak897G3E4JyZ      3265.44   374622922103592"
      ]
     },
     "execution_count": 62,
     "metadata": {},
     "output_type": "execute_result"
    }
   ],
   "source": [
    "dfb.head()"
   ]
  },
  {
   "cell_type": "code",
   "execution_count": 63,
   "metadata": {},
   "outputs": [],
   "source": [
    "import random\n",
    "def makeNumberStr(sep=[',']):\n",
    "    avantvirg = str(random.randint(1,1000))\n",
    "    apresvirg = '{:02}'.format(random.randint(0,99))\n",
    "    sep = random.choice(sep)\n",
    "    return avantvirg + sep + apresvirg\n",
    "\n",
    "col1 = [makeNumberStr() for _ in range(200)]\n",
    "col2 = [makeNumberStr(['.',',']) for _ in range(200)]\n",
    "\n",
    "exo1 = pd.DataFrame(data={\"col1\":col1,\n",
    "                         \"col2\":col2})"
   ]
  },
  {
   "cell_type": "code",
   "execution_count": 64,
   "metadata": {},
   "outputs": [],
   "source": [
    "exo1[\"col1\"] = exo1[\"col1\"].str.replace(',','.').astype('float')"
   ]
  },
  {
   "cell_type": "code",
   "execution_count": 65,
   "metadata": {},
   "outputs": [],
   "source": [
    "exo1[\"col2\"] = exo1[\"col2\"].str.replace(',','.').astype('float')"
   ]
  },
  {
   "cell_type": "code",
   "execution_count": 66,
   "metadata": {},
   "outputs": [
    {
     "data": {
      "text/html": [
       "<div>\n",
       "<style scoped>\n",
       "    .dataframe tbody tr th:only-of-type {\n",
       "        vertical-align: middle;\n",
       "    }\n",
       "\n",
       "    .dataframe tbody tr th {\n",
       "        vertical-align: top;\n",
       "    }\n",
       "\n",
       "    .dataframe thead th {\n",
       "        text-align: right;\n",
       "    }\n",
       "</style>\n",
       "<table border=\"1\" class=\"dataframe\">\n",
       "  <thead>\n",
       "    <tr style=\"text-align: right;\">\n",
       "      <th></th>\n",
       "      <th>col1</th>\n",
       "      <th>col2</th>\n",
       "    </tr>\n",
       "  </thead>\n",
       "  <tbody>\n",
       "    <tr>\n",
       "      <th>0</th>\n",
       "      <td>230.03</td>\n",
       "      <td>321.71</td>\n",
       "    </tr>\n",
       "    <tr>\n",
       "      <th>1</th>\n",
       "      <td>342.28</td>\n",
       "      <td>683.20</td>\n",
       "    </tr>\n",
       "    <tr>\n",
       "      <th>2</th>\n",
       "      <td>725.72</td>\n",
       "      <td>355.05</td>\n",
       "    </tr>\n",
       "    <tr>\n",
       "      <th>3</th>\n",
       "      <td>100.70</td>\n",
       "      <td>642.14</td>\n",
       "    </tr>\n",
       "    <tr>\n",
       "      <th>4</th>\n",
       "      <td>924.95</td>\n",
       "      <td>757.78</td>\n",
       "    </tr>\n",
       "  </tbody>\n",
       "</table>\n",
       "</div>"
      ],
      "text/plain": [
       "     col1    col2\n",
       "0  230.03  321.71\n",
       "1  342.28  683.20\n",
       "2  725.72  355.05\n",
       "3  100.70  642.14\n",
       "4  924.95  757.78"
      ]
     },
     "execution_count": 66,
     "metadata": {},
     "output_type": "execute_result"
    }
   ],
   "source": [
    "exo1.head()"
   ]
  },
  {
   "cell_type": "code",
   "execution_count": 67,
   "metadata": {},
   "outputs": [],
   "source": [
    "def makeNumberStrRandSign(sep=[','],signs=['€','$']):\n",
    "    avantvirg = str(random.randint(1,1000))\n",
    "    apresvirg = '{:02}'.format(random.randint(0,99))\n",
    "    sep = random.choice(sep)\n",
    "    sign = random.choice(signs)\n",
    "    return avantvirg + sep + apresvirg + sign\n",
    "\n",
    "col1 = [makeNumberStrRandSign() for _ in range(200)]\n",
    "col2 = [makeNumberStrRandSign(['.',',']) for _ in range(200)]\n",
    "\n",
    "exo2 = pd.DataFrame(data={\"col1\":col1,\n",
    "                         \"col2\":col2})"
   ]
  },
  {
   "cell_type": "code",
   "execution_count": 68,
   "metadata": {},
   "outputs": [],
   "source": [
    "exo2['devisecol1'] = exo2[\"col1\"].str[-1]\n",
    "exo2['devisecol2'] = exo2[\"col2\"].str[-1]\n",
    "exo2[\"col1\"] = exo2[\"col1\"].str.replace(',','.')\n",
    "exo2[\"col2\"] = exo2[\"col2\"].str.replace(',','.')\n",
    "exo2[\"col1\"] = exo2[\"col1\"].str.slice(None,-1).astype('float')\n",
    "exo2[\"col2\"] = exo2[\"col2\"].str.slice(None,-1).astype('float')"
   ]
  },
  {
   "cell_type": "raw",
   "metadata": {},
   "source": [
    "for i in [1,2]:\n",
    "    exo2['devisecol{i}'] = exo2[\"col{i}\"].str[-1]\n",
    "    exo2[\"col{i}\"] = exo2[\"col{i}\"].str.replace(',','.')\n",
    "    exo2[\"col{i}\"] = exo2[\"col{i}\"].str.slice(None,-1).astype('float')"
   ]
  },
  {
   "cell_type": "code",
   "execution_count": 69,
   "metadata": {
    "scrolled": false
   },
   "outputs": [
    {
     "data": {
      "text/html": [
       "<div>\n",
       "<style scoped>\n",
       "    .dataframe tbody tr th:only-of-type {\n",
       "        vertical-align: middle;\n",
       "    }\n",
       "\n",
       "    .dataframe tbody tr th {\n",
       "        vertical-align: top;\n",
       "    }\n",
       "\n",
       "    .dataframe thead th {\n",
       "        text-align: right;\n",
       "    }\n",
       "</style>\n",
       "<table border=\"1\" class=\"dataframe\">\n",
       "  <thead>\n",
       "    <tr style=\"text-align: right;\">\n",
       "      <th></th>\n",
       "      <th>col1</th>\n",
       "      <th>col2</th>\n",
       "      <th>devisecol1</th>\n",
       "      <th>devisecol2</th>\n",
       "    </tr>\n",
       "  </thead>\n",
       "  <tbody>\n",
       "    <tr>\n",
       "      <th>0</th>\n",
       "      <td>343.49</td>\n",
       "      <td>922.54</td>\n",
       "      <td>€</td>\n",
       "      <td>€</td>\n",
       "    </tr>\n",
       "    <tr>\n",
       "      <th>1</th>\n",
       "      <td>123.62</td>\n",
       "      <td>183.96</td>\n",
       "      <td>$</td>\n",
       "      <td>$</td>\n",
       "    </tr>\n",
       "    <tr>\n",
       "      <th>2</th>\n",
       "      <td>302.84</td>\n",
       "      <td>974.17</td>\n",
       "      <td>$</td>\n",
       "      <td>€</td>\n",
       "    </tr>\n",
       "    <tr>\n",
       "      <th>3</th>\n",
       "      <td>24.99</td>\n",
       "      <td>350.79</td>\n",
       "      <td>€</td>\n",
       "      <td>€</td>\n",
       "    </tr>\n",
       "    <tr>\n",
       "      <th>4</th>\n",
       "      <td>956.10</td>\n",
       "      <td>798.74</td>\n",
       "      <td>€</td>\n",
       "      <td>$</td>\n",
       "    </tr>\n",
       "  </tbody>\n",
       "</table>\n",
       "</div>"
      ],
      "text/plain": [
       "     col1    col2 devisecol1 devisecol2\n",
       "0  343.49  922.54          €          €\n",
       "1  123.62  183.96          $          $\n",
       "2  302.84  974.17          $          €\n",
       "3   24.99  350.79          €          €\n",
       "4  956.10  798.74          €          $"
      ]
     },
     "execution_count": 69,
     "metadata": {},
     "output_type": "execute_result"
    }
   ],
   "source": [
    "exo2.head()"
   ]
  },
  {
   "cell_type": "markdown",
   "metadata": {},
   "source": [
    "## extraction des 'int'/'float' vers des ordinal"
   ]
  },
  {
   "cell_type": "code",
   "execution_count": 70,
   "metadata": {},
   "outputs": [],
   "source": [
    "df=\"https://bit.ly/felonies-dataset\"\n",
    "dfb=pd.read_csv(df)"
   ]
  },
  {
   "cell_type": "code",
   "execution_count": 71,
   "metadata": {
    "scrolled": true
   },
   "outputs": [
    {
     "data": {
      "text/html": [
       "<div>\n",
       "<style scoped>\n",
       "    .dataframe tbody tr th:only-of-type {\n",
       "        vertical-align: middle;\n",
       "    }\n",
       "\n",
       "    .dataframe tbody tr th {\n",
       "        vertical-align: top;\n",
       "    }\n",
       "\n",
       "    .dataframe thead th {\n",
       "        text-align: right;\n",
       "    }\n",
       "</style>\n",
       "<table border=\"1\" class=\"dataframe\">\n",
       "  <thead>\n",
       "    <tr style=\"text-align: right;\">\n",
       "      <th></th>\n",
       "      <th>Date of Arrest</th>\n",
       "      <th>Age</th>\n",
       "      <th>Convicted</th>\n",
       "    </tr>\n",
       "  </thead>\n",
       "  <tbody>\n",
       "    <tr>\n",
       "      <th>0</th>\n",
       "      <td>2014-07-16 14:59:18</td>\n",
       "      <td>77</td>\n",
       "      <td>Yes</td>\n",
       "    </tr>\n",
       "    <tr>\n",
       "      <th>1</th>\n",
       "      <td>2002-12-19 22:17:59</td>\n",
       "      <td>28</td>\n",
       "      <td>Yes</td>\n",
       "    </tr>\n",
       "    <tr>\n",
       "      <th>2</th>\n",
       "      <td>1994-06-28 09:31:40</td>\n",
       "      <td>21</td>\n",
       "      <td>No</td>\n",
       "    </tr>\n",
       "    <tr>\n",
       "      <th>3</th>\n",
       "      <td>1985-05-14 09:52:17</td>\n",
       "      <td>45</td>\n",
       "      <td>Yes</td>\n",
       "    </tr>\n",
       "    <tr>\n",
       "      <th>4</th>\n",
       "      <td>1985-05-25 14:06:28</td>\n",
       "      <td>39</td>\n",
       "      <td>Yes</td>\n",
       "    </tr>\n",
       "  </tbody>\n",
       "</table>\n",
       "</div>"
      ],
      "text/plain": [
       "        Date of Arrest  Age Convicted\n",
       "0  2014-07-16 14:59:18   77       Yes\n",
       "1  2002-12-19 22:17:59   28       Yes\n",
       "2  1994-06-28 09:31:40   21        No\n",
       "3  1985-05-14 09:52:17   45       Yes\n",
       "4  1985-05-25 14:06:28   39       Yes"
      ]
     },
     "execution_count": 71,
     "metadata": {},
     "output_type": "execute_result"
    }
   ],
   "source": [
    "dfb.head()"
   ]
  },
  {
   "cell_type": "markdown",
   "metadata": {},
   "source": [
    "on va categoriser les ages en tranches"
   ]
  },
  {
   "cell_type": "code",
   "execution_count": 72,
   "metadata": {
    "scrolled": true
   },
   "outputs": [
    {
     "data": {
      "text/plain": [
       "count    1000.000000\n",
       "mean       54.605000\n",
       "std        25.225172\n",
       "min        10.000000\n",
       "25%        33.000000\n",
       "50%        53.000000\n",
       "75%        76.000000\n",
       "max        99.000000\n",
       "Name: Age, dtype: float64"
      ]
     },
     "execution_count": 72,
     "metadata": {},
     "output_type": "execute_result"
    }
   ],
   "source": [
    "dfb['Age'].describe()"
   ]
  },
  {
   "cell_type": "code",
   "execution_count": 73,
   "metadata": {},
   "outputs": [
    {
     "ename": "ValueError",
     "evalue": "Input array must be 1 dimensional",
     "output_type": "error",
     "traceback": [
      "\u001b[0;31m---------------------------------------------------------------------------\u001b[0m",
      "\u001b[0;31mValueError\u001b[0m                                Traceback (most recent call last)",
      "\u001b[0;32m<ipython-input-73-2b38aade550f>\u001b[0m in \u001b[0;36m<module>\u001b[0;34m\u001b[0m\n\u001b[0;32m----> 1\u001b[0;31m \u001b[0mpd\u001b[0m\u001b[0;34m.\u001b[0m\u001b[0mcut\u001b[0m\u001b[0;34m(\u001b[0m\u001b[0;34m'Age'\u001b[0m\u001b[0;34m,\u001b[0m\u001b[0mbins\u001b[0m\u001b[0;34m=\u001b[0m\u001b[0;34m[\u001b[0m\u001b[0;36m10\u001b[0m\u001b[0;34m,\u001b[0m\u001b[0;36m14\u001b[0m\u001b[0;34m,\u001b[0m\u001b[0;36m20\u001b[0m\u001b[0;34m,\u001b[0m\u001b[0;36m6\u001b[0m\u001b[0;34m,\u001b[0m\u001b[0;36m100\u001b[0m\u001b[0;34m]\u001b[0m\u001b[0;34m,\u001b[0m\u001b[0mlabels\u001b[0m\u001b[0;34m=\u001b[0m\u001b[0;34m[\u001b[0m\u001b[0;34m'Child'\u001b[0m\u001b[0;34m,\u001b[0m\u001b[0;34m'Ado'\u001b[0m\u001b[0;34m,\u001b[0m\u001b[0;34m'Adulte'\u001b[0m\u001b[0;34m,\u001b[0m\u001b[0;34m'Senior'\u001b[0m\u001b[0;34m]\u001b[0m\u001b[0;34m)\u001b[0m\u001b[0;34m\u001b[0m\u001b[0;34m\u001b[0m\u001b[0m\n\u001b[0m",
      "\u001b[0;32m~/.local/lib/python3.8/site-packages/pandas/core/reshape/tile.py\u001b[0m in \u001b[0;36mcut\u001b[0;34m(x, bins, right, labels, retbins, precision, include_lowest, duplicates, ordered)\u001b[0m\n\u001b[1;32m    222\u001b[0m \u001b[0;34m\u001b[0m\u001b[0m\n\u001b[1;32m    223\u001b[0m     \u001b[0moriginal\u001b[0m \u001b[0;34m=\u001b[0m \u001b[0mx\u001b[0m\u001b[0;34m\u001b[0m\u001b[0;34m\u001b[0m\u001b[0m\n\u001b[0;32m--> 224\u001b[0;31m     \u001b[0mx\u001b[0m \u001b[0;34m=\u001b[0m \u001b[0m_preprocess_for_cut\u001b[0m\u001b[0;34m(\u001b[0m\u001b[0mx\u001b[0m\u001b[0;34m)\u001b[0m\u001b[0;34m\u001b[0m\u001b[0;34m\u001b[0m\u001b[0m\n\u001b[0m\u001b[1;32m    225\u001b[0m     \u001b[0mx\u001b[0m\u001b[0;34m,\u001b[0m \u001b[0mdtype\u001b[0m \u001b[0;34m=\u001b[0m \u001b[0m_coerce_to_type\u001b[0m\u001b[0;34m(\u001b[0m\u001b[0mx\u001b[0m\u001b[0;34m)\u001b[0m\u001b[0;34m\u001b[0m\u001b[0;34m\u001b[0m\u001b[0m\n\u001b[1;32m    226\u001b[0m \u001b[0;34m\u001b[0m\u001b[0m\n",
      "\u001b[0;32m~/.local/lib/python3.8/site-packages/pandas/core/reshape/tile.py\u001b[0m in \u001b[0;36m_preprocess_for_cut\u001b[0;34m(x)\u001b[0m\n\u001b[1;32m    578\u001b[0m         \u001b[0mx\u001b[0m \u001b[0;34m=\u001b[0m \u001b[0mnp\u001b[0m\u001b[0;34m.\u001b[0m\u001b[0masarray\u001b[0m\u001b[0;34m(\u001b[0m\u001b[0mx\u001b[0m\u001b[0;34m)\u001b[0m\u001b[0;34m\u001b[0m\u001b[0;34m\u001b[0m\u001b[0m\n\u001b[1;32m    579\u001b[0m     \u001b[0;32mif\u001b[0m \u001b[0mx\u001b[0m\u001b[0;34m.\u001b[0m\u001b[0mndim\u001b[0m \u001b[0;34m!=\u001b[0m \u001b[0;36m1\u001b[0m\u001b[0;34m:\u001b[0m\u001b[0;34m\u001b[0m\u001b[0;34m\u001b[0m\u001b[0m\n\u001b[0;32m--> 580\u001b[0;31m         \u001b[0;32mraise\u001b[0m \u001b[0mValueError\u001b[0m\u001b[0;34m(\u001b[0m\u001b[0;34m\"Input array must be 1 dimensional\"\u001b[0m\u001b[0;34m)\u001b[0m\u001b[0;34m\u001b[0m\u001b[0;34m\u001b[0m\u001b[0m\n\u001b[0m\u001b[1;32m    581\u001b[0m \u001b[0;34m\u001b[0m\u001b[0m\n\u001b[1;32m    582\u001b[0m     \u001b[0;32mreturn\u001b[0m \u001b[0mx\u001b[0m\u001b[0;34m\u001b[0m\u001b[0;34m\u001b[0m\u001b[0m\n",
      "\u001b[0;31mValueError\u001b[0m: Input array must be 1 dimensional"
     ]
    }
   ],
   "source": [
    "pd.cut('Age',bins=[10,14,20,6,100],labels=['Child','Ado','Adulte','Senior'])"
   ]
  },
  {
   "cell_type": "code",
   "execution_count": 74,
   "metadata": {},
   "outputs": [
    {
     "data": {
      "text/plain": [
       "Date of Arrest    0\n",
       "Age               0\n",
       "Convicted         0\n",
       "dtype: int64"
      ]
     },
     "execution_count": 74,
     "metadata": {},
     "output_type": "execute_result"
    }
   ],
   "source": [
    "dfb.isna().sum()"
   ]
  },
  {
   "cell_type": "markdown",
   "metadata": {},
   "source": [
    "### exemple"
   ]
  },
  {
   "cell_type": "code",
   "execution_count": 75,
   "metadata": {},
   "outputs": [],
   "source": [
    "exo3= pd.Series(data=[0,1,2,3,4,5])\n"
   ]
  },
  {
   "cell_type": "code",
   "execution_count": 76,
   "metadata": {},
   "outputs": [
    {
     "data": {
      "text/plain": [
       "0    NaN\n",
       "1    NaN\n",
       "2      A\n",
       "3      B\n",
       "4    NaN\n",
       "5    NaN\n",
       "dtype: category\n",
       "Categories (2, object): ['A' < 'B']"
      ]
     },
     "execution_count": 76,
     "metadata": {},
     "output_type": "execute_result"
    }
   ],
   "source": [
    "pd.cut(exo3,bins=[1,2,3],labels=['A','B'])"
   ]
  },
  {
   "cell_type": "markdown",
   "metadata": {},
   "source": [
    "on constate que les bornes, par ex : [0,1] c'est techniquement [0.001,1]"
   ]
  },
  {
   "cell_type": "code",
   "execution_count": 77,
   "metadata": {},
   "outputs": [],
   "source": [
    "prefix = [\"ten\",\"twen\",\"thir\",\"four\",\"fif\",\"six\",\"seven\",\"eigh\",\"nine\"]\n",
    "labels = [p+'ties' for p in prefix]"
   ]
  },
  {
   "cell_type": "markdown",
   "metadata": {},
   "source": [
    "### reprise"
   ]
  },
  {
   "cell_type": "code",
   "execution_count": 78,
   "metadata": {
    "scrolled": true
   },
   "outputs": [],
   "source": [
    "bins = [i for i in range(9,100,10)]"
   ]
  },
  {
   "cell_type": "code",
   "execution_count": 79,
   "metadata": {
    "scrolled": true
   },
   "outputs": [],
   "source": [
    "dfb['Decades'] = pd.cut(dfb['Age'],bins=bins,labels=labels)"
   ]
  },
  {
   "cell_type": "markdown",
   "metadata": {},
   "source": [
    "## extraction des 'date' vers des numeriques"
   ]
  },
  {
   "cell_type": "code",
   "execution_count": 80,
   "metadata": {
    "scrolled": false
   },
   "outputs": [
    {
     "data": {
      "text/html": [
       "<div>\n",
       "<style scoped>\n",
       "    .dataframe tbody tr th:only-of-type {\n",
       "        vertical-align: middle;\n",
       "    }\n",
       "\n",
       "    .dataframe tbody tr th {\n",
       "        vertical-align: top;\n",
       "    }\n",
       "\n",
       "    .dataframe thead th {\n",
       "        text-align: right;\n",
       "    }\n",
       "</style>\n",
       "<table border=\"1\" class=\"dataframe\">\n",
       "  <thead>\n",
       "    <tr style=\"text-align: right;\">\n",
       "      <th></th>\n",
       "      <th>Date of Arrest</th>\n",
       "      <th>Age</th>\n",
       "      <th>Convicted</th>\n",
       "      <th>Decades</th>\n",
       "    </tr>\n",
       "  </thead>\n",
       "  <tbody>\n",
       "    <tr>\n",
       "      <th>0</th>\n",
       "      <td>2014-07-16 14:59:18</td>\n",
       "      <td>77</td>\n",
       "      <td>Yes</td>\n",
       "      <td>seventies</td>\n",
       "    </tr>\n",
       "    <tr>\n",
       "      <th>1</th>\n",
       "      <td>2002-12-19 22:17:59</td>\n",
       "      <td>28</td>\n",
       "      <td>Yes</td>\n",
       "      <td>twenties</td>\n",
       "    </tr>\n",
       "    <tr>\n",
       "      <th>2</th>\n",
       "      <td>1994-06-28 09:31:40</td>\n",
       "      <td>21</td>\n",
       "      <td>No</td>\n",
       "      <td>twenties</td>\n",
       "    </tr>\n",
       "    <tr>\n",
       "      <th>3</th>\n",
       "      <td>1985-05-14 09:52:17</td>\n",
       "      <td>45</td>\n",
       "      <td>Yes</td>\n",
       "      <td>fourties</td>\n",
       "    </tr>\n",
       "    <tr>\n",
       "      <th>4</th>\n",
       "      <td>1985-05-25 14:06:28</td>\n",
       "      <td>39</td>\n",
       "      <td>Yes</td>\n",
       "      <td>thirties</td>\n",
       "    </tr>\n",
       "  </tbody>\n",
       "</table>\n",
       "</div>"
      ],
      "text/plain": [
       "       Date of Arrest  Age Convicted    Decades\n",
       "0 2014-07-16 14:59:18   77       Yes  seventies\n",
       "1 2002-12-19 22:17:59   28       Yes   twenties\n",
       "2 1994-06-28 09:31:40   21        No   twenties\n",
       "3 1985-05-14 09:52:17   45       Yes   fourties\n",
       "4 1985-05-25 14:06:28   39       Yes   thirties"
      ]
     },
     "execution_count": 80,
     "metadata": {},
     "output_type": "execute_result"
    }
   ],
   "source": [
    "dfb['Date of Arrest'] = pd.to_datetime(dfb['Date of Arrest'])\n",
    "dfb.head()"
   ]
  },
  {
   "cell_type": "code",
   "execution_count": 81,
   "metadata": {},
   "outputs": [],
   "source": [
    "from datetime import datetime\n",
    "year = lambda y: datetime(year=y,month=1, day=1)\n",
    "prefix = [\"six\",\"seven\",\"eigh\",\"nine\",\"ten\",\"twen\",\"thir\"]\n",
    "labels = [p+'ties' for p in prefix]\n",
    "bins =  list(range(1959,2030,10))\n",
    "bins = [year(b) for b in bins]"
   ]
  },
  {
   "cell_type": "code",
   "execution_count": 94,
   "metadata": {
    "scrolled": true
   },
   "outputs": [],
   "source": [
    "dfb.rename(columns={\"Date of Arrest\":\"DoA\"},inplace=True)\n",
    "dfb['YoA']=dfb['DoA'].dt.year"
   ]
  },
  {
   "cell_type": "markdown",
   "metadata": {},
   "source": [
    "## methode avec mapping"
   ]
  },
  {
   "cell_type": "code",
   "execution_count": 83,
   "metadata": {},
   "outputs": [
    {
     "data": {
      "text/plain": [
       "Date of Arrest            object\n",
       "Age                        int64\n",
       "Convicted                 object\n",
       "DoA               datetime64[ns]\n",
       "dtype: object"
      ]
     },
     "execution_count": 83,
     "metadata": {},
     "output_type": "execute_result"
    }
   ],
   "source": [
    "data=pd.read_csv(\"https://bit.ly/felonies-dataset\")\n",
    "data['DoA']=pd.to_datetime(data['Date of Arrest'])\n",
    "data.dtypes"
   ]
  },
  {
   "cell_type": "code",
   "execution_count": 84,
   "metadata": {},
   "outputs": [
    {
     "data": {
      "text/html": [
       "<div>\n",
       "<style scoped>\n",
       "    .dataframe tbody tr th:only-of-type {\n",
       "        vertical-align: middle;\n",
       "    }\n",
       "\n",
       "    .dataframe tbody tr th {\n",
       "        vertical-align: top;\n",
       "    }\n",
       "\n",
       "    .dataframe thead th {\n",
       "        text-align: right;\n",
       "    }\n",
       "</style>\n",
       "<table border=\"1\" class=\"dataframe\">\n",
       "  <thead>\n",
       "    <tr style=\"text-align: right;\">\n",
       "      <th></th>\n",
       "      <th>Age</th>\n",
       "      <th>Convicted</th>\n",
       "      <th>DoA</th>\n",
       "    </tr>\n",
       "  </thead>\n",
       "  <tbody>\n",
       "    <tr>\n",
       "      <th>0</th>\n",
       "      <td>77</td>\n",
       "      <td>Yes</td>\n",
       "      <td>2014-07-16 14:59:18</td>\n",
       "    </tr>\n",
       "    <tr>\n",
       "      <th>1</th>\n",
       "      <td>28</td>\n",
       "      <td>Yes</td>\n",
       "      <td>2002-12-19 22:17:59</td>\n",
       "    </tr>\n",
       "    <tr>\n",
       "      <th>2</th>\n",
       "      <td>21</td>\n",
       "      <td>No</td>\n",
       "      <td>1994-06-28 09:31:40</td>\n",
       "    </tr>\n",
       "    <tr>\n",
       "      <th>3</th>\n",
       "      <td>45</td>\n",
       "      <td>Yes</td>\n",
       "      <td>1985-05-14 09:52:17</td>\n",
       "    </tr>\n",
       "    <tr>\n",
       "      <th>4</th>\n",
       "      <td>39</td>\n",
       "      <td>Yes</td>\n",
       "      <td>1985-05-25 14:06:28</td>\n",
       "    </tr>\n",
       "  </tbody>\n",
       "</table>\n",
       "</div>"
      ],
      "text/plain": [
       "   Age Convicted                 DoA\n",
       "0   77       Yes 2014-07-16 14:59:18\n",
       "1   28       Yes 2002-12-19 22:17:59\n",
       "2   21        No 1994-06-28 09:31:40\n",
       "3   45       Yes 1985-05-14 09:52:17\n",
       "4   39       Yes 1985-05-25 14:06:28"
      ]
     },
     "execution_count": 84,
     "metadata": {},
     "output_type": "execute_result"
    }
   ],
   "source": [
    "data.drop(['Date of Arrest'], axis='columns', inplace=True)\n",
    "data.head()"
   ]
  },
  {
   "cell_type": "code",
   "execution_count": 85,
   "metadata": {},
   "outputs": [
    {
     "data": {
      "text/plain": [
       "0       Milieu\n",
       "1       Milieu\n",
       "2        Debut\n",
       "3        Debut\n",
       "4      Weekend\n",
       "        ...   \n",
       "995      Debut\n",
       "996      Debut\n",
       "997      Debut\n",
       "998      Debut\n",
       "999    Weekend\n",
       "Name: DoA, Length: 1000, dtype: object"
      ]
     },
     "execution_count": 85,
     "metadata": {},
     "output_type": "execute_result"
    }
   ],
   "source": [
    "dow2weektime={0:'Debut',1:'Debut',\n",
    "              2:'Milieu',3:'Milieu',4:'Milieu',\n",
    "              5:'Weekend',6:'Weekend'}\n",
    "data.DoA.dt.dayofweek.map(dow2weektime)"
   ]
  },
  {
   "cell_type": "code",
   "execution_count": 86,
   "metadata": {},
   "outputs": [
    {
     "data": {
      "text/plain": [
       "{'monday': 0,\n",
       " 'tuesday': 1,\n",
       " 'wednesday': 2,\n",
       " 'thursday': 3,\n",
       " 'friday': 4,\n",
       " 'saturday': 5,\n",
       " 'sunday': 6}"
      ]
     },
     "execution_count": 86,
     "metadata": {},
     "output_type": "execute_result"
    }
   ],
   "source": [
    "id2str=['monday','tuesday','wednesday','thursday','friday','saturday','sunday']\n",
    "str2id={value: idx for idx, value in enumerate(id2str)}\n",
    "str2id"
   ]
  },
  {
   "cell_type": "code",
   "execution_count": 87,
   "metadata": {},
   "outputs": [
    {
     "data": {
      "text/plain": [
       "{0: 'monday',\n",
       " 1: 'tuesday',\n",
       " 2: 'wednesday',\n",
       " 3: 'thursday',\n",
       " 4: 'friday',\n",
       " 5: 'saturday',\n",
       " 6: 'sunday'}"
      ]
     },
     "execution_count": 87,
     "metadata": {},
     "output_type": "execute_result"
    }
   ],
   "source": [
    "id2str={idx:value for idx, value in enumerate(id2str)}\n",
    "id2str"
   ]
  },
  {
   "cell_type": "code",
   "execution_count": 88,
   "metadata": {},
   "outputs": [
    {
     "data": {
      "text/plain": [
       "0      wednesday\n",
       "1       thursday\n",
       "2        tuesday\n",
       "3        tuesday\n",
       "4       saturday\n",
       "         ...    \n",
       "995      tuesday\n",
       "996       monday\n",
       "997      tuesday\n",
       "998       monday\n",
       "999       sunday\n",
       "Name: DoA, Length: 1000, dtype: object"
      ]
     },
     "execution_count": 88,
     "metadata": {},
     "output_type": "execute_result"
    }
   ],
   "source": [
    "data['DoA'].dt.dayofweek.map(id2str)"
   ]
  },
  {
   "cell_type": "code",
   "execution_count": 89,
   "metadata": {},
   "outputs": [],
   "source": [
    "periodeSemaine={'monday': 'debut',\n",
    "                'tuesday': 'debut',\n",
    "                'wednesday': 'milieu',\n",
    "                'thursday': 'milieu',\n",
    "                'friday': 'milieu',\n",
    "                'saturday': 'week-end',\n",
    "                'sunday': 'week-end'}"
   ]
  },
  {
   "cell_type": "code",
   "execution_count": 90,
   "metadata": {},
   "outputs": [
    {
     "data": {
      "text/html": [
       "<div>\n",
       "<style scoped>\n",
       "    .dataframe tbody tr th:only-of-type {\n",
       "        vertical-align: middle;\n",
       "    }\n",
       "\n",
       "    .dataframe tbody tr th {\n",
       "        vertical-align: top;\n",
       "    }\n",
       "\n",
       "    .dataframe thead th {\n",
       "        text-align: right;\n",
       "    }\n",
       "</style>\n",
       "<table border=\"1\" class=\"dataframe\">\n",
       "  <thead>\n",
       "    <tr style=\"text-align: right;\">\n",
       "      <th></th>\n",
       "      <th>Age</th>\n",
       "      <th>Convicted</th>\n",
       "      <th>DoA</th>\n",
       "      <th>periodeSemaine</th>\n",
       "    </tr>\n",
       "  </thead>\n",
       "  <tbody>\n",
       "    <tr>\n",
       "      <th>0</th>\n",
       "      <td>77</td>\n",
       "      <td>Yes</td>\n",
       "      <td>2014-07-16 14:59:18</td>\n",
       "      <td>milieu</td>\n",
       "    </tr>\n",
       "    <tr>\n",
       "      <th>1</th>\n",
       "      <td>28</td>\n",
       "      <td>Yes</td>\n",
       "      <td>2002-12-19 22:17:59</td>\n",
       "      <td>milieu</td>\n",
       "    </tr>\n",
       "    <tr>\n",
       "      <th>2</th>\n",
       "      <td>21</td>\n",
       "      <td>No</td>\n",
       "      <td>1994-06-28 09:31:40</td>\n",
       "      <td>debut</td>\n",
       "    </tr>\n",
       "    <tr>\n",
       "      <th>3</th>\n",
       "      <td>45</td>\n",
       "      <td>Yes</td>\n",
       "      <td>1985-05-14 09:52:17</td>\n",
       "      <td>debut</td>\n",
       "    </tr>\n",
       "    <tr>\n",
       "      <th>4</th>\n",
       "      <td>39</td>\n",
       "      <td>Yes</td>\n",
       "      <td>1985-05-25 14:06:28</td>\n",
       "      <td>week-end</td>\n",
       "    </tr>\n",
       "  </tbody>\n",
       "</table>\n",
       "</div>"
      ],
      "text/plain": [
       "   Age Convicted                 DoA periodeSemaine\n",
       "0   77       Yes 2014-07-16 14:59:18         milieu\n",
       "1   28       Yes 2002-12-19 22:17:59         milieu\n",
       "2   21        No 1994-06-28 09:31:40          debut\n",
       "3   45       Yes 1985-05-14 09:52:17          debut\n",
       "4   39       Yes 1985-05-25 14:06:28       week-end"
      ]
     },
     "execution_count": 90,
     "metadata": {},
     "output_type": "execute_result"
    }
   ],
   "source": [
    "data['periodeSemaine']=data['DoA'].dt.dayofweek.map(id2str).map(periodeSemaine)\n",
    "data.head()"
   ]
  },
  {
   "cell_type": "markdown",
   "metadata": {},
   "source": [
    "Bonus : Sauvegarder des objets\n",
    "Méthode intéressante pour sauvegarder le vocabulaire et pouvoir le réutiliser\n",
    "\n",
    "A Savoir : On ne peut pas pickle des objets numpy"
   ]
  },
  {
   "cell_type": "raw",
   "metadata": {},
   "source": [
    "import pickle\n",
    "path=(' ./dictionnaire.pkl')\n",
    "\n",
    "#en écriture\n",
    "with open (path, 'wb') as f:\n",
    "    pickle.dump(id2str,f) #pickle.dump(object, directory)\n",
    "    \n",
    "#en lecture\n",
    "with open (path, 'rb') as f:\n",
    "    objet=pickle.load(f) #pickle.dump(object, directory)\n",
    "objet"
   ]
  },
  {
   "cell_type": "markdown",
   "metadata": {},
   "source": [
    "## extraction des 'date' vers des ordinal"
   ]
  },
  {
   "cell_type": "code",
   "execution_count": 102,
   "metadata": {},
   "outputs": [
    {
     "data": {
      "text/html": [
       "<div>\n",
       "<style scoped>\n",
       "    .dataframe tbody tr th:only-of-type {\n",
       "        vertical-align: middle;\n",
       "    }\n",
       "\n",
       "    .dataframe tbody tr th {\n",
       "        vertical-align: top;\n",
       "    }\n",
       "\n",
       "    .dataframe thead th {\n",
       "        text-align: right;\n",
       "    }\n",
       "</style>\n",
       "<table border=\"1\" class=\"dataframe\">\n",
       "  <thead>\n",
       "    <tr style=\"text-align: right;\">\n",
       "      <th></th>\n",
       "      <th>DoA</th>\n",
       "      <th>Age</th>\n",
       "      <th>Convicted</th>\n",
       "    </tr>\n",
       "  </thead>\n",
       "  <tbody>\n",
       "    <tr>\n",
       "      <th>0</th>\n",
       "      <td>2014-07-16 14:59:18</td>\n",
       "      <td>77</td>\n",
       "      <td>Yes</td>\n",
       "    </tr>\n",
       "    <tr>\n",
       "      <th>1</th>\n",
       "      <td>2002-12-19 22:17:59</td>\n",
       "      <td>28</td>\n",
       "      <td>Yes</td>\n",
       "    </tr>\n",
       "    <tr>\n",
       "      <th>2</th>\n",
       "      <td>1994-06-28 09:31:40</td>\n",
       "      <td>21</td>\n",
       "      <td>No</td>\n",
       "    </tr>\n",
       "    <tr>\n",
       "      <th>3</th>\n",
       "      <td>1985-05-14 09:52:17</td>\n",
       "      <td>45</td>\n",
       "      <td>Yes</td>\n",
       "    </tr>\n",
       "    <tr>\n",
       "      <th>4</th>\n",
       "      <td>1985-05-25 14:06:28</td>\n",
       "      <td>39</td>\n",
       "      <td>Yes</td>\n",
       "    </tr>\n",
       "  </tbody>\n",
       "</table>\n",
       "</div>"
      ],
      "text/plain": [
       "                  DoA  Age Convicted\n",
       "0 2014-07-16 14:59:18   77       Yes\n",
       "1 2002-12-19 22:17:59   28       Yes\n",
       "2 1994-06-28 09:31:40   21        No\n",
       "3 1985-05-14 09:52:17   45       Yes\n",
       "4 1985-05-25 14:06:28   39       Yes"
      ]
     },
     "execution_count": 102,
     "metadata": {},
     "output_type": "execute_result"
    }
   ],
   "source": [
    "data=pd.read_csv(\"https://bit.ly/felonies-dataset\")\n",
    "data.rename(columns={\"Date of Arrest\":\"DoA\"}, inplace=True)\n",
    "data['DoA']=pd.to_datetime(data['DoA'])\n",
    "data.head()"
   ]
  },
  {
   "cell_type": "code",
   "execution_count": 103,
   "metadata": {},
   "outputs": [
    {
     "name": "stdout",
     "output_type": "stream",
     "text": [
      "Les jours vont de 1 à 31\n",
      "Les mois vont de 1 à 12\n"
     ]
    }
   ],
   "source": [
    "print(\"Les jours vont de\",\n",
    "      data['DoA'].dt.day.min(),\n",
    "      \"à\",\n",
    "      data['DoA'].dt.day.max())\n",
    "print(\"Les mois vont de\",\n",
    "      data['DoA'].dt.month.min(),\n",
    "      \"à\",\n",
    "      data['DoA'].dt.month.max())"
   ]
  },
  {
   "cell_type": "code",
   "execution_count": 104,
   "metadata": {
    "scrolled": true
   },
   "outputs": [
    {
     "data": {
      "text/plain": [
       "0       716\n",
       "1      1219\n",
       "2       628\n",
       "3       514\n",
       "4       525\n",
       "       ... \n",
       "995     204\n",
       "996     429\n",
       "997     715\n",
       "998     705\n",
       "999     317\n",
       "Name: DoA, Length: 1000, dtype: int64"
      ]
     },
     "execution_count": 104,
     "metadata": {},
     "output_type": "execute_result"
    }
   ],
   "source": [
    "coltemp=data['DoA'].dt.month*100+data['DoA'].dt.day\n",
    "coltemp"
   ]
  },
  {
   "cell_type": "code",
   "execution_count": 105,
   "metadata": {},
   "outputs": [
    {
     "data": {
      "text/plain": [
       "0          ETE\n",
       "1      AUTOMNE\n",
       "2          ETE\n",
       "3    PRINTEMPS\n",
       "4    PRINTEMPS\n",
       "Name: DoA, dtype: category\n",
       "Categories (5, object): ['HIVER' < 'PRINTEMPS' < 'ETE' < 'AUTOMNE' < 'HIVER2']"
      ]
     },
     "execution_count": 105,
     "metadata": {},
     "output_type": "execute_result"
    }
   ],
   "source": [
    "av_janvier=0\n",
    "av_printmps=320\n",
    "av_ete=620\n",
    "av_autmn=920\n",
    "av_hiver=1221\n",
    "fin_année=1232\n",
    "bins=[av_janvier,av_printmps,av_ete,av_autmn,av_hiver,fin_année]\n",
    "saisons=pd.cut(coltemp,\n",
    "      bins=bins,\n",
    "      labels=['HIVER','PRINTEMPS','ETE','AUTOMNE','HIVER2'])\n",
    "saisons.head()"
   ]
  },
  {
   "cell_type": "code",
   "execution_count": 106,
   "metadata": {},
   "outputs": [
    {
     "data": {
      "text/plain": [
       "array(['ETE', 'AUTOMNE', 'PRINTEMPS', 'HIVER'], dtype=object)"
      ]
     },
     "execution_count": 106,
     "metadata": {},
     "output_type": "execute_result"
    }
   ],
   "source": [
    "saisons=saisons.str.replace('2','')\n",
    "saisons.unique()"
   ]
  },
  {
   "cell_type": "code",
   "execution_count": 107,
   "metadata": {},
   "outputs": [
    {
     "data": {
      "text/plain": [
       "0          ETE\n",
       "1      AUTOMNE\n",
       "2          ETE\n",
       "3    PRINTEMPS\n",
       "4    PRINTEMPS\n",
       "Name: DoA, dtype: category\n",
       "Categories (4, object): ['HIVER' < 'PRINTEMPS' < 'ETE' < 'AUTOMNE']"
      ]
     },
     "execution_count": 107,
     "metadata": {},
     "output_type": "execute_result"
    }
   ],
   "source": [
    "ordre=['HIVER','PRINTEMPS','ETE','AUTOMNE']\n",
    "saison=(saisons.astype('category').\n",
    "                        cat.reorder_categories(ordre).\n",
    "                        cat.as_ordered())\n",
    "saison.head()"
   ]
  },
  {
   "cell_type": "markdown",
   "metadata": {},
   "source": [
    "### on faire pareil avec les periodes des jours"
   ]
  },
  {
   "cell_type": "code",
   "execution_count": 118,
   "metadata": {},
   "outputs": [
    {
     "data": {
      "text/html": [
       "<div>\n",
       "<style scoped>\n",
       "    .dataframe tbody tr th:only-of-type {\n",
       "        vertical-align: middle;\n",
       "    }\n",
       "\n",
       "    .dataframe tbody tr th {\n",
       "        vertical-align: top;\n",
       "    }\n",
       "\n",
       "    .dataframe thead th {\n",
       "        text-align: right;\n",
       "    }\n",
       "</style>\n",
       "<table border=\"1\" class=\"dataframe\">\n",
       "  <thead>\n",
       "    <tr style=\"text-align: right;\">\n",
       "      <th></th>\n",
       "      <th>DoA</th>\n",
       "      <th>Age</th>\n",
       "      <th>Convicted</th>\n",
       "    </tr>\n",
       "  </thead>\n",
       "  <tbody>\n",
       "    <tr>\n",
       "      <th>0</th>\n",
       "      <td>2014-07-16 14:59:18</td>\n",
       "      <td>77</td>\n",
       "      <td>Yes</td>\n",
       "    </tr>\n",
       "    <tr>\n",
       "      <th>1</th>\n",
       "      <td>2002-12-19 22:17:59</td>\n",
       "      <td>28</td>\n",
       "      <td>Yes</td>\n",
       "    </tr>\n",
       "    <tr>\n",
       "      <th>2</th>\n",
       "      <td>1994-06-28 09:31:40</td>\n",
       "      <td>21</td>\n",
       "      <td>No</td>\n",
       "    </tr>\n",
       "    <tr>\n",
       "      <th>3</th>\n",
       "      <td>1985-05-14 09:52:17</td>\n",
       "      <td>45</td>\n",
       "      <td>Yes</td>\n",
       "    </tr>\n",
       "    <tr>\n",
       "      <th>4</th>\n",
       "      <td>1985-05-25 14:06:28</td>\n",
       "      <td>39</td>\n",
       "      <td>Yes</td>\n",
       "    </tr>\n",
       "  </tbody>\n",
       "</table>\n",
       "</div>"
      ],
      "text/plain": [
       "                  DoA  Age Convicted\n",
       "0 2014-07-16 14:59:18   77       Yes\n",
       "1 2002-12-19 22:17:59   28       Yes\n",
       "2 1994-06-28 09:31:40   21        No\n",
       "3 1985-05-14 09:52:17   45       Yes\n",
       "4 1985-05-25 14:06:28   39       Yes"
      ]
     },
     "execution_count": 118,
     "metadata": {},
     "output_type": "execute_result"
    }
   ],
   "source": [
    "data=pd.read_csv(\"https://bit.ly/felonies-dataset\")\n",
    "data.rename(columns={\"Date of Arrest\":\"DoA\"}, inplace=True)\n",
    "data['DoA']=pd.to_datetime(data['DoA'])\n",
    "data.head()"
   ]
  },
  {
   "cell_type": "code",
   "execution_count": 119,
   "metadata": {},
   "outputs": [
    {
     "name": "stdout",
     "output_type": "stream",
     "text": [
      "Les min vont de 0 à 59\n",
      "Les heures vont de 0 à 23\n"
     ]
    }
   ],
   "source": [
    "print(\"Les min vont de\",\n",
    "      data['DoA'].dt.minute.min(),\n",
    "      \"à\",\n",
    "      data['DoA'].dt.minute.max())\n",
    "print(\"Les heures vont de\",\n",
    "      data['DoA'].dt.hour.min(),\n",
    "      \"à\",\n",
    "      data['DoA'].dt.hour.max())"
   ]
  },
  {
   "cell_type": "code",
   "execution_count": 120,
   "metadata": {
    "scrolled": true
   },
   "outputs": [
    {
     "data": {
      "text/plain": [
       "0      1459\n",
       "1      2217\n",
       "2       931\n",
       "3       952\n",
       "4      1406\n",
       "       ... \n",
       "995    1424\n",
       "996    1803\n",
       "997    2159\n",
       "998    1716\n",
       "999    1829\n",
       "Name: DoA, Length: 1000, dtype: int64"
      ]
     },
     "execution_count": 120,
     "metadata": {},
     "output_type": "execute_result"
    }
   ],
   "source": [
    "coltemp=data['DoA'].dt.hour*100+data['DoA'].dt.minute\n",
    "coltemp"
   ]
  },
  {
   "cell_type": "code",
   "execution_count": 121,
   "metadata": {
    "scrolled": false
   },
   "outputs": [
    {
     "data": {
      "text/plain": [
       "0    JOURNEE\n",
       "1      NUIT2\n",
       "2      MATIN\n",
       "3      MATIN\n",
       "4    JOURNEE\n",
       "Name: DoA, dtype: category\n",
       "Categories (5, object): ['NUIT' < 'MATIN' < 'JOURNEE' < 'SOIREE' < 'NUIT2']"
      ]
     },
     "execution_count": 121,
     "metadata": {},
     "output_type": "execute_result"
    }
   ],
   "source": [
    "db_jour=0\n",
    "db_matn=325\n",
    "db_jrne=1200\n",
    "db_soir=1830\n",
    "db_nuit=2215\n",
    "fn_jour=2359\n",
    "bins=[db_jour,db_matn,db_jrne,db_soir,db_nuit,fn_jour]\n",
    "periodes=pd.cut(coltemp,\n",
    "      bins=bins,\n",
    "      labels=['NUIT','MATIN','JOURNEE','SOIREE','NUIT2'])\n",
    "periodes.head()"
   ]
  },
  {
   "cell_type": "code",
   "execution_count": 122,
   "metadata": {},
   "outputs": [
    {
     "data": {
      "text/plain": [
       "array(['JOURNEE', 'NUIT', 'MATIN', 'SOIREE'], dtype=object)"
      ]
     },
     "execution_count": 122,
     "metadata": {},
     "output_type": "execute_result"
    }
   ],
   "source": [
    "periodes=periodes.str.replace('2','')\n",
    "periodes.unique()"
   ]
  },
  {
   "cell_type": "code",
   "execution_count": 124,
   "metadata": {},
   "outputs": [
    {
     "data": {
      "text/plain": [
       "0    JOURNEE\n",
       "1       NUIT\n",
       "2      MATIN\n",
       "3      MATIN\n",
       "4    JOURNEE\n",
       "Name: DoA, dtype: category\n",
       "Categories (4, object): ['NUIT' < 'MATIN' < 'JOURNEE' < 'SOIREE']"
      ]
     },
     "execution_count": 124,
     "metadata": {},
     "output_type": "execute_result"
    }
   ],
   "source": [
    "ordre=['NUIT','MATIN','JOURNEE','SOIREE']\n",
    "periode=(periodes.astype('category').\n",
    "                        cat.reorder_categories(ordre).\n",
    "                        cat.as_ordered())\n",
    "periode.head()"
   ]
  },
  {
   "cell_type": "code",
   "execution_count": null,
   "metadata": {},
   "outputs": [],
   "source": []
  }
 ],
 "metadata": {
  "kernelspec": {
   "display_name": "Python 3",
   "language": "python",
   "name": "python3"
  },
  "language_info": {
   "codemirror_mode": {
    "name": "ipython",
    "version": 3
   },
   "file_extension": ".py",
   "mimetype": "text/x-python",
   "name": "python",
   "nbconvert_exporter": "python",
   "pygments_lexer": "ipython3",
   "version": "3.8.2"
  },
  "toc": {
   "base_numbering": 1,
   "nav_menu": {},
   "number_sections": true,
   "sideBar": true,
   "skip_h1_title": false,
   "title_cell": "Table of Contents",
   "title_sidebar": "Contents",
   "toc_cell": false,
   "toc_position": {},
   "toc_section_display": true,
   "toc_window_display": true
  },
  "varInspector": {
   "cols": {
    "lenName": 16,
    "lenType": 16,
    "lenVar": 40
   },
   "kernels_config": {
    "python": {
     "delete_cmd_postfix": "",
     "delete_cmd_prefix": "del ",
     "library": "var_list.py",
     "varRefreshCmd": "print(var_dic_list())"
    },
    "r": {
     "delete_cmd_postfix": ") ",
     "delete_cmd_prefix": "rm(",
     "library": "var_list.r",
     "varRefreshCmd": "cat(var_dic_list()) "
    }
   },
   "types_to_exclude": [
    "module",
    "function",
    "builtin_function_or_method",
    "instance",
    "_Feature"
   ],
   "window_display": false
  }
 },
 "nbformat": 4,
 "nbformat_minor": 4
}
