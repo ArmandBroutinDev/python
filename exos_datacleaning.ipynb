{
 "cells": [
  {
   "cell_type": "markdown",
   "metadata": {},
   "source": [
    "# Data cleaning\n",
    "importer pandas et le dataset"
   ]
  },
  {
   "cell_type": "code",
   "execution_count": 1,
   "metadata": {},
   "outputs": [],
   "source": [
    "import pandas as pd"
   ]
  },
  {
   "cell_type": "code",
   "execution_count": 18,
   "metadata": {},
   "outputs": [],
   "source": [
    "chemin = \"Https://bit.ly/world-cities-clean\"\n",
    "data = pd.read_csv(chemin)"
   ]
  },
  {
   "cell_type": "code",
   "execution_count": 13,
   "metadata": {},
   "outputs": [
    {
     "data": {
      "text/html": [
       "<div>\n",
       "<style scoped>\n",
       "    .dataframe tbody tr th:only-of-type {\n",
       "        vertical-align: middle;\n",
       "    }\n",
       "\n",
       "    .dataframe tbody tr th {\n",
       "        vertical-align: top;\n",
       "    }\n",
       "\n",
       "    .dataframe thead th {\n",
       "        text-align: right;\n",
       "    }\n",
       "</style>\n",
       "<table border=\"1\" class=\"dataframe\">\n",
       "  <thead>\n",
       "    <tr style=\"text-align: right;\">\n",
       "      <th></th>\n",
       "      <th>name</th>\n",
       "      <th>country</th>\n",
       "      <th>subcountry</th>\n",
       "      <th>geonameid</th>\n",
       "    </tr>\n",
       "  </thead>\n",
       "  <tbody>\n",
       "    <tr>\n",
       "      <th>0</th>\n",
       "      <td>les Escaldes</td>\n",
       "      <td>Andorra</td>\n",
       "      <td>Escaldes-Engordany</td>\n",
       "      <td>3040051</td>\n",
       "    </tr>\n",
       "    <tr>\n",
       "      <th>1</th>\n",
       "      <td>Andorra la Vella</td>\n",
       "      <td>Andorra</td>\n",
       "      <td>Andorra la Vella</td>\n",
       "      <td>3041563</td>\n",
       "    </tr>\n",
       "    <tr>\n",
       "      <th>2</th>\n",
       "      <td>Umm al Qaywayn</td>\n",
       "      <td>United Arab Emirates</td>\n",
       "      <td>Umm al Qaywayn</td>\n",
       "      <td>290594</td>\n",
       "    </tr>\n",
       "    <tr>\n",
       "      <th>3</th>\n",
       "      <td>Ras al-Khaimah</td>\n",
       "      <td>United Arab Emirates</td>\n",
       "      <td>Raʼs al Khaymah</td>\n",
       "      <td>291074</td>\n",
       "    </tr>\n",
       "    <tr>\n",
       "      <th>4</th>\n",
       "      <td>Khawr Fakkān</td>\n",
       "      <td>United Arab Emirates</td>\n",
       "      <td>Ash Shāriqah</td>\n",
       "      <td>291696</td>\n",
       "    </tr>\n",
       "  </tbody>\n",
       "</table>\n",
       "</div>"
      ],
      "text/plain": [
       "               name               country          subcountry  geonameid\n",
       "0      les Escaldes               Andorra  Escaldes-Engordany    3040051\n",
       "1  Andorra la Vella               Andorra    Andorra la Vella    3041563\n",
       "2    Umm al Qaywayn  United Arab Emirates      Umm al Qaywayn     290594\n",
       "3    Ras al-Khaimah  United Arab Emirates     Raʼs al Khaymah     291074\n",
       "4      Khawr Fakkān  United Arab Emirates        Ash Shāriqah     291696"
      ]
     },
     "execution_count": 13,
     "metadata": {},
     "output_type": "execute_result"
    }
   ],
   "source": [
    "data.head()"
   ]
  },
  {
   "cell_type": "markdown",
   "metadata": {},
   "source": [
    "les raccourcis clavier\n",
    "sur les cellules :\n",
    "m pour transformer en markdown\n",
    "y pour du code\n",
    "r pour du raw (code non executable)\n",
    "a creer une cellule au dessus\n",
    "b creer une cellule en dessous\n",
    "dd supprimer la cellule"
   ]
  },
  {
   "cell_type": "markdown",
   "metadata": {},
   "source": [
    "## exo 1 les lectures de csv qui n'existent pas"
   ]
  },
  {
   "cell_type": "code",
   "execution_count": null,
   "metadata": {},
   "outputs": [],
   "source": [
    "chemin1 = \"./oui\"\n",
    "data1 = pd.read_csv(chemin1)"
   ]
  },
  {
   "cell_type": "markdown",
   "metadata": {},
   "source": [
    "FileNotFoundError: [Errno 2] No such file or directory: '.\\\\oui'"
   ]
  },
  {
   "cell_type": "markdown",
   "metadata": {},
   "source": [
    "le dossier ou fichier n'a pas ete trouve"
   ]
  },
  {
   "cell_type": "markdown",
   "metadata": {},
   "source": [
    "il faut mettre un chemin valide qui mene a un fichier existant"
   ]
  },
  {
   "cell_type": "markdown",
   "metadata": {},
   "source": [
    "## exo2 on a perdu la tete"
   ]
  },
  {
   "cell_type": "code",
   "execution_count": 42,
   "metadata": {},
   "outputs": [],
   "source": [
    "chemin2 = \"Https://bit.ly/world-cities-dirty-v1\"\n",
    "data2 = pd.read_csv(chemin2)"
   ]
  },
  {
   "cell_type": "code",
   "execution_count": 43,
   "metadata": {
    "scrolled": true
   },
   "outputs": [
    {
     "data": {
      "text/html": [
       "<div>\n",
       "<style scoped>\n",
       "    .dataframe tbody tr th:only-of-type {\n",
       "        vertical-align: middle;\n",
       "    }\n",
       "\n",
       "    .dataframe tbody tr th {\n",
       "        vertical-align: top;\n",
       "    }\n",
       "\n",
       "    .dataframe thead th {\n",
       "        text-align: right;\n",
       "    }\n",
       "</style>\n",
       "<table border=\"1\" class=\"dataframe\">\n",
       "  <thead>\n",
       "    <tr style=\"text-align: right;\">\n",
       "      <th></th>\n",
       "      <th>les Escaldes</th>\n",
       "      <th>Andorra</th>\n",
       "      <th>Escaldes-Engordany</th>\n",
       "      <th>3040051</th>\n",
       "    </tr>\n",
       "  </thead>\n",
       "  <tbody>\n",
       "    <tr>\n",
       "      <th>0</th>\n",
       "      <td>Andorra la Vella</td>\n",
       "      <td>Andorra</td>\n",
       "      <td>Andorra la Vella</td>\n",
       "      <td>3041563</td>\n",
       "    </tr>\n",
       "    <tr>\n",
       "      <th>1</th>\n",
       "      <td>Umm al Qaywayn</td>\n",
       "      <td>United Arab Emirates</td>\n",
       "      <td>Umm al Qaywayn</td>\n",
       "      <td>290594</td>\n",
       "    </tr>\n",
       "    <tr>\n",
       "      <th>2</th>\n",
       "      <td>Ras al-Khaimah</td>\n",
       "      <td>United Arab Emirates</td>\n",
       "      <td>Raʼs al Khaymah</td>\n",
       "      <td>291074</td>\n",
       "    </tr>\n",
       "    <tr>\n",
       "      <th>3</th>\n",
       "      <td>Khawr Fakkān</td>\n",
       "      <td>United Arab Emirates</td>\n",
       "      <td>Ash Shāriqah</td>\n",
       "      <td>291696</td>\n",
       "    </tr>\n",
       "    <tr>\n",
       "      <th>4</th>\n",
       "      <td>Dubai</td>\n",
       "      <td>United Arab Emirates</td>\n",
       "      <td>Dubai</td>\n",
       "      <td>292223</td>\n",
       "    </tr>\n",
       "  </tbody>\n",
       "</table>\n",
       "</div>"
      ],
      "text/plain": [
       "       les Escaldes               Andorra Escaldes-Engordany  3040051\n",
       "0  Andorra la Vella               Andorra   Andorra la Vella  3041563\n",
       "1    Umm al Qaywayn  United Arab Emirates     Umm al Qaywayn   290594\n",
       "2    Ras al-Khaimah  United Arab Emirates    Raʼs al Khaymah   291074\n",
       "3      Khawr Fakkān  United Arab Emirates       Ash Shāriqah   291696\n",
       "4             Dubai  United Arab Emirates              Dubai   292223"
      ]
     },
     "execution_count": 43,
     "metadata": {},
     "output_type": "execute_result"
    }
   ],
   "source": [
    "data2.head()"
   ]
  },
  {
   "cell_type": "markdown",
   "metadata": {},
   "source": [
    "le nom des colonne est incorrect mais il n'y a pas de message d'erreur"
   ]
  },
  {
   "cell_type": "code",
   "execution_count": 70,
   "metadata": {},
   "outputs": [],
   "source": [
    "data2 = pd.read_csv(chemin2,names=['name','country','subcountry','geonameid'])"
   ]
  },
  {
   "cell_type": "code",
   "execution_count": 71,
   "metadata": {},
   "outputs": [
    {
     "data": {
      "text/html": [
       "<div>\n",
       "<style scoped>\n",
       "    .dataframe tbody tr th:only-of-type {\n",
       "        vertical-align: middle;\n",
       "    }\n",
       "\n",
       "    .dataframe tbody tr th {\n",
       "        vertical-align: top;\n",
       "    }\n",
       "\n",
       "    .dataframe thead th {\n",
       "        text-align: right;\n",
       "    }\n",
       "</style>\n",
       "<table border=\"1\" class=\"dataframe\">\n",
       "  <thead>\n",
       "    <tr style=\"text-align: right;\">\n",
       "      <th></th>\n",
       "      <th>name</th>\n",
       "      <th>country</th>\n",
       "      <th>subcountry</th>\n",
       "      <th>geonameid</th>\n",
       "    </tr>\n",
       "  </thead>\n",
       "  <tbody>\n",
       "    <tr>\n",
       "      <th>0</th>\n",
       "      <td>les Escaldes</td>\n",
       "      <td>Andorra</td>\n",
       "      <td>Escaldes-Engordany</td>\n",
       "      <td>3040051</td>\n",
       "    </tr>\n",
       "    <tr>\n",
       "      <th>1</th>\n",
       "      <td>Andorra la Vella</td>\n",
       "      <td>Andorra</td>\n",
       "      <td>Andorra la Vella</td>\n",
       "      <td>3041563</td>\n",
       "    </tr>\n",
       "    <tr>\n",
       "      <th>2</th>\n",
       "      <td>Umm al Qaywayn</td>\n",
       "      <td>United Arab Emirates</td>\n",
       "      <td>Umm al Qaywayn</td>\n",
       "      <td>290594</td>\n",
       "    </tr>\n",
       "    <tr>\n",
       "      <th>3</th>\n",
       "      <td>Ras al-Khaimah</td>\n",
       "      <td>United Arab Emirates</td>\n",
       "      <td>Raʼs al Khaymah</td>\n",
       "      <td>291074</td>\n",
       "    </tr>\n",
       "    <tr>\n",
       "      <th>4</th>\n",
       "      <td>Khawr Fakkān</td>\n",
       "      <td>United Arab Emirates</td>\n",
       "      <td>Ash Shāriqah</td>\n",
       "      <td>291696</td>\n",
       "    </tr>\n",
       "  </tbody>\n",
       "</table>\n",
       "</div>"
      ],
      "text/plain": [
       "               name               country          subcountry  geonameid\n",
       "0      les Escaldes               Andorra  Escaldes-Engordany    3040051\n",
       "1  Andorra la Vella               Andorra    Andorra la Vella    3041563\n",
       "2    Umm al Qaywayn  United Arab Emirates      Umm al Qaywayn     290594\n",
       "3    Ras al-Khaimah  United Arab Emirates     Raʼs al Khaymah     291074\n",
       "4      Khawr Fakkān  United Arab Emirates        Ash Shāriqah     291696"
      ]
     },
     "execution_count": 71,
     "metadata": {},
     "output_type": "execute_result"
    }
   ],
   "source": [
    "data2.head()"
   ]
  },
  {
   "cell_type": "markdown",
   "metadata": {},
   "source": [
    "## exo 3 lorem ipsum (ad lib)"
   ]
  },
  {
   "cell_type": "code",
   "execution_count": 64,
   "metadata": {},
   "outputs": [
    {
     "data": {
      "text/html": [
       "<div>\n",
       "<style scoped>\n",
       "    .dataframe tbody tr th:only-of-type {\n",
       "        vertical-align: middle;\n",
       "    }\n",
       "\n",
       "    .dataframe tbody tr th {\n",
       "        vertical-align: top;\n",
       "    }\n",
       "\n",
       "    .dataframe thead th {\n",
       "        text-align: right;\n",
       "    }\n",
       "</style>\n",
       "<table border=\"1\" class=\"dataframe\">\n",
       "  <thead>\n",
       "    <tr style=\"text-align: right;\">\n",
       "      <th></th>\n",
       "      <th></th>\n",
       "      <th></th>\n",
       "      <th></th>\n",
       "      <th></th>\n",
       "      <th></th>\n",
       "      <th>Lorem ipsum dolor sit amet</th>\n",
       "      <th>consectetur adipiscing elit</th>\n",
       "      <th>sed do eiusmod tempor incididunt ut labore et dolore magna aliqua. Ut enim ad minim veniam</th>\n",
       "      <th>quis nostrud exercitation ullamco laboris nisi ut aliquip ex ea commodo consequat. Duis aute irure dolor in reprehenderit in voluptate velit esse cillum dolore eu fugiat nulla pariatur. Excepteur sint occaecat cupidatat non proident</th>\n",
       "      <th>sunt in culpa qui officia deserunt mollit anim id est laborum.</th>\n",
       "    </tr>\n",
       "  </thead>\n",
       "  <tbody>\n",
       "    <tr>\n",
       "      <th>Sed ut perspiciatis unde omnis iste natus error sit voluptatem accusantium doloremque laudantium</th>\n",
       "      <th>totam rem aperiam</th>\n",
       "      <th>eaque ipsa quae ab illo inventore veritatis et quasi architecto beatae vitae dicta sunt explicabo. Nemo enim ipsam voluptatem quia voluptas sit aspernatur aut odit aut fugit</th>\n",
       "      <th>sed quia consequuntur magni dolores eos qui ratione voluptatem sequi nesciunt. Neque porro quisquam est</th>\n",
       "      <th>qui dolorem ipsum quia dolor sit amet</th>\n",
       "      <th>consectetur</th>\n",
       "      <td>adipisci velit</td>\n",
       "      <td>sed quia non numquam eius modi tempora incidu...</td>\n",
       "      <td>quis nostrum exercitationem ullam corporis su...</td>\n",
       "      <td>nisi ut aliquid ex ea commodi consequatur? Qu...</td>\n",
       "      <td>vel illum qui dolorem eum fugiat quo voluptas...</td>\n",
       "    </tr>\n",
       "    <tr>\n",
       "      <th>name</th>\n",
       "      <th>country</th>\n",
       "      <th>subcountry</th>\n",
       "      <th>geonameid</th>\n",
       "      <th>NaN</th>\n",
       "      <th>NaN</th>\n",
       "      <td>NaN</td>\n",
       "      <td>NaN</td>\n",
       "      <td>NaN</td>\n",
       "      <td>NaN</td>\n",
       "      <td>NaN</td>\n",
       "    </tr>\n",
       "    <tr>\n",
       "      <th>les Escaldes</th>\n",
       "      <th>Andorra</th>\n",
       "      <th>Escaldes-Engordany</th>\n",
       "      <th>3040051</th>\n",
       "      <th>NaN</th>\n",
       "      <th>NaN</th>\n",
       "      <td>NaN</td>\n",
       "      <td>NaN</td>\n",
       "      <td>NaN</td>\n",
       "      <td>NaN</td>\n",
       "      <td>NaN</td>\n",
       "    </tr>\n",
       "    <tr>\n",
       "      <th>Andorra la Vella</th>\n",
       "      <th>Andorra</th>\n",
       "      <th>Andorra la Vella</th>\n",
       "      <th>3041563</th>\n",
       "      <th>NaN</th>\n",
       "      <th>NaN</th>\n",
       "      <td>NaN</td>\n",
       "      <td>NaN</td>\n",
       "      <td>NaN</td>\n",
       "      <td>NaN</td>\n",
       "      <td>NaN</td>\n",
       "    </tr>\n",
       "    <tr>\n",
       "      <th>Umm al Qaywayn</th>\n",
       "      <th>United Arab Emirates</th>\n",
       "      <th>Umm al Qaywayn</th>\n",
       "      <th>290594</th>\n",
       "      <th>NaN</th>\n",
       "      <th>NaN</th>\n",
       "      <td>NaN</td>\n",
       "      <td>NaN</td>\n",
       "      <td>NaN</td>\n",
       "      <td>NaN</td>\n",
       "      <td>NaN</td>\n",
       "    </tr>\n",
       "    <tr>\n",
       "      <th>...</th>\n",
       "      <th>...</th>\n",
       "      <th>...</th>\n",
       "      <th>...</th>\n",
       "      <th>...</th>\n",
       "      <th>...</th>\n",
       "      <td>...</td>\n",
       "      <td>...</td>\n",
       "      <td>...</td>\n",
       "      <td>...</td>\n",
       "      <td>...</td>\n",
       "    </tr>\n",
       "    <tr>\n",
       "      <th>Bindura</th>\n",
       "      <th>Zimbabwe</th>\n",
       "      <th>Mashonaland Central</th>\n",
       "      <th>895061</th>\n",
       "      <th>NaN</th>\n",
       "      <th>NaN</th>\n",
       "      <td>NaN</td>\n",
       "      <td>NaN</td>\n",
       "      <td>NaN</td>\n",
       "      <td>NaN</td>\n",
       "      <td>NaN</td>\n",
       "    </tr>\n",
       "    <tr>\n",
       "      <th>Beitbridge</th>\n",
       "      <th>Zimbabwe</th>\n",
       "      <th>Matabeleland South</th>\n",
       "      <th>895269</th>\n",
       "      <th>NaN</th>\n",
       "      <th>NaN</th>\n",
       "      <td>NaN</td>\n",
       "      <td>NaN</td>\n",
       "      <td>NaN</td>\n",
       "      <td>NaN</td>\n",
       "      <td>NaN</td>\n",
       "    </tr>\n",
       "    <tr>\n",
       "      <th>Epworth</th>\n",
       "      <th>Zimbabwe</th>\n",
       "      <th>Harare</th>\n",
       "      <th>1085510</th>\n",
       "      <th>NaN</th>\n",
       "      <th>NaN</th>\n",
       "      <td>NaN</td>\n",
       "      <td>NaN</td>\n",
       "      <td>NaN</td>\n",
       "      <td>NaN</td>\n",
       "      <td>NaN</td>\n",
       "    </tr>\n",
       "    <tr>\n",
       "      <th>Chitungwiza</th>\n",
       "      <th>Zimbabwe</th>\n",
       "      <th>Harare</th>\n",
       "      <th>1106542</th>\n",
       "      <th>NaN</th>\n",
       "      <th>NaN</th>\n",
       "      <td>NaN</td>\n",
       "      <td>NaN</td>\n",
       "      <td>NaN</td>\n",
       "      <td>NaN</td>\n",
       "      <td>NaN</td>\n",
       "    </tr>\n",
       "    <tr>\n",
       "      <th>At vero eos et accusamus et iusto odio dignissimos ducimus qui blanditiis praesentium voluptatum deleniti atque corrupti quos dolores et quas molestias excepturi sint occaecati cupiditate non provident</th>\n",
       "      <th>similique sunt in culpa qui officia deserunt mollitia animi</th>\n",
       "      <th>id est laborum et dolorum fuga. Et harum quidem rerum facilis est et expedita distinctio. Nam libero tempore</th>\n",
       "      <th>cum soluta nobis est eligendi optio cumque nihil impedit quo minus id quod maxime placeat facere possimus</th>\n",
       "      <th>omnis voluptas assumenda est</th>\n",
       "      <th>omnis dolor repellendus. Temporibus autem quibusdam et aut officiis debitis aut rerum necessitatibus saepe eveniet ut et voluptates repudiandae sint et molestiae non recusandae. Itaque earum rerum hic tenetur a sapiente delectus</th>\n",
       "      <td>ut aut reiciendis voluptatibus maiores alias ...</td>\n",
       "      <td>NaN</td>\n",
       "      <td>NaN</td>\n",
       "      <td>NaN</td>\n",
       "      <td>NaN</td>\n",
       "    </tr>\n",
       "  </tbody>\n",
       "</table>\n",
       "<p>23021 rows × 5 columns</p>\n",
       "</div>"
      ],
      "text/plain": [
       "                                                                                                                                                                                                                                                                                                                              Lorem ipsum dolor sit amet  \\\n",
       "Sed ut perspiciatis unde omnis iste natus error...  totam rem aperiam                                  eaque ipsa quae ab illo inventore veritatis et...  sed quia consequuntur magni dolores eos qui ra...  qui dolorem ipsum quia dolor sit amet  consectetur                                                                           adipisci velit   \n",
       "name                                               country                                            subcountry                                         geonameid                                          NaN                                    NaN                                                                                               NaN   \n",
       "les Escaldes                                       Andorra                                            Escaldes-Engordany                                 3040051                                            NaN                                    NaN                                                                                               NaN   \n",
       "Andorra la Vella                                   Andorra                                            Andorra la Vella                                   3041563                                            NaN                                    NaN                                                                                               NaN   \n",
       "Umm al Qaywayn                                     United Arab Emirates                               Umm al Qaywayn                                     290594                                             NaN                                    NaN                                                                                               NaN   \n",
       "...                                                                                                                                                                                                                                                                                                                                                  ...   \n",
       "Bindura                                            Zimbabwe                                           Mashonaland Central                                895061                                             NaN                                    NaN                                                                                               NaN   \n",
       "Beitbridge                                         Zimbabwe                                           Matabeleland South                                 895269                                             NaN                                    NaN                                                                                               NaN   \n",
       "Epworth                                            Zimbabwe                                           Harare                                             1085510                                            NaN                                    NaN                                                                                               NaN   \n",
       "Chitungwiza                                        Zimbabwe                                           Harare                                             1106542                                            NaN                                    NaN                                                                                               NaN   \n",
       "At vero eos et accusamus et iusto odio dignissi...  similique sunt in culpa qui officia deserunt m...  id est laborum et dolorum fuga. Et harum quide...  cum soluta nobis est eligendi optio cumque nih...  omnis voluptas assumenda est           omnis dolor repellendus. Temporibus autem quib...   ut aut reiciendis voluptatibus maiores alias ...   \n",
       "\n",
       "                                                                                                                                                                                                                                                                                                                             consectetur adipiscing elit  \\\n",
       "Sed ut perspiciatis unde omnis iste natus error...  totam rem aperiam                                  eaque ipsa quae ab illo inventore veritatis et...  sed quia consequuntur magni dolores eos qui ra...  qui dolorem ipsum quia dolor sit amet  consectetur                                         sed quia non numquam eius modi tempora incidu...   \n",
       "name                                               country                                            subcountry                                         geonameid                                          NaN                                    NaN                                                                                               NaN   \n",
       "les Escaldes                                       Andorra                                            Escaldes-Engordany                                 3040051                                            NaN                                    NaN                                                                                               NaN   \n",
       "Andorra la Vella                                   Andorra                                            Andorra la Vella                                   3041563                                            NaN                                    NaN                                                                                               NaN   \n",
       "Umm al Qaywayn                                     United Arab Emirates                               Umm al Qaywayn                                     290594                                             NaN                                    NaN                                                                                               NaN   \n",
       "...                                                                                                                                                                                                                                                                                                                                                  ...   \n",
       "Bindura                                            Zimbabwe                                           Mashonaland Central                                895061                                             NaN                                    NaN                                                                                               NaN   \n",
       "Beitbridge                                         Zimbabwe                                           Matabeleland South                                 895269                                             NaN                                    NaN                                                                                               NaN   \n",
       "Epworth                                            Zimbabwe                                           Harare                                             1085510                                            NaN                                    NaN                                                                                               NaN   \n",
       "Chitungwiza                                        Zimbabwe                                           Harare                                             1106542                                            NaN                                    NaN                                                                                               NaN   \n",
       "At vero eos et accusamus et iusto odio dignissi...  similique sunt in culpa qui officia deserunt m...  id est laborum et dolorum fuga. Et harum quide...  cum soluta nobis est eligendi optio cumque nih...  omnis voluptas assumenda est           omnis dolor repellendus. Temporibus autem quib...                                                NaN   \n",
       "\n",
       "                                                                                                                                                                                                                                                                                                       sed do eiusmod tempor incididunt ut labore et dolore magna aliqua. Ut enim ad minim veniam  \\\n",
       "Sed ut perspiciatis unde omnis iste natus error...  totam rem aperiam                                  eaque ipsa quae ab illo inventore veritatis et...  sed quia consequuntur magni dolores eos qui ra...  qui dolorem ipsum quia dolor sit amet  consectetur                                         quis nostrum exercitationem ullam corporis su...                                            \n",
       "name                                               country                                            subcountry                                         geonameid                                          NaN                                    NaN                                                                                               NaN                                            \n",
       "les Escaldes                                       Andorra                                            Escaldes-Engordany                                 3040051                                            NaN                                    NaN                                                                                               NaN                                            \n",
       "Andorra la Vella                                   Andorra                                            Andorra la Vella                                   3041563                                            NaN                                    NaN                                                                                               NaN                                            \n",
       "Umm al Qaywayn                                     United Arab Emirates                               Umm al Qaywayn                                     290594                                             NaN                                    NaN                                                                                               NaN                                            \n",
       "...                                                                                                                                                                                                                                                                                                                                                  ...                                            \n",
       "Bindura                                            Zimbabwe                                           Mashonaland Central                                895061                                             NaN                                    NaN                                                                                               NaN                                            \n",
       "Beitbridge                                         Zimbabwe                                           Matabeleland South                                 895269                                             NaN                                    NaN                                                                                               NaN                                            \n",
       "Epworth                                            Zimbabwe                                           Harare                                             1085510                                            NaN                                    NaN                                                                                               NaN                                            \n",
       "Chitungwiza                                        Zimbabwe                                           Harare                                             1106542                                            NaN                                    NaN                                                                                               NaN                                            \n",
       "At vero eos et accusamus et iusto odio dignissi...  similique sunt in culpa qui officia deserunt m...  id est laborum et dolorum fuga. Et harum quide...  cum soluta nobis est eligendi optio cumque nih...  omnis voluptas assumenda est           omnis dolor repellendus. Temporibus autem quib...                                                NaN                                            \n",
       "\n",
       "                                                                                                                                                                                                                                                                                                       quis nostrud exercitation ullamco laboris nisi ut aliquip ex ea commodo consequat. Duis aute irure dolor in reprehenderit in voluptate velit esse cillum dolore eu fugiat nulla pariatur. Excepteur sint occaecat cupidatat non proident  \\\n",
       "Sed ut perspiciatis unde omnis iste natus error...  totam rem aperiam                                  eaque ipsa quae ab illo inventore veritatis et...  sed quia consequuntur magni dolores eos qui ra...  qui dolorem ipsum quia dolor sit amet  consectetur                                         nisi ut aliquid ex ea commodi consequatur? Qu...                                                                                                                                                                                          \n",
       "name                                               country                                            subcountry                                         geonameid                                          NaN                                    NaN                                                                                               NaN                                                                                                                                                                                          \n",
       "les Escaldes                                       Andorra                                            Escaldes-Engordany                                 3040051                                            NaN                                    NaN                                                                                               NaN                                                                                                                                                                                          \n",
       "Andorra la Vella                                   Andorra                                            Andorra la Vella                                   3041563                                            NaN                                    NaN                                                                                               NaN                                                                                                                                                                                          \n",
       "Umm al Qaywayn                                     United Arab Emirates                               Umm al Qaywayn                                     290594                                             NaN                                    NaN                                                                                               NaN                                                                                                                                                                                          \n",
       "...                                                                                                                                                                                                                                                                                                                                                  ...                                                                                                                                                                                          \n",
       "Bindura                                            Zimbabwe                                           Mashonaland Central                                895061                                             NaN                                    NaN                                                                                               NaN                                                                                                                                                                                          \n",
       "Beitbridge                                         Zimbabwe                                           Matabeleland South                                 895269                                             NaN                                    NaN                                                                                               NaN                                                                                                                                                                                          \n",
       "Epworth                                            Zimbabwe                                           Harare                                             1085510                                            NaN                                    NaN                                                                                               NaN                                                                                                                                                                                          \n",
       "Chitungwiza                                        Zimbabwe                                           Harare                                             1106542                                            NaN                                    NaN                                                                                               NaN                                                                                                                                                                                          \n",
       "At vero eos et accusamus et iusto odio dignissi...  similique sunt in culpa qui officia deserunt m...  id est laborum et dolorum fuga. Et harum quide...  cum soluta nobis est eligendi optio cumque nih...  omnis voluptas assumenda est           omnis dolor repellendus. Temporibus autem quib...                                                NaN                                                                                                                                                                                          \n",
       "\n",
       "                                                                                                                                                                                                                                                                                                       sunt in culpa qui officia deserunt mollit anim id est laborum.  \n",
       "Sed ut perspiciatis unde omnis iste natus error...  totam rem aperiam                                  eaque ipsa quae ab illo inventore veritatis et...  sed quia consequuntur magni dolores eos qui ra...  qui dolorem ipsum quia dolor sit amet  consectetur                                         vel illum qui dolorem eum fugiat quo voluptas...               \n",
       "name                                               country                                            subcountry                                         geonameid                                          NaN                                    NaN                                                                                               NaN               \n",
       "les Escaldes                                       Andorra                                            Escaldes-Engordany                                 3040051                                            NaN                                    NaN                                                                                               NaN               \n",
       "Andorra la Vella                                   Andorra                                            Andorra la Vella                                   3041563                                            NaN                                    NaN                                                                                               NaN               \n",
       "Umm al Qaywayn                                     United Arab Emirates                               Umm al Qaywayn                                     290594                                             NaN                                    NaN                                                                                               NaN               \n",
       "...                                                                                                                                                                                                                                                                                                                                                  ...               \n",
       "Bindura                                            Zimbabwe                                           Mashonaland Central                                895061                                             NaN                                    NaN                                                                                               NaN               \n",
       "Beitbridge                                         Zimbabwe                                           Matabeleland South                                 895269                                             NaN                                    NaN                                                                                               NaN               \n",
       "Epworth                                            Zimbabwe                                           Harare                                             1085510                                            NaN                                    NaN                                                                                               NaN               \n",
       "Chitungwiza                                        Zimbabwe                                           Harare                                             1106542                                            NaN                                    NaN                                                                                               NaN               \n",
       "At vero eos et accusamus et iusto odio dignissi...  similique sunt in culpa qui officia deserunt m...  id est laborum et dolorum fuga. Et harum quide...  cum soluta nobis est eligendi optio cumque nih...  omnis voluptas assumenda est           omnis dolor repellendus. Temporibus autem quib...                                                NaN               \n",
       "\n",
       "[23021 rows x 5 columns]"
      ]
     },
     "execution_count": 64,
     "metadata": {},
     "output_type": "execute_result"
    }
   ],
   "source": [
    "chemin3 = \"Https://bit.ly/world-cities-dirty-v2\"\n",
    "data3 = pd.read_csv(chemin3)\n",
    "data3"
   ]
  },
  {
   "cell_type": "markdown",
   "metadata": {},
   "source": [
    "on a un lorem ipsum en nom de colonnes et en premiere et derniere ligne"
   ]
  },
  {
   "cell_type": "code",
   "execution_count": 65,
   "metadata": {},
   "outputs": [
    {
     "name": "stderr",
     "output_type": "stream",
     "text": [
      "<ipython-input-65-d838235c124e>:2: ParserWarning: Falling back to the 'python' engine because the 'c' engine does not support skipfooter; you can avoid this warning by specifying engine='python'.\n",
      "  data3 = pd.read_csv(chemin3,skiprows=2,skipfooter=1)\n"
     ]
    },
    {
     "data": {
      "text/html": [
       "<div>\n",
       "<style scoped>\n",
       "    .dataframe tbody tr th:only-of-type {\n",
       "        vertical-align: middle;\n",
       "    }\n",
       "\n",
       "    .dataframe tbody tr th {\n",
       "        vertical-align: top;\n",
       "    }\n",
       "\n",
       "    .dataframe thead th {\n",
       "        text-align: right;\n",
       "    }\n",
       "</style>\n",
       "<table border=\"1\" class=\"dataframe\">\n",
       "  <thead>\n",
       "    <tr style=\"text-align: right;\">\n",
       "      <th></th>\n",
       "      <th>name</th>\n",
       "      <th>country</th>\n",
       "      <th>subcountry</th>\n",
       "      <th>geonameid</th>\n",
       "    </tr>\n",
       "  </thead>\n",
       "  <tbody>\n",
       "    <tr>\n",
       "      <th>0</th>\n",
       "      <td>les Escaldes</td>\n",
       "      <td>Andorra</td>\n",
       "      <td>Escaldes-Engordany</td>\n",
       "      <td>3040051</td>\n",
       "    </tr>\n",
       "    <tr>\n",
       "      <th>1</th>\n",
       "      <td>Andorra la Vella</td>\n",
       "      <td>Andorra</td>\n",
       "      <td>Andorra la Vella</td>\n",
       "      <td>3041563</td>\n",
       "    </tr>\n",
       "    <tr>\n",
       "      <th>2</th>\n",
       "      <td>Umm al Qaywayn</td>\n",
       "      <td>United Arab Emirates</td>\n",
       "      <td>Umm al Qaywayn</td>\n",
       "      <td>290594</td>\n",
       "    </tr>\n",
       "    <tr>\n",
       "      <th>3</th>\n",
       "      <td>Ras al-Khaimah</td>\n",
       "      <td>United Arab Emirates</td>\n",
       "      <td>Raʼs al Khaymah</td>\n",
       "      <td>291074</td>\n",
       "    </tr>\n",
       "    <tr>\n",
       "      <th>4</th>\n",
       "      <td>Khawr Fakkān</td>\n",
       "      <td>United Arab Emirates</td>\n",
       "      <td>Ash Shāriqah</td>\n",
       "      <td>291696</td>\n",
       "    </tr>\n",
       "    <tr>\n",
       "      <th>...</th>\n",
       "      <td>...</td>\n",
       "      <td>...</td>\n",
       "      <td>...</td>\n",
       "      <td>...</td>\n",
       "    </tr>\n",
       "    <tr>\n",
       "      <th>23013</th>\n",
       "      <td>Bulawayo</td>\n",
       "      <td>Zimbabwe</td>\n",
       "      <td>Bulawayo</td>\n",
       "      <td>894701</td>\n",
       "    </tr>\n",
       "    <tr>\n",
       "      <th>23014</th>\n",
       "      <td>Bindura</td>\n",
       "      <td>Zimbabwe</td>\n",
       "      <td>Mashonaland Central</td>\n",
       "      <td>895061</td>\n",
       "    </tr>\n",
       "    <tr>\n",
       "      <th>23015</th>\n",
       "      <td>Beitbridge</td>\n",
       "      <td>Zimbabwe</td>\n",
       "      <td>Matabeleland South</td>\n",
       "      <td>895269</td>\n",
       "    </tr>\n",
       "    <tr>\n",
       "      <th>23016</th>\n",
       "      <td>Epworth</td>\n",
       "      <td>Zimbabwe</td>\n",
       "      <td>Harare</td>\n",
       "      <td>1085510</td>\n",
       "    </tr>\n",
       "    <tr>\n",
       "      <th>23017</th>\n",
       "      <td>Chitungwiza</td>\n",
       "      <td>Zimbabwe</td>\n",
       "      <td>Harare</td>\n",
       "      <td>1106542</td>\n",
       "    </tr>\n",
       "  </tbody>\n",
       "</table>\n",
       "<p>23018 rows × 4 columns</p>\n",
       "</div>"
      ],
      "text/plain": [
       "                   name               country           subcountry  geonameid\n",
       "0          les Escaldes               Andorra   Escaldes-Engordany    3040051\n",
       "1      Andorra la Vella               Andorra     Andorra la Vella    3041563\n",
       "2        Umm al Qaywayn  United Arab Emirates       Umm al Qaywayn     290594\n",
       "3        Ras al-Khaimah  United Arab Emirates      Raʼs al Khaymah     291074\n",
       "4          Khawr Fakkān  United Arab Emirates         Ash Shāriqah     291696\n",
       "...                 ...                   ...                  ...        ...\n",
       "23013          Bulawayo              Zimbabwe             Bulawayo     894701\n",
       "23014           Bindura              Zimbabwe  Mashonaland Central     895061\n",
       "23015        Beitbridge              Zimbabwe   Matabeleland South     895269\n",
       "23016           Epworth              Zimbabwe               Harare    1085510\n",
       "23017       Chitungwiza              Zimbabwe               Harare    1106542\n",
       "\n",
       "[23018 rows x 4 columns]"
      ]
     },
     "execution_count": 65,
     "metadata": {},
     "output_type": "execute_result"
    }
   ],
   "source": [
    "chemin3 = \"Https://bit.ly/world-cities-dirty-v2\"\n",
    "data3 = pd.read_csv(chemin3,skiprows=2,skipfooter=1)\n",
    "data3"
   ]
  },
  {
   "cell_type": "markdown",
   "metadata": {},
   "source": [
    "si on a un probleme d'encodage il faut rajouter ,encode='utf-8' au read csv"
   ]
  },
  {
   "cell_type": "markdown",
   "metadata": {},
   "source": [
    "## exo 4 separation difficile"
   ]
  },
  {
   "cell_type": "code",
   "execution_count": 80,
   "metadata": {
    "scrolled": true
   },
   "outputs": [
    {
     "data": {
      "text/html": [
       "<div>\n",
       "<style scoped>\n",
       "    .dataframe tbody tr th:only-of-type {\n",
       "        vertical-align: middle;\n",
       "    }\n",
       "\n",
       "    .dataframe tbody tr th {\n",
       "        vertical-align: top;\n",
       "    }\n",
       "\n",
       "    .dataframe thead th {\n",
       "        text-align: right;\n",
       "    }\n",
       "</style>\n",
       "<table border=\"1\" class=\"dataframe\">\n",
       "  <thead>\n",
       "    <tr style=\"text-align: right;\">\n",
       "      <th></th>\n",
       "      <th>les Escaldes|Andorra|Escaldes-Engordany|3040051</th>\n",
       "    </tr>\n",
       "  </thead>\n",
       "  <tbody>\n",
       "    <tr>\n",
       "      <th>0</th>\n",
       "      <td>Andorra la Vella|Andorra|Andorra la Vella|3041563</td>\n",
       "    </tr>\n",
       "    <tr>\n",
       "      <th>1</th>\n",
       "      <td>Umm al Qaywayn|United Arab Emirates|Umm al Qay...</td>\n",
       "    </tr>\n",
       "    <tr>\n",
       "      <th>2</th>\n",
       "      <td>Ras al-Khaimah|United Arab Emirates|Raʼs al Kh...</td>\n",
       "    </tr>\n",
       "    <tr>\n",
       "      <th>3</th>\n",
       "      <td>Khawr Fakkān|United Arab Emirates|Ash Shāriqah...</td>\n",
       "    </tr>\n",
       "    <tr>\n",
       "      <th>4</th>\n",
       "      <td>Dubai|United Arab Emirates|Dubai|292223</td>\n",
       "    </tr>\n",
       "  </tbody>\n",
       "</table>\n",
       "</div>"
      ],
      "text/plain": [
       "     les Escaldes|Andorra|Escaldes-Engordany|3040051\n",
       "0  Andorra la Vella|Andorra|Andorra la Vella|3041563\n",
       "1  Umm al Qaywayn|United Arab Emirates|Umm al Qay...\n",
       "2  Ras al-Khaimah|United Arab Emirates|Raʼs al Kh...\n",
       "3  Khawr Fakkān|United Arab Emirates|Ash Shāriqah...\n",
       "4            Dubai|United Arab Emirates|Dubai|292223"
      ]
     },
     "execution_count": 80,
     "metadata": {},
     "output_type": "execute_result"
    }
   ],
   "source": [
    "chemin4 = \"Https://bit.ly/world-cities-dirty-v3\"\n",
    "data4 = pd.read_csv(chemin4)\n",
    "data4.head()"
   ]
  },
  {
   "cell_type": "code",
   "execution_count": 81,
   "metadata": {},
   "outputs": [
    {
     "data": {
      "text/html": [
       "<div>\n",
       "<style scoped>\n",
       "    .dataframe tbody tr th:only-of-type {\n",
       "        vertical-align: middle;\n",
       "    }\n",
       "\n",
       "    .dataframe tbody tr th {\n",
       "        vertical-align: top;\n",
       "    }\n",
       "\n",
       "    .dataframe thead th {\n",
       "        text-align: right;\n",
       "    }\n",
       "</style>\n",
       "<table border=\"1\" class=\"dataframe\">\n",
       "  <thead>\n",
       "    <tr style=\"text-align: right;\">\n",
       "      <th></th>\n",
       "      <th>les Escaldes|Andorra|Escaldes-Engordany|3040051</th>\n",
       "    </tr>\n",
       "  </thead>\n",
       "  <tbody>\n",
       "    <tr>\n",
       "      <th>23012</th>\n",
       "      <td>Bulawayo|Zimbabwe|Bulawayo|894701</td>\n",
       "    </tr>\n",
       "    <tr>\n",
       "      <th>23013</th>\n",
       "      <td>Bindura|Zimbabwe|Mashonaland Central|895061</td>\n",
       "    </tr>\n",
       "    <tr>\n",
       "      <th>23014</th>\n",
       "      <td>Beitbridge|Zimbabwe|Matabeleland South|895269</td>\n",
       "    </tr>\n",
       "    <tr>\n",
       "      <th>23015</th>\n",
       "      <td>Epworth|Zimbabwe|Harare|1085510</td>\n",
       "    </tr>\n",
       "    <tr>\n",
       "      <th>23016</th>\n",
       "      <td>Chitungwiza|Zimbabwe|Harare|1106542</td>\n",
       "    </tr>\n",
       "  </tbody>\n",
       "</table>\n",
       "</div>"
      ],
      "text/plain": [
       "      les Escaldes|Andorra|Escaldes-Engordany|3040051\n",
       "23012               Bulawayo|Zimbabwe|Bulawayo|894701\n",
       "23013     Bindura|Zimbabwe|Mashonaland Central|895061\n",
       "23014   Beitbridge|Zimbabwe|Matabeleland South|895269\n",
       "23015                 Epworth|Zimbabwe|Harare|1085510\n",
       "23016             Chitungwiza|Zimbabwe|Harare|1106542"
      ]
     },
     "execution_count": 81,
     "metadata": {},
     "output_type": "execute_result"
    }
   ],
   "source": [
    "data4.tail()"
   ]
  },
  {
   "cell_type": "markdown",
   "metadata": {},
   "source": [
    "ici on a un probleme ou au lieu d'avoir des , pour delimiter on a des | et y a pas de nom de colonnes"
   ]
  },
  {
   "cell_type": "code",
   "execution_count": 76,
   "metadata": {
    "scrolled": true
   },
   "outputs": [
    {
     "data": {
      "text/html": [
       "<div>\n",
       "<style scoped>\n",
       "    .dataframe tbody tr th:only-of-type {\n",
       "        vertical-align: middle;\n",
       "    }\n",
       "\n",
       "    .dataframe tbody tr th {\n",
       "        vertical-align: top;\n",
       "    }\n",
       "\n",
       "    .dataframe thead th {\n",
       "        text-align: right;\n",
       "    }\n",
       "</style>\n",
       "<table border=\"1\" class=\"dataframe\">\n",
       "  <thead>\n",
       "    <tr style=\"text-align: right;\">\n",
       "      <th></th>\n",
       "      <th>name</th>\n",
       "      <th>country</th>\n",
       "      <th>subcountry</th>\n",
       "      <th>geonameid</th>\n",
       "    </tr>\n",
       "  </thead>\n",
       "  <tbody>\n",
       "    <tr>\n",
       "      <th>0</th>\n",
       "      <td>les Escaldes</td>\n",
       "      <td>Andorra</td>\n",
       "      <td>Escaldes-Engordany</td>\n",
       "      <td>3040051</td>\n",
       "    </tr>\n",
       "    <tr>\n",
       "      <th>1</th>\n",
       "      <td>Andorra la Vella</td>\n",
       "      <td>Andorra</td>\n",
       "      <td>Andorra la Vella</td>\n",
       "      <td>3041563</td>\n",
       "    </tr>\n",
       "    <tr>\n",
       "      <th>2</th>\n",
       "      <td>Umm al Qaywayn</td>\n",
       "      <td>United Arab Emirates</td>\n",
       "      <td>Umm al Qaywayn</td>\n",
       "      <td>290594</td>\n",
       "    </tr>\n",
       "    <tr>\n",
       "      <th>3</th>\n",
       "      <td>Ras al-Khaimah</td>\n",
       "      <td>United Arab Emirates</td>\n",
       "      <td>Raʼs al Khaymah</td>\n",
       "      <td>291074</td>\n",
       "    </tr>\n",
       "    <tr>\n",
       "      <th>4</th>\n",
       "      <td>Khawr Fakkān</td>\n",
       "      <td>United Arab Emirates</td>\n",
       "      <td>Ash Shāriqah</td>\n",
       "      <td>291696</td>\n",
       "    </tr>\n",
       "  </tbody>\n",
       "</table>\n",
       "</div>"
      ],
      "text/plain": [
       "               name               country          subcountry  geonameid\n",
       "0      les Escaldes               Andorra  Escaldes-Engordany    3040051\n",
       "1  Andorra la Vella               Andorra    Andorra la Vella    3041563\n",
       "2    Umm al Qaywayn  United Arab Emirates      Umm al Qaywayn     290594\n",
       "3    Ras al-Khaimah  United Arab Emirates     Raʼs al Khaymah     291074\n",
       "4      Khawr Fakkān  United Arab Emirates        Ash Shāriqah     291696"
      ]
     },
     "execution_count": 76,
     "metadata": {},
     "output_type": "execute_result"
    }
   ],
   "source": [
    "chemin4 = \"Https://bit.ly/world-cities-dirty-v3\"\n",
    "data4 = pd.read_csv(chemin4, delimiter='|',names=['name','country','subcountry','geonameid'])\n",
    "data4.head()"
   ]
  },
  {
   "cell_type": "code",
   "execution_count": 77,
   "metadata": {},
   "outputs": [
    {
     "data": {
      "text/html": [
       "<div>\n",
       "<style scoped>\n",
       "    .dataframe tbody tr th:only-of-type {\n",
       "        vertical-align: middle;\n",
       "    }\n",
       "\n",
       "    .dataframe tbody tr th {\n",
       "        vertical-align: top;\n",
       "    }\n",
       "\n",
       "    .dataframe thead th {\n",
       "        text-align: right;\n",
       "    }\n",
       "</style>\n",
       "<table border=\"1\" class=\"dataframe\">\n",
       "  <thead>\n",
       "    <tr style=\"text-align: right;\">\n",
       "      <th></th>\n",
       "      <th>name</th>\n",
       "      <th>country</th>\n",
       "      <th>subcountry</th>\n",
       "      <th>geonameid</th>\n",
       "    </tr>\n",
       "  </thead>\n",
       "  <tbody>\n",
       "    <tr>\n",
       "      <th>23013</th>\n",
       "      <td>Bulawayo</td>\n",
       "      <td>Zimbabwe</td>\n",
       "      <td>Bulawayo</td>\n",
       "      <td>894701</td>\n",
       "    </tr>\n",
       "    <tr>\n",
       "      <th>23014</th>\n",
       "      <td>Bindura</td>\n",
       "      <td>Zimbabwe</td>\n",
       "      <td>Mashonaland Central</td>\n",
       "      <td>895061</td>\n",
       "    </tr>\n",
       "    <tr>\n",
       "      <th>23015</th>\n",
       "      <td>Beitbridge</td>\n",
       "      <td>Zimbabwe</td>\n",
       "      <td>Matabeleland South</td>\n",
       "      <td>895269</td>\n",
       "    </tr>\n",
       "    <tr>\n",
       "      <th>23016</th>\n",
       "      <td>Epworth</td>\n",
       "      <td>Zimbabwe</td>\n",
       "      <td>Harare</td>\n",
       "      <td>1085510</td>\n",
       "    </tr>\n",
       "    <tr>\n",
       "      <th>23017</th>\n",
       "      <td>Chitungwiza</td>\n",
       "      <td>Zimbabwe</td>\n",
       "      <td>Harare</td>\n",
       "      <td>1106542</td>\n",
       "    </tr>\n",
       "  </tbody>\n",
       "</table>\n",
       "</div>"
      ],
      "text/plain": [
       "              name   country           subcountry  geonameid\n",
       "23013     Bulawayo  Zimbabwe             Bulawayo     894701\n",
       "23014      Bindura  Zimbabwe  Mashonaland Central     895061\n",
       "23015   Beitbridge  Zimbabwe   Matabeleland South     895269\n",
       "23016      Epworth  Zimbabwe               Harare    1085510\n",
       "23017  Chitungwiza  Zimbabwe               Harare    1106542"
      ]
     },
     "execution_count": 77,
     "metadata": {},
     "output_type": "execute_result"
    }
   ],
   "source": [
    "data4.tail()"
   ]
  },
  {
   "cell_type": "markdown",
   "metadata": {},
   "source": [
    "on a demande a modifier quel est le delimiteur plutot que de le remplacer pour des raisons pratiques, sinon il faudrait remodifier le fichier a chaque mise a jour de ce dernier. et on a rajoute l'en tete"
   ]
  },
  {
   "cell_type": "markdown",
   "metadata": {},
   "source": [
    "## les bons conseils du professeur"
   ]
  },
  {
   "cell_type": "markdown",
   "metadata": {},
   "source": [
    "apres avoir importe et stocke un csv :<br/><br/>\n",
    "<strong>df.shape</strong> pour regarder le nombres de ligne et de colonnes<br/>\n",
    "<strong>df.dtypes</strong> pour regarder le nom des colonnes et leur type d'un seul coup (j'en profite pour repérer d'éventuel conversion de types qu'il faudra effectuer)<br/>\n",
    "<strong>df.head()</strong> pour regarder à quoi ressemble les premières lignes du dataset.<br/>\n",
    "<strong>df.tail()</strong> pour regarder les dernières lignes du dataset. J'en profite pour comparer le résultat de head avec celui de tail, y-a-t'il une quelconque différence? Parfois les anomalies sont rangées à la fin du dataset.<br/>\n",
    "<strong>df.isna().sum()</strong> pour vérifier la présence de valeurs manquantes par colonnes.<br/>"
   ]
  },
  {
   "cell_type": "code",
   "execution_count": 85,
   "metadata": {},
   "outputs": [],
   "source": [
    "cheminex=\"https://bit.ly/bitcoin-data\"\n",
    "dataex=pd.read_csv(cheminex)"
   ]
  },
  {
   "cell_type": "code",
   "execution_count": 86,
   "metadata": {},
   "outputs": [
    {
     "data": {
      "text/plain": [
       "(33, 7)"
      ]
     },
     "execution_count": 86,
     "metadata": {},
     "output_type": "execute_result"
    }
   ],
   "source": [
    "dataex.shape"
   ]
  },
  {
   "cell_type": "code",
   "execution_count": 87,
   "metadata": {},
   "outputs": [
    {
     "data": {
      "text/plain": [
       "Date           object\n",
       "Open*         float64\n",
       "High          float64\n",
       "Low           float64\n",
       "Close**       float64\n",
       "Volume        float64\n",
       "Market Cap    float64\n",
       "dtype: object"
      ]
     },
     "execution_count": 87,
     "metadata": {},
     "output_type": "execute_result"
    }
   ],
   "source": [
    "dataex.dtypes"
   ]
  },
  {
   "cell_type": "code",
   "execution_count": 88,
   "metadata": {},
   "outputs": [
    {
     "data": {
      "text/html": [
       "<div>\n",
       "<style scoped>\n",
       "    .dataframe tbody tr th:only-of-type {\n",
       "        vertical-align: middle;\n",
       "    }\n",
       "\n",
       "    .dataframe tbody tr th {\n",
       "        vertical-align: top;\n",
       "    }\n",
       "\n",
       "    .dataframe thead th {\n",
       "        text-align: right;\n",
       "    }\n",
       "</style>\n",
       "<table border=\"1\" class=\"dataframe\">\n",
       "  <thead>\n",
       "    <tr style=\"text-align: right;\">\n",
       "      <th></th>\n",
       "      <th>Date</th>\n",
       "      <th>Open*</th>\n",
       "      <th>High</th>\n",
       "      <th>Low</th>\n",
       "      <th>Close**</th>\n",
       "      <th>Volume</th>\n",
       "      <th>Market Cap</th>\n",
       "    </tr>\n",
       "  </thead>\n",
       "  <tbody>\n",
       "    <tr>\n",
       "      <th>0</th>\n",
       "      <td>Jan 14 2020</td>\n",
       "      <td>8140.93</td>\n",
       "      <td>8879.51</td>\n",
       "      <td>8140.93</td>\n",
       "      <td>8827.76</td>\n",
       "      <td>4.484178e+10</td>\n",
       "      <td>1.603195e+11</td>\n",
       "    </tr>\n",
       "    <tr>\n",
       "      <th>1</th>\n",
       "      <td>Jan 13 2020</td>\n",
       "      <td>8189.77</td>\n",
       "      <td>8197.79</td>\n",
       "      <td>8079.70</td>\n",
       "      <td>8144.19</td>\n",
       "      <td>2.248291e+10</td>\n",
       "      <td>1.478905e+11</td>\n",
       "    </tr>\n",
       "    <tr>\n",
       "      <th>2</th>\n",
       "      <td>Jan 12 2020</td>\n",
       "      <td>8033.26</td>\n",
       "      <td>8200.06</td>\n",
       "      <td>8009.06</td>\n",
       "      <td>8192.49</td>\n",
       "      <td>2.290344e+10</td>\n",
       "      <td>1.487530e+11</td>\n",
       "    </tr>\n",
       "    <tr>\n",
       "      <th>3</th>\n",
       "      <td>Jan 11 2020</td>\n",
       "      <td>8162.19</td>\n",
       "      <td>8218.36</td>\n",
       "      <td>8029.64</td>\n",
       "      <td>8037.54</td>\n",
       "      <td>2.552117e+10</td>\n",
       "      <td>1.459242e+11</td>\n",
       "    </tr>\n",
       "    <tr>\n",
       "      <th>4</th>\n",
       "      <td>Jan 10 2020</td>\n",
       "      <td>7878.31</td>\n",
       "      <td>8166.55</td>\n",
       "      <td>7726.77</td>\n",
       "      <td>8166.55</td>\n",
       "      <td>2.871458e+10</td>\n",
       "      <td>1.482499e+11</td>\n",
       "    </tr>\n",
       "  </tbody>\n",
       "</table>\n",
       "</div>"
      ],
      "text/plain": [
       "          Date    Open*     High      Low  Close**        Volume    Market Cap\n",
       "0  Jan 14 2020  8140.93  8879.51  8140.93  8827.76  4.484178e+10  1.603195e+11\n",
       "1  Jan 13 2020  8189.77  8197.79  8079.70  8144.19  2.248291e+10  1.478905e+11\n",
       "2  Jan 12 2020  8033.26  8200.06  8009.06  8192.49  2.290344e+10  1.487530e+11\n",
       "3  Jan 11 2020  8162.19  8218.36  8029.64  8037.54  2.552117e+10  1.459242e+11\n",
       "4  Jan 10 2020  7878.31  8166.55  7726.77  8166.55  2.871458e+10  1.482499e+11"
      ]
     },
     "execution_count": 88,
     "metadata": {},
     "output_type": "execute_result"
    }
   ],
   "source": [
    "dataex.head()"
   ]
  },
  {
   "cell_type": "code",
   "execution_count": 89,
   "metadata": {},
   "outputs": [
    {
     "data": {
      "text/html": [
       "<div>\n",
       "<style scoped>\n",
       "    .dataframe tbody tr th:only-of-type {\n",
       "        vertical-align: middle;\n",
       "    }\n",
       "\n",
       "    .dataframe tbody tr th {\n",
       "        vertical-align: top;\n",
       "    }\n",
       "\n",
       "    .dataframe thead th {\n",
       "        text-align: right;\n",
       "    }\n",
       "</style>\n",
       "<table border=\"1\" class=\"dataframe\">\n",
       "  <thead>\n",
       "    <tr style=\"text-align: right;\">\n",
       "      <th></th>\n",
       "      <th>Date</th>\n",
       "      <th>Open*</th>\n",
       "      <th>High</th>\n",
       "      <th>Low</th>\n",
       "      <th>Close**</th>\n",
       "      <th>Volume</th>\n",
       "      <th>Market Cap</th>\n",
       "    </tr>\n",
       "  </thead>\n",
       "  <tbody>\n",
       "    <tr>\n",
       "      <th>28</th>\n",
       "      <td>Dec 17 2019</td>\n",
       "      <td>6931.32</td>\n",
       "      <td>6964.07</td>\n",
       "      <td>6587.97</td>\n",
       "      <td>6640.52</td>\n",
       "      <td>2.236380e+10</td>\n",
       "      <td>1.202342e+11</td>\n",
       "    </tr>\n",
       "    <tr>\n",
       "      <th>29</th>\n",
       "      <td>Dec 16 2019</td>\n",
       "      <td>7153.66</td>\n",
       "      <td>7171.17</td>\n",
       "      <td>6903.68</td>\n",
       "      <td>6932.48</td>\n",
       "      <td>2.021327e+10</td>\n",
       "      <td>1.255156e+11</td>\n",
       "    </tr>\n",
       "    <tr>\n",
       "      <th>30</th>\n",
       "      <td>Dec 15 2019</td>\n",
       "      <td>7124.24</td>\n",
       "      <td>7181.08</td>\n",
       "      <td>6924.38</td>\n",
       "      <td>7152.30</td>\n",
       "      <td>1.688113e+10</td>\n",
       "      <td>1.294814e+11</td>\n",
       "    </tr>\n",
       "    <tr>\n",
       "      <th>31</th>\n",
       "      <td>* Earliest data in range (UTC time)</td>\n",
       "      <td>NaN</td>\n",
       "      <td>NaN</td>\n",
       "      <td>NaN</td>\n",
       "      <td>NaN</td>\n",
       "      <td>NaN</td>\n",
       "      <td>NaN</td>\n",
       "    </tr>\n",
       "    <tr>\n",
       "      <th>32</th>\n",
       "      <td>** Latest data in range (UTC time)</td>\n",
       "      <td>NaN</td>\n",
       "      <td>NaN</td>\n",
       "      <td>NaN</td>\n",
       "      <td>NaN</td>\n",
       "      <td>NaN</td>\n",
       "      <td>NaN</td>\n",
       "    </tr>\n",
       "  </tbody>\n",
       "</table>\n",
       "</div>"
      ],
      "text/plain": [
       "                                   Date    Open*     High      Low  Close**  \\\n",
       "28                          Dec 17 2019  6931.32  6964.07  6587.97  6640.52   \n",
       "29                          Dec 16 2019  7153.66  7171.17  6903.68  6932.48   \n",
       "30                          Dec 15 2019  7124.24  7181.08  6924.38  7152.30   \n",
       "31  * Earliest data in range (UTC time)      NaN      NaN      NaN      NaN   \n",
       "32   ** Latest data in range (UTC time)      NaN      NaN      NaN      NaN   \n",
       "\n",
       "          Volume    Market Cap  \n",
       "28  2.236380e+10  1.202342e+11  \n",
       "29  2.021327e+10  1.255156e+11  \n",
       "30  1.688113e+10  1.294814e+11  \n",
       "31           NaN           NaN  \n",
       "32           NaN           NaN  "
      ]
     },
     "execution_count": 89,
     "metadata": {},
     "output_type": "execute_result"
    }
   ],
   "source": [
    "dataex.tail()"
   ]
  },
  {
   "cell_type": "code",
   "execution_count": 90,
   "metadata": {},
   "outputs": [
    {
     "data": {
      "text/plain": [
       "Date          0\n",
       "Open*         2\n",
       "High          2\n",
       "Low           2\n",
       "Close**       2\n",
       "Volume        2\n",
       "Market Cap    2\n",
       "dtype: int64"
      ]
     },
     "execution_count": 90,
     "metadata": {},
     "output_type": "execute_result"
    }
   ],
   "source": [
    "dataex.isna().sum()"
   ]
  },
  {
   "cell_type": "markdown",
   "metadata": {},
   "source": [
    "on constate qu'il y a un probleme qu'on doit regler"
   ]
  },
  {
   "cell_type": "code",
   "execution_count": 122,
   "metadata": {},
   "outputs": [
    {
     "name": "stderr",
     "output_type": "stream",
     "text": [
      "<ipython-input-122-9a974c9a3621>:1: ParserWarning: Falling back to the 'python' engine because the 'c' engine does not support skipfooter; you can avoid this warning by specifying engine='python'.\n",
      "  dataex=pd.read_csv(cheminex,skipfooter=2)\n"
     ]
    }
   ],
   "source": [
    "dataex=pd.read_csv(cheminex,skipfooter=2)"
   ]
  },
  {
   "cell_type": "markdown",
   "metadata": {},
   "source": [
    "la les tests donneront des resultats plus pertinents car probleme corrige"
   ]
  },
  {
   "cell_type": "code",
   "execution_count": 92,
   "metadata": {},
   "outputs": [
    {
     "data": {
      "text/plain": [
       "(31, 7)"
      ]
     },
     "execution_count": 92,
     "metadata": {},
     "output_type": "execute_result"
    }
   ],
   "source": [
    "dataex.shape"
   ]
  },
  {
   "cell_type": "code",
   "execution_count": 94,
   "metadata": {
    "scrolled": true
   },
   "outputs": [
    {
     "data": {
      "text/plain": [
       "Date           object\n",
       "Open*         float64\n",
       "High          float64\n",
       "Low           float64\n",
       "Close**       float64\n",
       "Volume          int64\n",
       "Market Cap      int64\n",
       "dtype: object"
      ]
     },
     "execution_count": 94,
     "metadata": {},
     "output_type": "execute_result"
    }
   ],
   "source": [
    "dataex.dtypes"
   ]
  },
  {
   "cell_type": "code",
   "execution_count": 95,
   "metadata": {},
   "outputs": [
    {
     "data": {
      "text/html": [
       "<div>\n",
       "<style scoped>\n",
       "    .dataframe tbody tr th:only-of-type {\n",
       "        vertical-align: middle;\n",
       "    }\n",
       "\n",
       "    .dataframe tbody tr th {\n",
       "        vertical-align: top;\n",
       "    }\n",
       "\n",
       "    .dataframe thead th {\n",
       "        text-align: right;\n",
       "    }\n",
       "</style>\n",
       "<table border=\"1\" class=\"dataframe\">\n",
       "  <thead>\n",
       "    <tr style=\"text-align: right;\">\n",
       "      <th></th>\n",
       "      <th>Date</th>\n",
       "      <th>Open*</th>\n",
       "      <th>High</th>\n",
       "      <th>Low</th>\n",
       "      <th>Close**</th>\n",
       "      <th>Volume</th>\n",
       "      <th>Market Cap</th>\n",
       "    </tr>\n",
       "  </thead>\n",
       "  <tbody>\n",
       "    <tr>\n",
       "      <th>0</th>\n",
       "      <td>Jan 14 2020</td>\n",
       "      <td>8140.93</td>\n",
       "      <td>8879.51</td>\n",
       "      <td>8140.93</td>\n",
       "      <td>8827.76</td>\n",
       "      <td>44841784107</td>\n",
       "      <td>160319484883</td>\n",
       "    </tr>\n",
       "    <tr>\n",
       "      <th>1</th>\n",
       "      <td>Jan 13 2020</td>\n",
       "      <td>8189.77</td>\n",
       "      <td>8197.79</td>\n",
       "      <td>8079.70</td>\n",
       "      <td>8144.19</td>\n",
       "      <td>22482910688</td>\n",
       "      <td>147890525973</td>\n",
       "    </tr>\n",
       "    <tr>\n",
       "      <th>2</th>\n",
       "      <td>Jan 12 2020</td>\n",
       "      <td>8033.26</td>\n",
       "      <td>8200.06</td>\n",
       "      <td>8009.06</td>\n",
       "      <td>8192.49</td>\n",
       "      <td>22903438381</td>\n",
       "      <td>148752956966</td>\n",
       "    </tr>\n",
       "    <tr>\n",
       "      <th>3</th>\n",
       "      <td>Jan 11 2020</td>\n",
       "      <td>8162.19</td>\n",
       "      <td>8218.36</td>\n",
       "      <td>8029.64</td>\n",
       "      <td>8037.54</td>\n",
       "      <td>25521165085</td>\n",
       "      <td>145924199942</td>\n",
       "    </tr>\n",
       "    <tr>\n",
       "      <th>4</th>\n",
       "      <td>Jan 10 2020</td>\n",
       "      <td>7878.31</td>\n",
       "      <td>8166.55</td>\n",
       "      <td>7726.77</td>\n",
       "      <td>8166.55</td>\n",
       "      <td>28714583844</td>\n",
       "      <td>148249907277</td>\n",
       "    </tr>\n",
       "  </tbody>\n",
       "</table>\n",
       "</div>"
      ],
      "text/plain": [
       "          Date    Open*     High      Low  Close**       Volume    Market Cap\n",
       "0  Jan 14 2020  8140.93  8879.51  8140.93  8827.76  44841784107  160319484883\n",
       "1  Jan 13 2020  8189.77  8197.79  8079.70  8144.19  22482910688  147890525973\n",
       "2  Jan 12 2020  8033.26  8200.06  8009.06  8192.49  22903438381  148752956966\n",
       "3  Jan 11 2020  8162.19  8218.36  8029.64  8037.54  25521165085  145924199942\n",
       "4  Jan 10 2020  7878.31  8166.55  7726.77  8166.55  28714583844  148249907277"
      ]
     },
     "execution_count": 95,
     "metadata": {},
     "output_type": "execute_result"
    }
   ],
   "source": [
    "dataex.head()"
   ]
  },
  {
   "cell_type": "code",
   "execution_count": 96,
   "metadata": {},
   "outputs": [
    {
     "data": {
      "text/html": [
       "<div>\n",
       "<style scoped>\n",
       "    .dataframe tbody tr th:only-of-type {\n",
       "        vertical-align: middle;\n",
       "    }\n",
       "\n",
       "    .dataframe tbody tr th {\n",
       "        vertical-align: top;\n",
       "    }\n",
       "\n",
       "    .dataframe thead th {\n",
       "        text-align: right;\n",
       "    }\n",
       "</style>\n",
       "<table border=\"1\" class=\"dataframe\">\n",
       "  <thead>\n",
       "    <tr style=\"text-align: right;\">\n",
       "      <th></th>\n",
       "      <th>Date</th>\n",
       "      <th>Open*</th>\n",
       "      <th>High</th>\n",
       "      <th>Low</th>\n",
       "      <th>Close**</th>\n",
       "      <th>Volume</th>\n",
       "      <th>Market Cap</th>\n",
       "    </tr>\n",
       "  </thead>\n",
       "  <tbody>\n",
       "    <tr>\n",
       "      <th>26</th>\n",
       "      <td>Dec 19 2019</td>\n",
       "      <td>7277.59</td>\n",
       "      <td>7346.60</td>\n",
       "      <td>7041.38</td>\n",
       "      <td>7202.84</td>\n",
       "      <td>25904604416</td>\n",
       "      <td>130445758713</td>\n",
       "    </tr>\n",
       "    <tr>\n",
       "      <th>27</th>\n",
       "      <td>Dec 18 2019</td>\n",
       "      <td>6647.70</td>\n",
       "      <td>7324.98</td>\n",
       "      <td>6540.05</td>\n",
       "      <td>7276.80</td>\n",
       "      <td>31836522778</td>\n",
       "      <td>131754969804</td>\n",
       "    </tr>\n",
       "    <tr>\n",
       "      <th>28</th>\n",
       "      <td>Dec 17 2019</td>\n",
       "      <td>6931.32</td>\n",
       "      <td>6964.07</td>\n",
       "      <td>6587.97</td>\n",
       "      <td>6640.52</td>\n",
       "      <td>22363804217</td>\n",
       "      <td>120234244809</td>\n",
       "    </tr>\n",
       "    <tr>\n",
       "      <th>29</th>\n",
       "      <td>Dec 16 2019</td>\n",
       "      <td>7153.66</td>\n",
       "      <td>7171.17</td>\n",
       "      <td>6903.68</td>\n",
       "      <td>6932.48</td>\n",
       "      <td>20213265950</td>\n",
       "      <td>125515586952</td>\n",
       "    </tr>\n",
       "    <tr>\n",
       "      <th>30</th>\n",
       "      <td>Dec 15 2019</td>\n",
       "      <td>7124.24</td>\n",
       "      <td>7181.08</td>\n",
       "      <td>6924.38</td>\n",
       "      <td>7152.30</td>\n",
       "      <td>16881129804</td>\n",
       "      <td>129481424648</td>\n",
       "    </tr>\n",
       "  </tbody>\n",
       "</table>\n",
       "</div>"
      ],
      "text/plain": [
       "           Date    Open*     High      Low  Close**       Volume    Market Cap\n",
       "26  Dec 19 2019  7277.59  7346.60  7041.38  7202.84  25904604416  130445758713\n",
       "27  Dec 18 2019  6647.70  7324.98  6540.05  7276.80  31836522778  131754969804\n",
       "28  Dec 17 2019  6931.32  6964.07  6587.97  6640.52  22363804217  120234244809\n",
       "29  Dec 16 2019  7153.66  7171.17  6903.68  6932.48  20213265950  125515586952\n",
       "30  Dec 15 2019  7124.24  7181.08  6924.38  7152.30  16881129804  129481424648"
      ]
     },
     "execution_count": 96,
     "metadata": {},
     "output_type": "execute_result"
    }
   ],
   "source": [
    "dataex.tail()"
   ]
  },
  {
   "cell_type": "code",
   "execution_count": 98,
   "metadata": {},
   "outputs": [
    {
     "data": {
      "text/plain": [
       "Date          0\n",
       "Open*         0\n",
       "High          0\n",
       "Low           0\n",
       "Close**       0\n",
       "Volume        0\n",
       "Market Cap    0\n",
       "dtype: int64"
      ]
     },
     "execution_count": 98,
     "metadata": {},
     "output_type": "execute_result"
    }
   ],
   "source": [
    "dataex.isna().sum()"
   ]
  },
  {
   "cell_type": "markdown",
   "metadata": {},
   "source": [
    "la on part sur du csv propre sur lequel on peut travailler"
   ]
  },
  {
   "cell_type": "markdown",
   "metadata": {},
   "source": [
    "# alteration des tables"
   ]
  },
  {
   "cell_type": "markdown",
   "metadata": {},
   "source": [
    "les vues : l'utilisation d'inplace<br/>\n",
    "True on altere l'original<br/>\n",
    "False on renvoie une vue/copie<br/>"
   ]
  },
  {
   "cell_type": "code",
   "execution_count": 118,
   "metadata": {},
   "outputs": [],
   "source": [
    "dataex.rename(columns={\"Open*\":\"Open\"},inplace=True)"
   ]
  },
  {
   "cell_type": "markdown",
   "metadata": {},
   "source": [
    "modifie l'original"
   ]
  },
  {
   "cell_type": "raw",
   "metadata": {},
   "source": [
    "dataex = dataex.rename(columns={\"Open*\":\"Open\"})"
   ]
  },
  {
   "cell_type": "markdown",
   "metadata": {},
   "source": [
    "fait de meme"
   ]
  },
  {
   "cell_type": "raw",
   "metadata": {},
   "source": [
    "dataex[\"Open*\"].rename(\"Open\")"
   ]
  },
  {
   "cell_type": "markdown",
   "metadata": {},
   "source": [
    "ne modifie pas l'original"
   ]
  },
  {
   "cell_type": "code",
   "execution_count": 119,
   "metadata": {},
   "outputs": [
    {
     "data": {
      "text/html": [
       "<div>\n",
       "<style scoped>\n",
       "    .dataframe tbody tr th:only-of-type {\n",
       "        vertical-align: middle;\n",
       "    }\n",
       "\n",
       "    .dataframe tbody tr th {\n",
       "        vertical-align: top;\n",
       "    }\n",
       "\n",
       "    .dataframe thead th {\n",
       "        text-align: right;\n",
       "    }\n",
       "</style>\n",
       "<table border=\"1\" class=\"dataframe\">\n",
       "  <thead>\n",
       "    <tr style=\"text-align: right;\">\n",
       "      <th></th>\n",
       "      <th>Date</th>\n",
       "      <th>Open</th>\n",
       "      <th>High</th>\n",
       "      <th>Low</th>\n",
       "      <th>Close**</th>\n",
       "      <th>Volume</th>\n",
       "      <th>Market Cap</th>\n",
       "    </tr>\n",
       "  </thead>\n",
       "  <tbody>\n",
       "    <tr>\n",
       "      <th>0</th>\n",
       "      <td>Jan 14 2020</td>\n",
       "      <td>8140.93</td>\n",
       "      <td>8879.51</td>\n",
       "      <td>8140.93</td>\n",
       "      <td>8827.76</td>\n",
       "      <td>44841784107</td>\n",
       "      <td>160319484883</td>\n",
       "    </tr>\n",
       "    <tr>\n",
       "      <th>1</th>\n",
       "      <td>Jan 13 2020</td>\n",
       "      <td>8189.77</td>\n",
       "      <td>8197.79</td>\n",
       "      <td>8079.70</td>\n",
       "      <td>8144.19</td>\n",
       "      <td>22482910688</td>\n",
       "      <td>147890525973</td>\n",
       "    </tr>\n",
       "    <tr>\n",
       "      <th>2</th>\n",
       "      <td>Jan 12 2020</td>\n",
       "      <td>8033.26</td>\n",
       "      <td>8200.06</td>\n",
       "      <td>8009.06</td>\n",
       "      <td>8192.49</td>\n",
       "      <td>22903438381</td>\n",
       "      <td>148752956966</td>\n",
       "    </tr>\n",
       "    <tr>\n",
       "      <th>3</th>\n",
       "      <td>Jan 11 2020</td>\n",
       "      <td>8162.19</td>\n",
       "      <td>8218.36</td>\n",
       "      <td>8029.64</td>\n",
       "      <td>8037.54</td>\n",
       "      <td>25521165085</td>\n",
       "      <td>145924199942</td>\n",
       "    </tr>\n",
       "    <tr>\n",
       "      <th>4</th>\n",
       "      <td>Jan 10 2020</td>\n",
       "      <td>7878.31</td>\n",
       "      <td>8166.55</td>\n",
       "      <td>7726.77</td>\n",
       "      <td>8166.55</td>\n",
       "      <td>28714583844</td>\n",
       "      <td>148249907277</td>\n",
       "    </tr>\n",
       "  </tbody>\n",
       "</table>\n",
       "</div>"
      ],
      "text/plain": [
       "          Date     Open     High      Low  Close**       Volume    Market Cap\n",
       "0  Jan 14 2020  8140.93  8879.51  8140.93  8827.76  44841784107  160319484883\n",
       "1  Jan 13 2020  8189.77  8197.79  8079.70  8144.19  22482910688  147890525973\n",
       "2  Jan 12 2020  8033.26  8200.06  8009.06  8192.49  22903438381  148752956966\n",
       "3  Jan 11 2020  8162.19  8218.36  8029.64  8037.54  25521165085  145924199942\n",
       "4  Jan 10 2020  7878.31  8166.55  7726.77  8166.55  28714583844  148249907277"
      ]
     },
     "execution_count": 119,
     "metadata": {},
     "output_type": "execute_result"
    }
   ],
   "source": [
    "dataex.head()"
   ]
  },
  {
   "cell_type": "code",
   "execution_count": 120,
   "metadata": {},
   "outputs": [],
   "source": [
    "dataex.drop(\"Open\",axis='columns', inplace=True)"
   ]
  },
  {
   "cell_type": "markdown",
   "metadata": {},
   "source": [
    "ici on a definitvement detruit Open et rappeler la fonction renvoierai une erreur"
   ]
  },
  {
   "cell_type": "code",
   "execution_count": 121,
   "metadata": {
    "scrolled": true
   },
   "outputs": [
    {
     "data": {
      "text/html": [
       "<div>\n",
       "<style scoped>\n",
       "    .dataframe tbody tr th:only-of-type {\n",
       "        vertical-align: middle;\n",
       "    }\n",
       "\n",
       "    .dataframe tbody tr th {\n",
       "        vertical-align: top;\n",
       "    }\n",
       "\n",
       "    .dataframe thead th {\n",
       "        text-align: right;\n",
       "    }\n",
       "</style>\n",
       "<table border=\"1\" class=\"dataframe\">\n",
       "  <thead>\n",
       "    <tr style=\"text-align: right;\">\n",
       "      <th></th>\n",
       "      <th>Date</th>\n",
       "      <th>High</th>\n",
       "      <th>Low</th>\n",
       "      <th>Close**</th>\n",
       "      <th>Volume</th>\n",
       "      <th>Market Cap</th>\n",
       "    </tr>\n",
       "  </thead>\n",
       "  <tbody>\n",
       "    <tr>\n",
       "      <th>0</th>\n",
       "      <td>Jan 14 2020</td>\n",
       "      <td>8879.51</td>\n",
       "      <td>8140.93</td>\n",
       "      <td>8827.76</td>\n",
       "      <td>44841784107</td>\n",
       "      <td>160319484883</td>\n",
       "    </tr>\n",
       "    <tr>\n",
       "      <th>1</th>\n",
       "      <td>Jan 13 2020</td>\n",
       "      <td>8197.79</td>\n",
       "      <td>8079.70</td>\n",
       "      <td>8144.19</td>\n",
       "      <td>22482910688</td>\n",
       "      <td>147890525973</td>\n",
       "    </tr>\n",
       "    <tr>\n",
       "      <th>2</th>\n",
       "      <td>Jan 12 2020</td>\n",
       "      <td>8200.06</td>\n",
       "      <td>8009.06</td>\n",
       "      <td>8192.49</td>\n",
       "      <td>22903438381</td>\n",
       "      <td>148752956966</td>\n",
       "    </tr>\n",
       "    <tr>\n",
       "      <th>3</th>\n",
       "      <td>Jan 11 2020</td>\n",
       "      <td>8218.36</td>\n",
       "      <td>8029.64</td>\n",
       "      <td>8037.54</td>\n",
       "      <td>25521165085</td>\n",
       "      <td>145924199942</td>\n",
       "    </tr>\n",
       "    <tr>\n",
       "      <th>4</th>\n",
       "      <td>Jan 10 2020</td>\n",
       "      <td>8166.55</td>\n",
       "      <td>7726.77</td>\n",
       "      <td>8166.55</td>\n",
       "      <td>28714583844</td>\n",
       "      <td>148249907277</td>\n",
       "    </tr>\n",
       "  </tbody>\n",
       "</table>\n",
       "</div>"
      ],
      "text/plain": [
       "          Date     High      Low  Close**       Volume    Market Cap\n",
       "0  Jan 14 2020  8879.51  8140.93  8827.76  44841784107  160319484883\n",
       "1  Jan 13 2020  8197.79  8079.70  8144.19  22482910688  147890525973\n",
       "2  Jan 12 2020  8200.06  8009.06  8192.49  22903438381  148752956966\n",
       "3  Jan 11 2020  8218.36  8029.64  8037.54  25521165085  145924199942\n",
       "4  Jan 10 2020  8166.55  7726.77  8166.55  28714583844  148249907277"
      ]
     },
     "execution_count": 121,
     "metadata": {},
     "output_type": "execute_result"
    }
   ],
   "source": [
    "dataex.head()"
   ]
  },
  {
   "cell_type": "code",
   "execution_count": 127,
   "metadata": {},
   "outputs": [
    {
     "data": {
      "text/html": [
       "<div>\n",
       "<style scoped>\n",
       "    .dataframe tbody tr th:only-of-type {\n",
       "        vertical-align: middle;\n",
       "    }\n",
       "\n",
       "    .dataframe tbody tr th {\n",
       "        vertical-align: top;\n",
       "    }\n",
       "\n",
       "    .dataframe thead th {\n",
       "        text-align: right;\n",
       "    }\n",
       "</style>\n",
       "<table border=\"1\" class=\"dataframe\">\n",
       "  <thead>\n",
       "    <tr style=\"text-align: right;\">\n",
       "      <th></th>\n",
       "      <th>date</th>\n",
       "      <th>open*</th>\n",
       "      <th>high</th>\n",
       "      <th>low</th>\n",
       "      <th>close**</th>\n",
       "      <th>volume</th>\n",
       "      <th>market cap</th>\n",
       "    </tr>\n",
       "  </thead>\n",
       "  <tbody>\n",
       "    <tr>\n",
       "      <th>0</th>\n",
       "      <td>Jan 14 2020</td>\n",
       "      <td>8140.93</td>\n",
       "      <td>8879.51</td>\n",
       "      <td>8140.93</td>\n",
       "      <td>8827.76</td>\n",
       "      <td>44841784107</td>\n",
       "      <td>160319484883</td>\n",
       "    </tr>\n",
       "    <tr>\n",
       "      <th>1</th>\n",
       "      <td>Jan 13 2020</td>\n",
       "      <td>8189.77</td>\n",
       "      <td>8197.79</td>\n",
       "      <td>8079.70</td>\n",
       "      <td>8144.19</td>\n",
       "      <td>22482910688</td>\n",
       "      <td>147890525973</td>\n",
       "    </tr>\n",
       "    <tr>\n",
       "      <th>2</th>\n",
       "      <td>Jan 12 2020</td>\n",
       "      <td>8033.26</td>\n",
       "      <td>8200.06</td>\n",
       "      <td>8009.06</td>\n",
       "      <td>8192.49</td>\n",
       "      <td>22903438381</td>\n",
       "      <td>148752956966</td>\n",
       "    </tr>\n",
       "    <tr>\n",
       "      <th>3</th>\n",
       "      <td>Jan 11 2020</td>\n",
       "      <td>8162.19</td>\n",
       "      <td>8218.36</td>\n",
       "      <td>8029.64</td>\n",
       "      <td>8037.54</td>\n",
       "      <td>25521165085</td>\n",
       "      <td>145924199942</td>\n",
       "    </tr>\n",
       "    <tr>\n",
       "      <th>4</th>\n",
       "      <td>Jan 10 2020</td>\n",
       "      <td>7878.31</td>\n",
       "      <td>8166.55</td>\n",
       "      <td>7726.77</td>\n",
       "      <td>8166.55</td>\n",
       "      <td>28714583844</td>\n",
       "      <td>148249907277</td>\n",
       "    </tr>\n",
       "  </tbody>\n",
       "</table>\n",
       "</div>"
      ],
      "text/plain": [
       "          date    open*     high      low  close**       volume    market cap\n",
       "0  Jan 14 2020  8140.93  8879.51  8140.93  8827.76  44841784107  160319484883\n",
       "1  Jan 13 2020  8189.77  8197.79  8079.70  8144.19  22482910688  147890525973\n",
       "2  Jan 12 2020  8033.26  8200.06  8009.06  8192.49  22903438381  148752956966\n",
       "3  Jan 11 2020  8162.19  8218.36  8029.64  8037.54  25521165085  145924199942\n",
       "4  Jan 10 2020  7878.31  8166.55  7726.77  8166.55  28714583844  148249907277"
      ]
     },
     "execution_count": 127,
     "metadata": {},
     "output_type": "execute_result"
    }
   ],
   "source": [
    "dataex.rename(str.lower, axis='columns').head()"
   ]
  },
  {
   "cell_type": "code",
   "execution_count": null,
   "metadata": {},
   "outputs": [],
   "source": [
    "methode 1 pour remplacer les noms de colonnes problematiques"
   ]
  },
  {
   "cell_type": "code",
   "execution_count": 128,
   "metadata": {},
   "outputs": [],
   "source": [
    "def modif(s):\n",
    "    s = s.replace('*','')\n",
    "    s = s.replace(' ','_')\n",
    "    return s"
   ]
  },
  {
   "cell_type": "code",
   "execution_count": 146,
   "metadata": {},
   "outputs": [
    {
     "data": {
      "text/html": [
       "<div>\n",
       "<style scoped>\n",
       "    .dataframe tbody tr th:only-of-type {\n",
       "        vertical-align: middle;\n",
       "    }\n",
       "\n",
       "    .dataframe tbody tr th {\n",
       "        vertical-align: top;\n",
       "    }\n",
       "\n",
       "    .dataframe thead th {\n",
       "        text-align: right;\n",
       "    }\n",
       "</style>\n",
       "<table border=\"1\" class=\"dataframe\">\n",
       "  <thead>\n",
       "    <tr style=\"text-align: right;\">\n",
       "      <th></th>\n",
       "      <th>Date</th>\n",
       "      <th>Open</th>\n",
       "      <th>High</th>\n",
       "      <th>Low</th>\n",
       "      <th>Close</th>\n",
       "      <th>Volume</th>\n",
       "      <th>Market_Cap</th>\n",
       "    </tr>\n",
       "  </thead>\n",
       "  <tbody>\n",
       "    <tr>\n",
       "      <th>0</th>\n",
       "      <td>Jan 14 2020</td>\n",
       "      <td>8140.93</td>\n",
       "      <td>8879.51</td>\n",
       "      <td>8140.93</td>\n",
       "      <td>8827.76</td>\n",
       "      <td>44841784107</td>\n",
       "      <td>160319484883</td>\n",
       "    </tr>\n",
       "    <tr>\n",
       "      <th>1</th>\n",
       "      <td>Jan 13 2020</td>\n",
       "      <td>8189.77</td>\n",
       "      <td>8197.79</td>\n",
       "      <td>8079.70</td>\n",
       "      <td>8144.19</td>\n",
       "      <td>22482910688</td>\n",
       "      <td>147890525973</td>\n",
       "    </tr>\n",
       "    <tr>\n",
       "      <th>2</th>\n",
       "      <td>Jan 12 2020</td>\n",
       "      <td>8033.26</td>\n",
       "      <td>8200.06</td>\n",
       "      <td>8009.06</td>\n",
       "      <td>8192.49</td>\n",
       "      <td>22903438381</td>\n",
       "      <td>148752956966</td>\n",
       "    </tr>\n",
       "    <tr>\n",
       "      <th>3</th>\n",
       "      <td>Jan 11 2020</td>\n",
       "      <td>8162.19</td>\n",
       "      <td>8218.36</td>\n",
       "      <td>8029.64</td>\n",
       "      <td>8037.54</td>\n",
       "      <td>25521165085</td>\n",
       "      <td>145924199942</td>\n",
       "    </tr>\n",
       "    <tr>\n",
       "      <th>4</th>\n",
       "      <td>Jan 10 2020</td>\n",
       "      <td>7878.31</td>\n",
       "      <td>8166.55</td>\n",
       "      <td>7726.77</td>\n",
       "      <td>8166.55</td>\n",
       "      <td>28714583844</td>\n",
       "      <td>148249907277</td>\n",
       "    </tr>\n",
       "  </tbody>\n",
       "</table>\n",
       "</div>"
      ],
      "text/plain": [
       "          Date     Open     High      Low    Close       Volume    Market_Cap\n",
       "0  Jan 14 2020  8140.93  8879.51  8140.93  8827.76  44841784107  160319484883\n",
       "1  Jan 13 2020  8189.77  8197.79  8079.70  8144.19  22482910688  147890525973\n",
       "2  Jan 12 2020  8033.26  8200.06  8009.06  8192.49  22903438381  148752956966\n",
       "3  Jan 11 2020  8162.19  8218.36  8029.64  8037.54  25521165085  145924199942\n",
       "4  Jan 10 2020  7878.31  8166.55  7726.77  8166.55  28714583844  148249907277"
      ]
     },
     "execution_count": 146,
     "metadata": {},
     "output_type": "execute_result"
    }
   ],
   "source": [
    "dataex.rename(modif, axis='columns').head()"
   ]
  },
  {
   "cell_type": "code",
   "execution_count": 131,
   "metadata": {},
   "outputs": [
    {
     "data": {
      "text/plain": [
       "Index(['Date', 'Open', 'High', 'Low', 'Close', 'Volume', 'Market Cap'], dtype='object')"
      ]
     },
     "execution_count": 131,
     "metadata": {},
     "output_type": "execute_result"
    }
   ],
   "source": [
    "dataex.columns.str.replace('*','')"
   ]
  },
  {
   "cell_type": "code",
   "execution_count": 132,
   "metadata": {},
   "outputs": [
    {
     "data": {
      "text/plain": [
       "Index(['Date', 'Open*', 'High', 'Low', 'Close**', 'Volume', 'Market_Cap'], dtype='object')"
      ]
     },
     "execution_count": 132,
     "metadata": {},
     "output_type": "execute_result"
    }
   ],
   "source": [
    "dataex.columns.str.replace(' ','_')"
   ]
  },
  {
   "cell_type": "markdown",
   "metadata": {},
   "source": [
    "## mise en pratique"
   ]
  },
  {
   "cell_type": "code",
   "execution_count": 156,
   "metadata": {},
   "outputs": [],
   "source": [
    "d = {'col1': [1, 2], 'col2': [3, 4]}\n",
    "\n",
    "df = pd.DataFrame(data=d)"
   ]
  },
  {
   "cell_type": "markdown",
   "metadata": {},
   "source": [
    "methode 2 : utilisation du module str"
   ]
  },
  {
   "cell_type": "code",
   "execution_count": 157,
   "metadata": {},
   "outputs": [],
   "source": [
    "df.columns = df.columns.str.replace('col','in*t ')"
   ]
  },
  {
   "cell_type": "code",
   "execution_count": 158,
   "metadata": {},
   "outputs": [
    {
     "data": {
      "text/html": [
       "<div>\n",
       "<style scoped>\n",
       "    .dataframe tbody tr th:only-of-type {\n",
       "        vertical-align: middle;\n",
       "    }\n",
       "\n",
       "    .dataframe tbody tr th {\n",
       "        vertical-align: top;\n",
       "    }\n",
       "\n",
       "    .dataframe thead th {\n",
       "        text-align: right;\n",
       "    }\n",
       "</style>\n",
       "<table border=\"1\" class=\"dataframe\">\n",
       "  <thead>\n",
       "    <tr style=\"text-align: right;\">\n",
       "      <th></th>\n",
       "      <th>in*t 1</th>\n",
       "      <th>in*t 2</th>\n",
       "    </tr>\n",
       "  </thead>\n",
       "  <tbody>\n",
       "    <tr>\n",
       "      <th>0</th>\n",
       "      <td>1</td>\n",
       "      <td>3</td>\n",
       "    </tr>\n",
       "    <tr>\n",
       "      <th>1</th>\n",
       "      <td>2</td>\n",
       "      <td>4</td>\n",
       "    </tr>\n",
       "  </tbody>\n",
       "</table>\n",
       "</div>"
      ],
      "text/plain": [
       "   in*t 1  in*t 2\n",
       "0       1       3\n",
       "1       2       4"
      ]
     },
     "execution_count": 158,
     "metadata": {},
     "output_type": "execute_result"
    }
   ],
   "source": [
    "df"
   ]
  },
  {
   "cell_type": "markdown",
   "metadata": {},
   "source": [
    "methode 1 : rename + mapper"
   ]
  },
  {
   "cell_type": "code",
   "execution_count": 159,
   "metadata": {},
   "outputs": [
    {
     "data": {
      "text/html": [
       "<div>\n",
       "<style scoped>\n",
       "    .dataframe tbody tr th:only-of-type {\n",
       "        vertical-align: middle;\n",
       "    }\n",
       "\n",
       "    .dataframe tbody tr th {\n",
       "        vertical-align: top;\n",
       "    }\n",
       "\n",
       "    .dataframe thead th {\n",
       "        text-align: right;\n",
       "    }\n",
       "</style>\n",
       "<table border=\"1\" class=\"dataframe\">\n",
       "  <thead>\n",
       "    <tr style=\"text-align: right;\">\n",
       "      <th></th>\n",
       "      <th>int_1</th>\n",
       "      <th>int_2</th>\n",
       "    </tr>\n",
       "  </thead>\n",
       "  <tbody>\n",
       "    <tr>\n",
       "      <th>0</th>\n",
       "      <td>1</td>\n",
       "      <td>3</td>\n",
       "    </tr>\n",
       "    <tr>\n",
       "      <th>1</th>\n",
       "      <td>2</td>\n",
       "      <td>4</td>\n",
       "    </tr>\n",
       "  </tbody>\n",
       "</table>\n",
       "</div>"
      ],
      "text/plain": [
       "   int_1  int_2\n",
       "0      1      3\n",
       "1      2      4"
      ]
     },
     "execution_count": 159,
     "metadata": {},
     "output_type": "execute_result"
    }
   ],
   "source": [
    "df.rename(modif, axis='columns').head()"
   ]
  },
  {
   "cell_type": "code",
   "execution_count": null,
   "metadata": {},
   "outputs": [],
   "source": []
  }
 ],
 "metadata": {
  "kernelspec": {
   "display_name": "Python 3",
   "language": "python",
   "name": "python3"
  },
  "language_info": {
   "codemirror_mode": {
    "name": "ipython",
    "version": 3
   },
   "file_extension": ".py",
   "mimetype": "text/x-python",
   "name": "python",
   "nbconvert_exporter": "python",
   "pygments_lexer": "ipython3",
   "version": "3.8.2"
  },
  "toc": {
   "base_numbering": 1,
   "nav_menu": {},
   "number_sections": true,
   "sideBar": true,
   "skip_h1_title": false,
   "title_cell": "Table of Contents",
   "title_sidebar": "Contents",
   "toc_cell": false,
   "toc_position": {},
   "toc_section_display": true,
   "toc_window_display": false
  },
  "varInspector": {
   "cols": {
    "lenName": 16,
    "lenType": 16,
    "lenVar": 40
   },
   "kernels_config": {
    "python": {
     "delete_cmd_postfix": "",
     "delete_cmd_prefix": "del ",
     "library": "var_list.py",
     "varRefreshCmd": "print(var_dic_list())"
    },
    "r": {
     "delete_cmd_postfix": ") ",
     "delete_cmd_prefix": "rm(",
     "library": "var_list.r",
     "varRefreshCmd": "cat(var_dic_list()) "
    }
   },
   "types_to_exclude": [
    "module",
    "function",
    "builtin_function_or_method",
    "instance",
    "_Feature"
   ],
   "window_display": false
  }
 },
 "nbformat": 4,
 "nbformat_minor": 4
}
